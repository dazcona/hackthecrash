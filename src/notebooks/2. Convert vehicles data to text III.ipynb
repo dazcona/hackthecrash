{
 "cells": [
  {
   "cell_type": "markdown",
   "metadata": {},
   "source": [
    "### Read data"
   ]
  },
  {
   "cell_type": "code",
   "execution_count": 1,
   "metadata": {},
   "outputs": [],
   "source": [
    "import os\n",
    "import pandas as pd\n",
    "import numpy as np\n",
    "import matplotlib.pyplot as plt"
   ]
  },
  {
   "cell_type": "code",
   "execution_count": 2,
   "metadata": {},
   "outputs": [],
   "source": [
    "data_path = '../../data/'"
   ]
  },
  {
   "cell_type": "markdown",
   "metadata": {},
   "source": [
    "### Read data"
   ]
  },
  {
   "cell_type": "code",
   "execution_count": 3,
   "metadata": {},
   "outputs": [],
   "source": [
    "df_vehicles = pd.read_csv(os.path.join(data_path, 'vehicles.csv'))"
   ]
  },
  {
   "cell_type": "code",
   "execution_count": 4,
   "metadata": {},
   "outputs": [
    {
     "data": {
      "text/html": [
       "<div>\n",
       "<style scoped>\n",
       "    .dataframe tbody tr th:only-of-type {\n",
       "        vertical-align: middle;\n",
       "    }\n",
       "\n",
       "    .dataframe tbody tr th {\n",
       "        vertical-align: top;\n",
       "    }\n",
       "\n",
       "    .dataframe thead th {\n",
       "        text-align: right;\n",
       "    }\n",
       "</style>\n",
       "<table border=\"1\" class=\"dataframe\">\n",
       "  <thead>\n",
       "    <tr style=\"text-align: right;\">\n",
       "      <th></th>\n",
       "      <th>accident_id</th>\n",
       "      <th>Vehicle_Reference</th>\n",
       "      <th>Vehicle_Type</th>\n",
       "      <th>Towing_and_Articulation</th>\n",
       "      <th>Vehicle_Manoeuvre</th>\n",
       "      <th>Vehicle_Location-Restricted_Lane</th>\n",
       "      <th>Junction_Location</th>\n",
       "      <th>Skidding_and_Overturning</th>\n",
       "      <th>Hit_Object_in_Carriageway</th>\n",
       "      <th>Vehicle_Leaving_Carriageway</th>\n",
       "      <th>...</th>\n",
       "      <th>Was_Vehicle_Left_Hand_Drive?</th>\n",
       "      <th>Journey_Purpose_of_Driver</th>\n",
       "      <th>Sex_of_Driver</th>\n",
       "      <th>Age_of_Driver</th>\n",
       "      <th>Engine_Capacity_(CC)</th>\n",
       "      <th>Propulsion_Code</th>\n",
       "      <th>Age_of_Vehicle</th>\n",
       "      <th>Driver_IMD_Decile</th>\n",
       "      <th>Driver_Home_Area_Type</th>\n",
       "      <th>Vehicle_IMD_Decile</th>\n",
       "    </tr>\n",
       "  </thead>\n",
       "  <tbody>\n",
       "    <tr>\n",
       "      <th>0</th>\n",
       "      <td>430245</td>\n",
       "      <td>1</td>\n",
       "      <td>Car</td>\n",
       "      <td>No tow/articulation</td>\n",
       "      <td>Going ahead other</td>\n",
       "      <td>On main c'way - not in restricted lane</td>\n",
       "      <td>Approaching junction or waiting/parked at junc...</td>\n",
       "      <td>None</td>\n",
       "      <td>None</td>\n",
       "      <td>Did not leave carriageway</td>\n",
       "      <td>...</td>\n",
       "      <td>No</td>\n",
       "      <td>Other</td>\n",
       "      <td>Male</td>\n",
       "      <td>18.0</td>\n",
       "      <td>1299.0</td>\n",
       "      <td>Petrol</td>\n",
       "      <td>16.0</td>\n",
       "      <td>4.0</td>\n",
       "      <td>3.0</td>\n",
       "      <td>4.0</td>\n",
       "    </tr>\n",
       "    <tr>\n",
       "      <th>1</th>\n",
       "      <td>430245</td>\n",
       "      <td>2</td>\n",
       "      <td>Car</td>\n",
       "      <td>No tow/articulation</td>\n",
       "      <td>Waiting to go - held up</td>\n",
       "      <td>On main c'way - not in restricted lane</td>\n",
       "      <td>Approaching junction or waiting/parked at junc...</td>\n",
       "      <td>None</td>\n",
       "      <td>None</td>\n",
       "      <td>Did not leave carriageway</td>\n",
       "      <td>...</td>\n",
       "      <td>No</td>\n",
       "      <td>Journey as part of work</td>\n",
       "      <td>Female</td>\n",
       "      <td>24.0</td>\n",
       "      <td>1598.0</td>\n",
       "      <td>Heavy oil</td>\n",
       "      <td>1.0</td>\n",
       "      <td>9.0</td>\n",
       "      <td>1.0</td>\n",
       "      <td>9.0</td>\n",
       "    </tr>\n",
       "    <tr>\n",
       "      <th>2</th>\n",
       "      <td>387170</td>\n",
       "      <td>1</td>\n",
       "      <td>Car</td>\n",
       "      <td>No tow/articulation</td>\n",
       "      <td>Going ahead other</td>\n",
       "      <td>On main c'way - not in restricted lane</td>\n",
       "      <td>Not at or within 20 metres of junction</td>\n",
       "      <td>None</td>\n",
       "      <td>None</td>\n",
       "      <td>Did not leave carriageway</td>\n",
       "      <td>...</td>\n",
       "      <td>No</td>\n",
       "      <td>Journey as part of work</td>\n",
       "      <td>Male</td>\n",
       "      <td>54.0</td>\n",
       "      <td>-1.0</td>\n",
       "      <td>-1</td>\n",
       "      <td>-1.0</td>\n",
       "      <td>8.0</td>\n",
       "      <td>3.0</td>\n",
       "      <td>8.0</td>\n",
       "    </tr>\n",
       "    <tr>\n",
       "      <th>3</th>\n",
       "      <td>326114</td>\n",
       "      <td>1</td>\n",
       "      <td>Car</td>\n",
       "      <td>No tow/articulation</td>\n",
       "      <td>Turning right</td>\n",
       "      <td>On main c'way - not in restricted lane</td>\n",
       "      <td>Leaving main road</td>\n",
       "      <td>None</td>\n",
       "      <td>None</td>\n",
       "      <td>Did not leave carriageway</td>\n",
       "      <td>...</td>\n",
       "      <td>No</td>\n",
       "      <td>Not known</td>\n",
       "      <td>Female</td>\n",
       "      <td>38.0</td>\n",
       "      <td>2935.0</td>\n",
       "      <td>Petrol</td>\n",
       "      <td>22.0</td>\n",
       "      <td>2.0</td>\n",
       "      <td>1.0</td>\n",
       "      <td>2.0</td>\n",
       "    </tr>\n",
       "    <tr>\n",
       "      <th>4</th>\n",
       "      <td>326114</td>\n",
       "      <td>2</td>\n",
       "      <td>Motorcycle over 125cc and up to 500cc</td>\n",
       "      <td>No tow/articulation</td>\n",
       "      <td>Going ahead other</td>\n",
       "      <td>On main c'way - not in restricted lane</td>\n",
       "      <td>Approaching junction or waiting/parked at junc...</td>\n",
       "      <td>Overturned</td>\n",
       "      <td>None</td>\n",
       "      <td>Did not leave carriageway</td>\n",
       "      <td>...</td>\n",
       "      <td>No</td>\n",
       "      <td>Other</td>\n",
       "      <td>Male</td>\n",
       "      <td>21.0</td>\n",
       "      <td>399.0</td>\n",
       "      <td>Petrol</td>\n",
       "      <td>25.0</td>\n",
       "      <td>5.0</td>\n",
       "      <td>1.0</td>\n",
       "      <td>5.0</td>\n",
       "    </tr>\n",
       "  </tbody>\n",
       "</table>\n",
       "<p>5 rows × 22 columns</p>\n",
       "</div>"
      ],
      "text/plain": [
       "   accident_id  Vehicle_Reference                           Vehicle_Type  \\\n",
       "0       430245                  1                                    Car   \n",
       "1       430245                  2                                    Car   \n",
       "2       387170                  1                                    Car   \n",
       "3       326114                  1                                    Car   \n",
       "4       326114                  2  Motorcycle over 125cc and up to 500cc   \n",
       "\n",
       "  Towing_and_Articulation        Vehicle_Manoeuvre  \\\n",
       "0     No tow/articulation        Going ahead other   \n",
       "1     No tow/articulation  Waiting to go - held up   \n",
       "2     No tow/articulation        Going ahead other   \n",
       "3     No tow/articulation            Turning right   \n",
       "4     No tow/articulation        Going ahead other   \n",
       "\n",
       "         Vehicle_Location-Restricted_Lane  \\\n",
       "0  On main c'way - not in restricted lane   \n",
       "1  On main c'way - not in restricted lane   \n",
       "2  On main c'way - not in restricted lane   \n",
       "3  On main c'way - not in restricted lane   \n",
       "4  On main c'way - not in restricted lane   \n",
       "\n",
       "                                   Junction_Location Skidding_and_Overturning  \\\n",
       "0  Approaching junction or waiting/parked at junc...                     None   \n",
       "1  Approaching junction or waiting/parked at junc...                     None   \n",
       "2             Not at or within 20 metres of junction                     None   \n",
       "3                                  Leaving main road                     None   \n",
       "4  Approaching junction or waiting/parked at junc...               Overturned   \n",
       "\n",
       "  Hit_Object_in_Carriageway Vehicle_Leaving_Carriageway  ...  \\\n",
       "0                      None   Did not leave carriageway  ...   \n",
       "1                      None   Did not leave carriageway  ...   \n",
       "2                      None   Did not leave carriageway  ...   \n",
       "3                      None   Did not leave carriageway  ...   \n",
       "4                      None   Did not leave carriageway  ...   \n",
       "\n",
       "  Was_Vehicle_Left_Hand_Drive? Journey_Purpose_of_Driver Sex_of_Driver  \\\n",
       "0                           No                     Other          Male   \n",
       "1                           No   Journey as part of work        Female   \n",
       "2                           No   Journey as part of work          Male   \n",
       "3                           No                 Not known        Female   \n",
       "4                           No                     Other          Male   \n",
       "\n",
       "  Age_of_Driver Engine_Capacity_(CC)  Propulsion_Code  Age_of_Vehicle  \\\n",
       "0          18.0               1299.0           Petrol            16.0   \n",
       "1          24.0               1598.0        Heavy oil             1.0   \n",
       "2          54.0                 -1.0               -1            -1.0   \n",
       "3          38.0               2935.0           Petrol            22.0   \n",
       "4          21.0                399.0           Petrol            25.0   \n",
       "\n",
       "  Driver_IMD_Decile  Driver_Home_Area_Type  Vehicle_IMD_Decile  \n",
       "0               4.0                    3.0                 4.0  \n",
       "1               9.0                    1.0                 9.0  \n",
       "2               8.0                    3.0                 8.0  \n",
       "3               2.0                    1.0                 2.0  \n",
       "4               5.0                    1.0                 5.0  \n",
       "\n",
       "[5 rows x 22 columns]"
      ]
     },
     "execution_count": 4,
     "metadata": {},
     "output_type": "execute_result"
    }
   ],
   "source": [
    "df_vehicles.head()"
   ]
  },
  {
   "cell_type": "code",
   "execution_count": 5,
   "metadata": {},
   "outputs": [
    {
     "data": {
      "text/plain": [
       "accident_id                           int64\n",
       "Vehicle_Reference                     int64\n",
       "Vehicle_Type                         object\n",
       "Towing_and_Articulation              object\n",
       "Vehicle_Manoeuvre                    object\n",
       "Vehicle_Location-Restricted_Lane     object\n",
       "Junction_Location                    object\n",
       "Skidding_and_Overturning             object\n",
       "Hit_Object_in_Carriageway            object\n",
       "Vehicle_Leaving_Carriageway          object\n",
       "Hit_Object_off_Carriageway           object\n",
       "1st_Point_of_Impact                  object\n",
       "Was_Vehicle_Left_Hand_Drive?         object\n",
       "Journey_Purpose_of_Driver            object\n",
       "Sex_of_Driver                        object\n",
       "Age_of_Driver                       float64\n",
       "Engine_Capacity_(CC)                float64\n",
       "Propulsion_Code                      object\n",
       "Age_of_Vehicle                      float64\n",
       "Driver_IMD_Decile                   float64\n",
       "Driver_Home_Area_Type               float64\n",
       "Vehicle_IMD_Decile                  float64\n",
       "dtype: object"
      ]
     },
     "execution_count": 5,
     "metadata": {},
     "output_type": "execute_result"
    }
   ],
   "source": [
    "df_vehicles.dtypes"
   ]
  },
  {
   "cell_type": "code",
   "execution_count": 6,
   "metadata": {},
   "outputs": [],
   "source": [
    "# df_vehicles.groupby('accident_id')['Vehicle_Type'].apply(','.join)"
   ]
  },
  {
   "cell_type": "code",
   "execution_count": 7,
   "metadata": {},
   "outputs": [],
   "source": [
    "vehicles_cols = list(df_vehicles.columns)"
   ]
  },
  {
   "cell_type": "code",
   "execution_count": 8,
   "metadata": {},
   "outputs": [
    {
     "data": {
      "text/plain": [
       "['accident_id',\n",
       " 'Vehicle_Reference',\n",
       " 'Vehicle_Type',\n",
       " 'Towing_and_Articulation',\n",
       " 'Vehicle_Manoeuvre',\n",
       " 'Vehicle_Location-Restricted_Lane',\n",
       " 'Junction_Location',\n",
       " 'Skidding_and_Overturning',\n",
       " 'Hit_Object_in_Carriageway',\n",
       " 'Vehicle_Leaving_Carriageway',\n",
       " 'Hit_Object_off_Carriageway',\n",
       " '1st_Point_of_Impact',\n",
       " 'Was_Vehicle_Left_Hand_Drive?',\n",
       " 'Journey_Purpose_of_Driver',\n",
       " 'Sex_of_Driver',\n",
       " 'Age_of_Driver',\n",
       " 'Engine_Capacity_(CC)',\n",
       " 'Propulsion_Code',\n",
       " 'Age_of_Vehicle',\n",
       " 'Driver_IMD_Decile',\n",
       " 'Driver_Home_Area_Type',\n",
       " 'Vehicle_IMD_Decile']"
      ]
     },
     "execution_count": 8,
     "metadata": {},
     "output_type": "execute_result"
    }
   ],
   "source": [
    "vehicles_cols"
   ]
  },
  {
   "cell_type": "code",
   "execution_count": 9,
   "metadata": {},
   "outputs": [],
   "source": [
    "vehicles_cols.remove('accident_id')"
   ]
  },
  {
   "cell_type": "code",
   "execution_count": 10,
   "metadata": {},
   "outputs": [],
   "source": [
    "vehicles_cols.remove('Vehicle_Reference')"
   ]
  },
  {
   "cell_type": "markdown",
   "metadata": {},
   "source": [
    "**Note:** for ethical considerations we remove the sex of the driver"
   ]
  },
  {
   "cell_type": "code",
   "execution_count": 11,
   "metadata": {},
   "outputs": [],
   "source": [
    "vehicles_cols.remove('Sex_of_Driver')"
   ]
  },
  {
   "cell_type": "code",
   "execution_count": 12,
   "metadata": {},
   "outputs": [
    {
     "data": {
      "text/plain": [
       "['Vehicle_Type',\n",
       " 'Towing_and_Articulation',\n",
       " 'Vehicle_Manoeuvre',\n",
       " 'Vehicle_Location-Restricted_Lane',\n",
       " 'Junction_Location',\n",
       " 'Skidding_and_Overturning',\n",
       " 'Hit_Object_in_Carriageway',\n",
       " 'Vehicle_Leaving_Carriageway',\n",
       " 'Hit_Object_off_Carriageway',\n",
       " '1st_Point_of_Impact',\n",
       " 'Was_Vehicle_Left_Hand_Drive?',\n",
       " 'Journey_Purpose_of_Driver',\n",
       " 'Age_of_Driver',\n",
       " 'Engine_Capacity_(CC)',\n",
       " 'Propulsion_Code',\n",
       " 'Age_of_Vehicle',\n",
       " 'Driver_IMD_Decile',\n",
       " 'Driver_Home_Area_Type',\n",
       " 'Vehicle_IMD_Decile']"
      ]
     },
     "execution_count": 12,
     "metadata": {},
     "output_type": "execute_result"
    }
   ],
   "source": [
    "vehicles_cols"
   ]
  },
  {
   "cell_type": "code",
   "execution_count": 13,
   "metadata": {},
   "outputs": [
    {
     "data": {
      "text/plain": [
       "19"
      ]
     },
     "execution_count": 13,
     "metadata": {},
     "output_type": "execute_result"
    }
   ],
   "source": [
    "len(vehicles_cols)"
   ]
  },
  {
   "cell_type": "code",
   "execution_count": 14,
   "metadata": {},
   "outputs": [],
   "source": [
    "numeric_cols = [\n",
    "    'Age_of_Driver',\n",
    "    'Age_of_Vehicle',\n",
    "]"
   ]
  },
  {
   "cell_type": "code",
   "execution_count": 27,
   "metadata": {},
   "outputs": [],
   "source": [
    "category_cols = [\n",
    "    'Vehicle_Type',\n",
    "    'Towing_and_Articulation',\n",
    "    'Vehicle_Manoeuvre',\n",
    "    'Vehicle_Location-Restricted_Lane',\n",
    "    'Junction_Location',\n",
    "    'Skidding_and_Overturning',\n",
    "    'Hit_Object_in_Carriageway',\n",
    "    'Vehicle_Leaving_Carriageway',\n",
    "    'Hit_Object_off_Carriageway',\n",
    "    '1st_Point_of_Impact',\n",
    "]"
   ]
  },
  {
   "cell_type": "code",
   "execution_count": 22,
   "metadata": {},
   "outputs": [],
   "source": [
    "dict_vehicles_cols = {}"
   ]
  },
  {
   "cell_type": "code",
   "execution_count": 23,
   "metadata": {},
   "outputs": [],
   "source": [
    "dict_vehicles_cols['Vehicle_Reference'] = 'count'"
   ]
  },
  {
   "cell_type": "code",
   "execution_count": 24,
   "metadata": {},
   "outputs": [],
   "source": [
    "for numeric_col in numeric_cols:\n",
    "    dict_vehicles_cols[numeric_col] = 'sum'"
   ]
  },
  {
   "cell_type": "code",
   "execution_count": 29,
   "metadata": {},
   "outputs": [],
   "source": [
    "# for category_col in category_cols:\n",
    "#     dict_vehicles_cols[category_col] = lambda x: category_col + ': ' + x[category_col].join(', ') if category_col in x else ''"
   ]
  },
  {
   "cell_type": "code",
   "execution_count": 30,
   "metadata": {
    "scrolled": false
   },
   "outputs": [],
   "source": [
    "df_grouped = df_vehicles.groupby('accident_id').agg(dict_vehicles_cols)"
   ]
  },
  {
   "cell_type": "code",
   "execution_count": 31,
   "metadata": {
    "scrolled": false
   },
   "outputs": [
    {
     "data": {
      "text/plain": [
       "(244091, 13)"
      ]
     },
     "execution_count": 31,
     "metadata": {},
     "output_type": "execute_result"
    }
   ],
   "source": [
    "df_grouped.shape"
   ]
  },
  {
   "cell_type": "code",
   "execution_count": 32,
   "metadata": {},
   "outputs": [],
   "source": [
    "with open('../../data/grouped_vehicles.csv', 'w') as f:\n",
    "    f.write(df_grouped.to_csv(index=True))"
   ]
  }
 ],
 "metadata": {
  "kernelspec": {
   "display_name": "Python 3",
   "language": "python",
   "name": "python3"
  },
  "language_info": {
   "codemirror_mode": {
    "name": "ipython",
    "version": 3
   },
   "file_extension": ".py",
   "mimetype": "text/x-python",
   "name": "python",
   "nbconvert_exporter": "python",
   "pygments_lexer": "ipython3",
   "version": "3.5.2"
  }
 },
 "nbformat": 4,
 "nbformat_minor": 2
}
