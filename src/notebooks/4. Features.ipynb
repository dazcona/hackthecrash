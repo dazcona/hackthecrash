{
 "cells": [
  {
   "cell_type": "markdown",
   "metadata": {},
   "source": [
    "# Features"
   ]
  },
  {
   "cell_type": "code",
   "execution_count": 1,
   "metadata": {},
   "outputs": [],
   "source": [
    "import os\n",
    "import pandas as pd\n",
    "import numpy as np"
   ]
  },
  {
   "cell_type": "code",
   "execution_count": 2,
   "metadata": {},
   "outputs": [],
   "source": [
    "data_path = '../../data/'"
   ]
  },
  {
   "cell_type": "code",
   "execution_count": 3,
   "metadata": {},
   "outputs": [],
   "source": [
    "df = pd.read_csv(os.path.join(data_path, 'accidents_with_vehicles.csv'))"
   ]
  },
  {
   "cell_type": "code",
   "execution_count": 4,
   "metadata": {},
   "outputs": [
    {
     "data": {
      "text/html": [
       "<div>\n",
       "<style scoped>\n",
       "    .dataframe tbody tr th:only-of-type {\n",
       "        vertical-align: middle;\n",
       "    }\n",
       "\n",
       "    .dataframe tbody tr th {\n",
       "        vertical-align: top;\n",
       "    }\n",
       "\n",
       "    .dataframe thead th {\n",
       "        text-align: right;\n",
       "    }\n",
       "</style>\n",
       "<table border=\"1\" class=\"dataframe\">\n",
       "  <thead>\n",
       "    <tr style=\"text-align: right;\">\n",
       "      <th></th>\n",
       "      <th>accident_id</th>\n",
       "      <th>location_easting_osgr</th>\n",
       "      <th>location_northing_osgr</th>\n",
       "      <th>longitude</th>\n",
       "      <th>latitude</th>\n",
       "      <th>number_of_vehicles</th>\n",
       "      <th>number_of_casualties</th>\n",
       "      <th>date</th>\n",
       "      <th>time</th>\n",
       "      <th>1st_road_class</th>\n",
       "      <th>...</th>\n",
       "      <th>road_surface_conditions</th>\n",
       "      <th>special_conditions_at_site</th>\n",
       "      <th>carriageway_hazards</th>\n",
       "      <th>urban_or_rural_area</th>\n",
       "      <th>lsoa_of_accident_location</th>\n",
       "      <th>police_force</th>\n",
       "      <th>local_authority_district</th>\n",
       "      <th>local_authority_highway</th>\n",
       "      <th>target</th>\n",
       "      <th>all_vehicles</th>\n",
       "    </tr>\n",
       "  </thead>\n",
       "  <tbody>\n",
       "    <tr>\n",
       "      <th>0</th>\n",
       "      <td>359433</td>\n",
       "      <td>519310.0</td>\n",
       "      <td>188730.0</td>\n",
       "      <td>-0.279323</td>\n",
       "      <td>51.584754</td>\n",
       "      <td>2</td>\n",
       "      <td>1</td>\n",
       "      <td>2016-01-11</td>\n",
       "      <td>02:30</td>\n",
       "      <td>A</td>\n",
       "      <td>...</td>\n",
       "      <td>Dry</td>\n",
       "      <td>None</td>\n",
       "      <td>None</td>\n",
       "      <td>Urban</td>\n",
       "      <td>E01000543</td>\n",
       "      <td>Metropolitan Police</td>\n",
       "      <td>Brent</td>\n",
       "      <td>Brent</td>\n",
       "      <td>0</td>\n",
       "      <td>1 Taxi/Private hire car No tow/articulation U...</td>\n",
       "    </tr>\n",
       "    <tr>\n",
       "      <th>1</th>\n",
       "      <td>446617</td>\n",
       "      <td>551920.0</td>\n",
       "      <td>174560.0</td>\n",
       "      <td>0.184928</td>\n",
       "      <td>51.449595</td>\n",
       "      <td>1</td>\n",
       "      <td>1</td>\n",
       "      <td>2016-01-11</td>\n",
       "      <td>00:37</td>\n",
       "      <td>A</td>\n",
       "      <td>...</td>\n",
       "      <td>Dry</td>\n",
       "      <td>None</td>\n",
       "      <td>None</td>\n",
       "      <td>Urban</td>\n",
       "      <td>E01000375</td>\n",
       "      <td>Metropolitan Police</td>\n",
       "      <td>Bexley</td>\n",
       "      <td>Bexley</td>\n",
       "      <td>0</td>\n",
       "      <td>1 Car No tow/articulation Going ahead other O...</td>\n",
       "    </tr>\n",
       "    <tr>\n",
       "      <th>2</th>\n",
       "      <td>342312</td>\n",
       "      <td>505930.0</td>\n",
       "      <td>183850.0</td>\n",
       "      <td>-0.473837</td>\n",
       "      <td>51.543563</td>\n",
       "      <td>1</td>\n",
       "      <td>1</td>\n",
       "      <td>2016-01-11</td>\n",
       "      <td>01:25</td>\n",
       "      <td>A</td>\n",
       "      <td>...</td>\n",
       "      <td>Dry</td>\n",
       "      <td>None</td>\n",
       "      <td>None</td>\n",
       "      <td>Urban</td>\n",
       "      <td>E01033725</td>\n",
       "      <td>Metropolitan Police</td>\n",
       "      <td>Hillingdon</td>\n",
       "      <td>Hillingdon</td>\n",
       "      <td>0</td>\n",
       "      <td>1 Car No tow/articulation Going ahead other O...</td>\n",
       "    </tr>\n",
       "    <tr>\n",
       "      <th>3</th>\n",
       "      <td>495118</td>\n",
       "      <td>527770.0</td>\n",
       "      <td>168930.0</td>\n",
       "      <td>-0.164442</td>\n",
       "      <td>51.404958</td>\n",
       "      <td>1</td>\n",
       "      <td>1</td>\n",
       "      <td>2016-01-11</td>\n",
       "      <td>09:15</td>\n",
       "      <td>A</td>\n",
       "      <td>...</td>\n",
       "      <td>Dry</td>\n",
       "      <td>None</td>\n",
       "      <td>None</td>\n",
       "      <td>Urban</td>\n",
       "      <td>E01003379</td>\n",
       "      <td>Metropolitan Police</td>\n",
       "      <td>Merton</td>\n",
       "      <td>Merton</td>\n",
       "      <td>0</td>\n",
       "      <td>1 Bus or coach (17 or more pass seats) No tow...</td>\n",
       "    </tr>\n",
       "    <tr>\n",
       "      <th>4</th>\n",
       "      <td>595500</td>\n",
       "      <td>510740.0</td>\n",
       "      <td>177230.0</td>\n",
       "      <td>-0.406580</td>\n",
       "      <td>51.483139</td>\n",
       "      <td>2</td>\n",
       "      <td>1</td>\n",
       "      <td>2016-01-11</td>\n",
       "      <td>07:53</td>\n",
       "      <td>A</td>\n",
       "      <td>...</td>\n",
       "      <td>Dry</td>\n",
       "      <td>None</td>\n",
       "      <td>None</td>\n",
       "      <td>Urban</td>\n",
       "      <td>E01002583</td>\n",
       "      <td>Metropolitan Police</td>\n",
       "      <td>Hounslow</td>\n",
       "      <td>Hounslow</td>\n",
       "      <td>0</td>\n",
       "      <td>1 Car No tow/articulation Changing lane to ri...</td>\n",
       "    </tr>\n",
       "  </tbody>\n",
       "</table>\n",
       "<p>5 rows × 31 columns</p>\n",
       "</div>"
      ],
      "text/plain": [
       "   accident_id  location_easting_osgr  location_northing_osgr  longitude  \\\n",
       "0       359433               519310.0                188730.0  -0.279323   \n",
       "1       446617               551920.0                174560.0   0.184928   \n",
       "2       342312               505930.0                183850.0  -0.473837   \n",
       "3       495118               527770.0                168930.0  -0.164442   \n",
       "4       595500               510740.0                177230.0  -0.406580   \n",
       "\n",
       "    latitude  number_of_vehicles  number_of_casualties        date   time  \\\n",
       "0  51.584754                   2                     1  2016-01-11  02:30   \n",
       "1  51.449595                   1                     1  2016-01-11  00:37   \n",
       "2  51.543563                   1                     1  2016-01-11  01:25   \n",
       "3  51.404958                   1                     1  2016-01-11  09:15   \n",
       "4  51.483139                   2                     1  2016-01-11  07:53   \n",
       "\n",
       "  1st_road_class  ...  road_surface_conditions  special_conditions_at_site  \\\n",
       "0              A  ...                      Dry                        None   \n",
       "1              A  ...                      Dry                        None   \n",
       "2              A  ...                      Dry                        None   \n",
       "3              A  ...                      Dry                        None   \n",
       "4              A  ...                      Dry                        None   \n",
       "\n",
       "   carriageway_hazards urban_or_rural_area lsoa_of_accident_location  \\\n",
       "0                 None               Urban                 E01000543   \n",
       "1                 None               Urban                 E01000375   \n",
       "2                 None               Urban                 E01033725   \n",
       "3                 None               Urban                 E01003379   \n",
       "4                 None               Urban                 E01002583   \n",
       "\n",
       "          police_force  local_authority_district local_authority_highway  \\\n",
       "0  Metropolitan Police                     Brent                   Brent   \n",
       "1  Metropolitan Police                    Bexley                  Bexley   \n",
       "2  Metropolitan Police                Hillingdon              Hillingdon   \n",
       "3  Metropolitan Police                    Merton                  Merton   \n",
       "4  Metropolitan Police                  Hounslow                Hounslow   \n",
       "\n",
       "  target                                       all_vehicles  \n",
       "0      0   1 Taxi/Private hire car No tow/articulation U...  \n",
       "1      0   1 Car No tow/articulation Going ahead other O...  \n",
       "2      0   1 Car No tow/articulation Going ahead other O...  \n",
       "3      0   1 Bus or coach (17 or more pass seats) No tow...  \n",
       "4      0   1 Car No tow/articulation Changing lane to ri...  \n",
       "\n",
       "[5 rows x 31 columns]"
      ]
     },
     "execution_count": 4,
     "metadata": {},
     "output_type": "execute_result"
    }
   ],
   "source": [
    "df.head()"
   ]
  },
  {
   "cell_type": "code",
   "execution_count": 5,
   "metadata": {},
   "outputs": [
    {
     "data": {
      "text/plain": [
       "['accident_id',\n",
       " 'location_easting_osgr',\n",
       " 'location_northing_osgr',\n",
       " 'longitude',\n",
       " 'latitude',\n",
       " 'number_of_vehicles',\n",
       " 'number_of_casualties',\n",
       " 'date',\n",
       " 'time',\n",
       " '1st_road_class',\n",
       " '1st_road_number',\n",
       " 'road_type',\n",
       " 'speed_limit',\n",
       " 'junction_detail',\n",
       " 'junction_control',\n",
       " '2nd_road_class',\n",
       " '2nd_road_number',\n",
       " 'pedestrian_crossing-human_control',\n",
       " 'pedestrian_crossing-physical_facilities',\n",
       " 'light_conditions',\n",
       " 'weather_conditions',\n",
       " 'road_surface_conditions',\n",
       " 'special_conditions_at_site',\n",
       " 'carriageway_hazards',\n",
       " 'urban_or_rural_area',\n",
       " 'lsoa_of_accident_location',\n",
       " 'police_force',\n",
       " 'local_authority_district',\n",
       " 'local_authority_highway',\n",
       " 'target',\n",
       " 'all_vehicles']"
      ]
     },
     "execution_count": 5,
     "metadata": {},
     "output_type": "execute_result"
    }
   ],
   "source": [
    "list(df.columns)"
   ]
  },
  {
   "cell_type": "code",
   "execution_count": 6,
   "metadata": {},
   "outputs": [
    {
     "data": {
      "text/plain": [
       "accident_id                                  int64\n",
       "location_easting_osgr                      float64\n",
       "location_northing_osgr                     float64\n",
       "longitude                                  float64\n",
       "latitude                                   float64\n",
       "number_of_vehicles                           int64\n",
       "number_of_casualties                         int64\n",
       "date                                        object\n",
       "time                                        object\n",
       "1st_road_class                              object\n",
       "1st_road_number                              int64\n",
       "road_type                                    int64\n",
       "speed_limit                                float64\n",
       "junction_detail                             object\n",
       "junction_control                            object\n",
       "2nd_road_class                              object\n",
       "2nd_road_number                            float64\n",
       "pedestrian_crossing-human_control           object\n",
       "pedestrian_crossing-physical_facilities     object\n",
       "light_conditions                            object\n",
       "weather_conditions                           int64\n",
       "road_surface_conditions                     object\n",
       "special_conditions_at_site                  object\n",
       "carriageway_hazards                         object\n",
       "urban_or_rural_area                         object\n",
       "lsoa_of_accident_location                   object\n",
       "police_force                                object\n",
       "local_authority_district                    object\n",
       "local_authority_highway                     object\n",
       "target                                       int64\n",
       "all_vehicles                                object\n",
       "dtype: object"
      ]
     },
     "execution_count": 6,
     "metadata": {},
     "output_type": "execute_result"
    }
   ],
   "source": [
    "df.dtypes"
   ]
  },
  {
   "cell_type": "code",
   "execution_count": 7,
   "metadata": {},
   "outputs": [],
   "source": [
    "df['date'] = pd.to_datetime(df['date'])"
   ]
  },
  {
   "cell_type": "code",
   "execution_count": 8,
   "metadata": {},
   "outputs": [],
   "source": [
    "df['day_of_week'] = df['date'].dt.dayofweek"
   ]
  },
  {
   "cell_type": "code",
   "execution_count": 9,
   "metadata": {},
   "outputs": [],
   "source": [
    "df['month'] = df['date'].dt.month"
   ]
  },
  {
   "cell_type": "code",
   "execution_count": 10,
   "metadata": {},
   "outputs": [],
   "source": [
    "df['time'] = pd.to_datetime(df['time'], format='%H:%M')"
   ]
  },
  {
   "cell_type": "code",
   "execution_count": 11,
   "metadata": {},
   "outputs": [],
   "source": [
    "df['hour'] = df['time'].dt.hour"
   ]
  },
  {
   "cell_type": "code",
   "execution_count": 12,
   "metadata": {},
   "outputs": [],
   "source": [
    "numeric_columns = [\n",
    "    'number_of_vehicles',\n",
    "    'number_of_casualties',\n",
    "    'speed_limit',\n",
    "]"
   ]
  },
  {
   "cell_type": "code",
   "execution_count": 13,
   "metadata": {},
   "outputs": [],
   "source": [
    "category_columns = [\n",
    "    'road_type',\n",
    "    '1st_road_class',\n",
    "    '2nd_road_class',\n",
    "    'urban_or_rural_area',\n",
    "    'junction_detail',\n",
    "    'junction_control',\n",
    "    'pedestrian_crossing-human_control',\n",
    "    'pedestrian_crossing-physical_facilities',\n",
    "    'light_conditions',\n",
    "    'weather_conditions',\n",
    "    'road_surface_conditions',\n",
    "    'special_conditions_at_site',\n",
    "    'carriageway_hazards',\n",
    "    # own pre-computed features\n",
    "    'day_of_week',\n",
    "    'month',\n",
    "    # 'hour',\n",
    "]"
   ]
  },
  {
   "cell_type": "code",
   "execution_count": 14,
   "metadata": {},
   "outputs": [],
   "source": [
    "text_columns = [\n",
    "    'all_vehicles'\n",
    "]"
   ]
  },
  {
   "cell_type": "code",
   "execution_count": 15,
   "metadata": {},
   "outputs": [],
   "source": [
    "target_columns = [\n",
    "    'target',\n",
    "]"
   ]
  },
  {
   "cell_type": "code",
   "execution_count": 16,
   "metadata": {},
   "outputs": [],
   "source": [
    "df_features = pd.DataFrame()"
   ]
  },
  {
   "cell_type": "code",
   "execution_count": 17,
   "metadata": {},
   "outputs": [
    {
     "name": "stdout",
     "output_type": "stream",
     "text": [
      "Number: number_of_vehicles\n",
      "Number: number_of_casualties\n",
      "Number: speed_limit\n"
     ]
    }
   ],
   "source": [
    "# Numeric\n",
    "for col_name in numeric_columns:\n",
    "    \n",
    "    print('Number: {}'.format(col_name))\n",
    "    \n",
    "    df_features[col_name] = df[col_name]"
   ]
  },
  {
   "cell_type": "code",
   "execution_count": 18,
   "metadata": {},
   "outputs": [
    {
     "name": "stdout",
     "output_type": "stream",
     "text": [
      "Category: road_type\n",
      "Category: 1st_road_class\n",
      "Category: 2nd_road_class\n",
      "Category: urban_or_rural_area\n",
      "Category: junction_detail\n",
      "Category: junction_control\n",
      "Category: pedestrian_crossing-human_control\n",
      "Category: pedestrian_crossing-physical_facilities\n",
      "Category: light_conditions\n",
      "Category: weather_conditions\n",
      "Category: road_surface_conditions\n",
      "Category: special_conditions_at_site\n",
      "Category: carriageway_hazards\n",
      "Category: day_of_week\n",
      "Category: month\n"
     ]
    }
   ],
   "source": [
    "# Categories\n",
    "for col_name in category_columns:\n",
    "    \n",
    "    print('Category: {}'.format(col_name))\n",
    "    # keys = set(df[col_name].unique())\n",
    "    # print(keys)\n",
    "        \n",
    "    ## One-hot encoding\n",
    "        \n",
    "    # Categories\n",
    "    df_categories = pd.get_dummies(df[col_name], prefix=col_name)\n",
    "\n",
    "    # Append to features\n",
    "    df_features = pd.concat([df_features, df_categories], axis=1)"
   ]
  },
  {
   "cell_type": "code",
   "execution_count": 19,
   "metadata": {},
   "outputs": [
    {
     "name": "stdout",
     "output_type": "stream",
     "text": [
      "Text: all_vehicles\n"
     ]
    }
   ],
   "source": [
    "# Text\n",
    "for col_name in text_columns:\n",
    "    \n",
    "    print('Text: {}'.format(col_name))\n",
    "    \n",
    "    df_features[col_name] = df[col_name]"
   ]
  },
  {
   "cell_type": "code",
   "execution_count": 20,
   "metadata": {},
   "outputs": [
    {
     "name": "stdout",
     "output_type": "stream",
     "text": [
      "Target: target\n"
     ]
    }
   ],
   "source": [
    "# Target\n",
    "for col_name in target_columns:\n",
    "    \n",
    "    print('Target: {}'.format(col_name))\n",
    "    \n",
    "    df_features[col_name] = df[col_name] "
   ]
  },
  {
   "cell_type": "code",
   "execution_count": 21,
   "metadata": {},
   "outputs": [
    {
     "data": {
      "text/plain": [
       "110"
      ]
     },
     "execution_count": 21,
     "metadata": {},
     "output_type": "execute_result"
    }
   ],
   "source": [
    "len(df_features.columns)"
   ]
  },
  {
   "cell_type": "code",
   "execution_count": 22,
   "metadata": {},
   "outputs": [
    {
     "data": {
      "text/plain": [
       "['number_of_vehicles',\n",
       " 'number_of_casualties',\n",
       " 'speed_limit',\n",
       " 'road_type_1',\n",
       " 'road_type_2',\n",
       " 'road_type_3',\n",
       " 'road_type_4',\n",
       " 'road_type_5',\n",
       " 'road_type_6',\n",
       " '1st_road_class_A',\n",
       " '1st_road_class_A(M)',\n",
       " '1st_road_class_B',\n",
       " '1st_road_class_C',\n",
       " '1st_road_class_Motorway',\n",
       " '1st_road_class_Unclassified',\n",
       " '2nd_road_class_-1',\n",
       " '2nd_road_class_A',\n",
       " '2nd_road_class_A(M)',\n",
       " '2nd_road_class_B',\n",
       " '2nd_road_class_C',\n",
       " '2nd_road_class_Motorway',\n",
       " '2nd_road_class_Unclassified',\n",
       " 'urban_or_rural_area_Rural',\n",
       " 'urban_or_rural_area_Urban',\n",
       " 'junction_detail_-1',\n",
       " 'junction_detail_Crossroads',\n",
       " 'junction_detail_Mini-roundabout',\n",
       " 'junction_detail_More than 4 arms (not roundabout)',\n",
       " 'junction_detail_Not at junction or within 20 metres',\n",
       " 'junction_detail_Other junction',\n",
       " 'junction_detail_Private drive or entrance',\n",
       " 'junction_detail_Roundabout',\n",
       " 'junction_detail_Slip road',\n",
       " 'junction_detail_T or staggered junction',\n",
       " 'junction_control_-1',\n",
       " 'junction_control_Authorised person',\n",
       " 'junction_control_Auto traffic signal',\n",
       " 'junction_control_Give way or uncontrolled',\n",
       " 'junction_control_Not at junction or within 20 metres',\n",
       " 'junction_control_Stop sign',\n",
       " 'pedestrian_crossing-human_control_-1',\n",
       " 'pedestrian_crossing-human_control_Control by other authorised person',\n",
       " 'pedestrian_crossing-human_control_Control by school crossing patrol',\n",
       " 'pedestrian_crossing-human_control_None within 50 metres',\n",
       " 'pedestrian_crossing-physical_facilities_-1',\n",
       " 'pedestrian_crossing-physical_facilities_Central refuge',\n",
       " 'pedestrian_crossing-physical_facilities_Footbridge or subway',\n",
       " 'pedestrian_crossing-physical_facilities_No physical crossing facilities within 50 metres',\n",
       " 'pedestrian_crossing-physical_facilities_Pedestrian phase at traffic signal junction',\n",
       " 'pedestrian_crossing-physical_facilities_Pelican, puffin, toucan or similar non-junction pedestrian light crossing',\n",
       " 'pedestrian_crossing-physical_facilities_Zebra',\n",
       " 'light_conditions_-1',\n",
       " 'light_conditions_Darkness - lighting unknown',\n",
       " 'light_conditions_Darkness - lights lit',\n",
       " 'light_conditions_Darkness - lights unlit',\n",
       " 'light_conditions_Darkness - no lighting',\n",
       " 'light_conditions_Daylight',\n",
       " 'weather_conditions_-1',\n",
       " 'weather_conditions_1',\n",
       " 'weather_conditions_2',\n",
       " 'weather_conditions_3',\n",
       " 'weather_conditions_4',\n",
       " 'weather_conditions_5',\n",
       " 'weather_conditions_6',\n",
       " 'weather_conditions_7',\n",
       " 'weather_conditions_8',\n",
       " 'weather_conditions_9',\n",
       " 'road_surface_conditions_-1',\n",
       " 'road_surface_conditions_Dry',\n",
       " 'road_surface_conditions_Flood over 3cm. deep',\n",
       " 'road_surface_conditions_Frost or ice',\n",
       " 'road_surface_conditions_Snow',\n",
       " 'road_surface_conditions_Wet or damp',\n",
       " 'special_conditions_at_site_-1',\n",
       " 'special_conditions_at_site_Auto signal part defective',\n",
       " 'special_conditions_at_site_Auto traffic signal - out',\n",
       " 'special_conditions_at_site_Mud',\n",
       " 'special_conditions_at_site_None',\n",
       " 'special_conditions_at_site_Oil or diesel',\n",
       " 'special_conditions_at_site_Road sign or marking defective or obscured',\n",
       " 'special_conditions_at_site_Road surface defective',\n",
       " 'special_conditions_at_site_Roadworks',\n",
       " 'carriageway_hazards_-1',\n",
       " 'carriageway_hazards_Any animal in carriageway (except ridden horse)',\n",
       " 'carriageway_hazards_None',\n",
       " 'carriageway_hazards_Other object on road',\n",
       " 'carriageway_hazards_Pedestrian in carriageway - not injured',\n",
       " 'carriageway_hazards_Previous accident',\n",
       " 'carriageway_hazards_Vehicle load on road',\n",
       " 'day_of_week_0',\n",
       " 'day_of_week_1',\n",
       " 'day_of_week_2',\n",
       " 'day_of_week_3',\n",
       " 'day_of_week_4',\n",
       " 'day_of_week_5',\n",
       " 'day_of_week_6',\n",
       " 'month_1',\n",
       " 'month_2',\n",
       " 'month_3',\n",
       " 'month_4',\n",
       " 'month_5',\n",
       " 'month_6',\n",
       " 'month_7',\n",
       " 'month_8',\n",
       " 'month_9',\n",
       " 'month_10',\n",
       " 'month_11',\n",
       " 'month_12',\n",
       " 'all_vehicles',\n",
       " 'target']"
      ]
     },
     "execution_count": 22,
     "metadata": {},
     "output_type": "execute_result"
    }
   ],
   "source": [
    "list(df_features.columns)"
   ]
  },
  {
   "cell_type": "code",
   "execution_count": 23,
   "metadata": {},
   "outputs": [
    {
     "data": {
      "text/html": [
       "<div>\n",
       "<style scoped>\n",
       "    .dataframe tbody tr th:only-of-type {\n",
       "        vertical-align: middle;\n",
       "    }\n",
       "\n",
       "    .dataframe tbody tr th {\n",
       "        vertical-align: top;\n",
       "    }\n",
       "\n",
       "    .dataframe thead th {\n",
       "        text-align: right;\n",
       "    }\n",
       "</style>\n",
       "<table border=\"1\" class=\"dataframe\">\n",
       "  <thead>\n",
       "    <tr style=\"text-align: right;\">\n",
       "      <th></th>\n",
       "      <th>number_of_vehicles</th>\n",
       "      <th>number_of_casualties</th>\n",
       "      <th>speed_limit</th>\n",
       "      <th>road_type_1</th>\n",
       "      <th>road_type_2</th>\n",
       "      <th>road_type_3</th>\n",
       "      <th>road_type_4</th>\n",
       "      <th>road_type_5</th>\n",
       "      <th>road_type_6</th>\n",
       "      <th>1st_road_class_A</th>\n",
       "      <th>...</th>\n",
       "      <th>month_5</th>\n",
       "      <th>month_6</th>\n",
       "      <th>month_7</th>\n",
       "      <th>month_8</th>\n",
       "      <th>month_9</th>\n",
       "      <th>month_10</th>\n",
       "      <th>month_11</th>\n",
       "      <th>month_12</th>\n",
       "      <th>all_vehicles</th>\n",
       "      <th>target</th>\n",
       "    </tr>\n",
       "  </thead>\n",
       "  <tbody>\n",
       "    <tr>\n",
       "      <th>0</th>\n",
       "      <td>2</td>\n",
       "      <td>1</td>\n",
       "      <td>30.0</td>\n",
       "      <td>0</td>\n",
       "      <td>0</td>\n",
       "      <td>0</td>\n",
       "      <td>1</td>\n",
       "      <td>0</td>\n",
       "      <td>0</td>\n",
       "      <td>1</td>\n",
       "      <td>...</td>\n",
       "      <td>0</td>\n",
       "      <td>0</td>\n",
       "      <td>0</td>\n",
       "      <td>0</td>\n",
       "      <td>0</td>\n",
       "      <td>0</td>\n",
       "      <td>0</td>\n",
       "      <td>0</td>\n",
       "      <td>1 Taxi/Private hire car No tow/articulation U...</td>\n",
       "      <td>0</td>\n",
       "    </tr>\n",
       "    <tr>\n",
       "      <th>1</th>\n",
       "      <td>1</td>\n",
       "      <td>1</td>\n",
       "      <td>30.0</td>\n",
       "      <td>0</td>\n",
       "      <td>0</td>\n",
       "      <td>0</td>\n",
       "      <td>1</td>\n",
       "      <td>0</td>\n",
       "      <td>0</td>\n",
       "      <td>1</td>\n",
       "      <td>...</td>\n",
       "      <td>0</td>\n",
       "      <td>0</td>\n",
       "      <td>0</td>\n",
       "      <td>0</td>\n",
       "      <td>0</td>\n",
       "      <td>0</td>\n",
       "      <td>0</td>\n",
       "      <td>0</td>\n",
       "      <td>1 Car No tow/articulation Going ahead other O...</td>\n",
       "      <td>0</td>\n",
       "    </tr>\n",
       "    <tr>\n",
       "      <th>2</th>\n",
       "      <td>1</td>\n",
       "      <td>1</td>\n",
       "      <td>30.0</td>\n",
       "      <td>0</td>\n",
       "      <td>0</td>\n",
       "      <td>1</td>\n",
       "      <td>0</td>\n",
       "      <td>0</td>\n",
       "      <td>0</td>\n",
       "      <td>1</td>\n",
       "      <td>...</td>\n",
       "      <td>0</td>\n",
       "      <td>0</td>\n",
       "      <td>0</td>\n",
       "      <td>0</td>\n",
       "      <td>0</td>\n",
       "      <td>0</td>\n",
       "      <td>0</td>\n",
       "      <td>0</td>\n",
       "      <td>1 Car No tow/articulation Going ahead other O...</td>\n",
       "      <td>0</td>\n",
       "    </tr>\n",
       "    <tr>\n",
       "      <th>3</th>\n",
       "      <td>1</td>\n",
       "      <td>1</td>\n",
       "      <td>30.0</td>\n",
       "      <td>0</td>\n",
       "      <td>0</td>\n",
       "      <td>0</td>\n",
       "      <td>1</td>\n",
       "      <td>0</td>\n",
       "      <td>0</td>\n",
       "      <td>1</td>\n",
       "      <td>...</td>\n",
       "      <td>0</td>\n",
       "      <td>0</td>\n",
       "      <td>0</td>\n",
       "      <td>0</td>\n",
       "      <td>0</td>\n",
       "      <td>0</td>\n",
       "      <td>0</td>\n",
       "      <td>0</td>\n",
       "      <td>1 Bus or coach (17 or more pass seats) No tow...</td>\n",
       "      <td>0</td>\n",
       "    </tr>\n",
       "    <tr>\n",
       "      <th>4</th>\n",
       "      <td>2</td>\n",
       "      <td>1</td>\n",
       "      <td>40.0</td>\n",
       "      <td>1</td>\n",
       "      <td>0</td>\n",
       "      <td>0</td>\n",
       "      <td>0</td>\n",
       "      <td>0</td>\n",
       "      <td>0</td>\n",
       "      <td>1</td>\n",
       "      <td>...</td>\n",
       "      <td>0</td>\n",
       "      <td>0</td>\n",
       "      <td>0</td>\n",
       "      <td>0</td>\n",
       "      <td>0</td>\n",
       "      <td>0</td>\n",
       "      <td>0</td>\n",
       "      <td>0</td>\n",
       "      <td>1 Car No tow/articulation Changing lane to ri...</td>\n",
       "      <td>0</td>\n",
       "    </tr>\n",
       "  </tbody>\n",
       "</table>\n",
       "<p>5 rows × 110 columns</p>\n",
       "</div>"
      ],
      "text/plain": [
       "   number_of_vehicles  number_of_casualties  speed_limit  road_type_1  \\\n",
       "0                   2                     1         30.0            0   \n",
       "1                   1                     1         30.0            0   \n",
       "2                   1                     1         30.0            0   \n",
       "3                   1                     1         30.0            0   \n",
       "4                   2                     1         40.0            1   \n",
       "\n",
       "   road_type_2  road_type_3  road_type_4  road_type_5  road_type_6  \\\n",
       "0            0            0            1            0            0   \n",
       "1            0            0            1            0            0   \n",
       "2            0            1            0            0            0   \n",
       "3            0            0            1            0            0   \n",
       "4            0            0            0            0            0   \n",
       "\n",
       "   1st_road_class_A  ...  month_5  month_6  month_7  month_8  month_9  \\\n",
       "0                 1  ...        0        0        0        0        0   \n",
       "1                 1  ...        0        0        0        0        0   \n",
       "2                 1  ...        0        0        0        0        0   \n",
       "3                 1  ...        0        0        0        0        0   \n",
       "4                 1  ...        0        0        0        0        0   \n",
       "\n",
       "   month_10  month_11  month_12  \\\n",
       "0         0         0         0   \n",
       "1         0         0         0   \n",
       "2         0         0         0   \n",
       "3         0         0         0   \n",
       "4         0         0         0   \n",
       "\n",
       "                                        all_vehicles  target  \n",
       "0   1 Taxi/Private hire car No tow/articulation U...       0  \n",
       "1   1 Car No tow/articulation Going ahead other O...       0  \n",
       "2   1 Car No tow/articulation Going ahead other O...       0  \n",
       "3   1 Bus or coach (17 or more pass seats) No tow...       0  \n",
       "4   1 Car No tow/articulation Changing lane to ri...       0  \n",
       "\n",
       "[5 rows x 110 columns]"
      ]
     },
     "execution_count": 23,
     "metadata": {},
     "output_type": "execute_result"
    }
   ],
   "source": [
    "df_features.head()"
   ]
  },
  {
   "cell_type": "code",
   "execution_count": 24,
   "metadata": {},
   "outputs": [
    {
     "data": {
      "text/plain": [
       "number_of_vehicles                                                                                                     2\n",
       "number_of_casualties                                                                                                   1\n",
       "speed_limit                                                                                                           30\n",
       "road_type_1                                                                                                            0\n",
       "road_type_2                                                                                                            0\n",
       "road_type_3                                                                                                            0\n",
       "road_type_4                                                                                                            1\n",
       "road_type_5                                                                                                            0\n",
       "road_type_6                                                                                                            0\n",
       "1st_road_class_A                                                                                                       1\n",
       "1st_road_class_A(M)                                                                                                    0\n",
       "1st_road_class_B                                                                                                       0\n",
       "1st_road_class_C                                                                                                       0\n",
       "1st_road_class_Motorway                                                                                                0\n",
       "1st_road_class_Unclassified                                                                                            0\n",
       "2nd_road_class_-1                                                                                                      1\n",
       "2nd_road_class_A                                                                                                       0\n",
       "2nd_road_class_A(M)                                                                                                    0\n",
       "2nd_road_class_B                                                                                                       0\n",
       "2nd_road_class_C                                                                                                       0\n",
       "2nd_road_class_Motorway                                                                                                0\n",
       "2nd_road_class_Unclassified                                                                                            0\n",
       "urban_or_rural_area_Rural                                                                                              0\n",
       "urban_or_rural_area_Urban                                                                                              1\n",
       "junction_detail_-1                                                                                                     0\n",
       "junction_detail_Crossroads                                                                                             0\n",
       "junction_detail_Mini-roundabout                                                                                        0\n",
       "junction_detail_More than 4 arms (not roundabout)                                                                      0\n",
       "junction_detail_Not at junction or within 20 metres                                                                    1\n",
       "junction_detail_Other junction                                                                                         0\n",
       "                                                                                             ...                        \n",
       "special_conditions_at_site_Road surface defective                                                                      0\n",
       "special_conditions_at_site_Roadworks                                                                                   0\n",
       "carriageway_hazards_-1                                                                                                 0\n",
       "carriageway_hazards_Any animal in carriageway (except ridden horse)                                                    0\n",
       "carriageway_hazards_None                                                                                               1\n",
       "carriageway_hazards_Other object on road                                                                               0\n",
       "carriageway_hazards_Pedestrian in carriageway - not injured                                                            0\n",
       "carriageway_hazards_Previous accident                                                                                  0\n",
       "carriageway_hazards_Vehicle load on road                                                                               0\n",
       "day_of_week_0                                                                                                          1\n",
       "day_of_week_1                                                                                                          0\n",
       "day_of_week_2                                                                                                          0\n",
       "day_of_week_3                                                                                                          0\n",
       "day_of_week_4                                                                                                          0\n",
       "day_of_week_5                                                                                                          0\n",
       "day_of_week_6                                                                                                          0\n",
       "month_1                                                                                                                1\n",
       "month_2                                                                                                                0\n",
       "month_3                                                                                                                0\n",
       "month_4                                                                                                                0\n",
       "month_5                                                                                                                0\n",
       "month_6                                                                                                                0\n",
       "month_7                                                                                                                0\n",
       "month_8                                                                                                                0\n",
       "month_9                                                                                                                0\n",
       "month_10                                                                                                               0\n",
       "month_11                                                                                                               0\n",
       "month_12                                                                                                               0\n",
       "all_vehicles                                                            1 Taxi/Private hire car No tow/articulation U...\n",
       "target                                                                                                                 0\n",
       "Name: 0, Length: 110, dtype: object"
      ]
     },
     "execution_count": 24,
     "metadata": {},
     "output_type": "execute_result"
    }
   ],
   "source": [
    "df_features.iloc[0, :]"
   ]
  },
  {
   "cell_type": "code",
   "execution_count": 25,
   "metadata": {},
   "outputs": [
    {
     "data": {
      "text/plain": [
       "110"
      ]
     },
     "execution_count": 25,
     "metadata": {},
     "output_type": "execute_result"
    }
   ],
   "source": [
    "len(list(df_features.columns))"
   ]
  },
  {
   "cell_type": "code",
   "execution_count": 26,
   "metadata": {},
   "outputs": [],
   "source": [
    "with open('../../data/features.csv', 'w') as f:\n",
    "    f.write(df_features.to_csv(index=False))"
   ]
  },
  {
   "cell_type": "code",
   "execution_count": 27,
   "metadata": {},
   "outputs": [
    {
     "name": "stdout",
     "output_type": "stream",
     "text": [
      "394303 ../../data/features.csv\r\n"
     ]
    }
   ],
   "source": [
    "!wc -l '../../data/features.csv'"
   ]
  },
  {
   "cell_type": "code",
   "execution_count": 28,
   "metadata": {},
   "outputs": [
    {
     "name": "stdout",
     "output_type": "stream",
     "text": [
      "number_of_vehicles,number_of_casualties,speed_limit,road_type_1,road_type_2,road_type_3,road_type_4,road_type_5,road_type_6,1st_road_class_A,1st_road_class_A(M),1st_road_class_B,1st_road_class_C,1st_road_class_Motorway,1st_road_class_Unclassified,2nd_road_class_-1,2nd_road_class_A,2nd_road_class_A(M),2nd_road_class_B,2nd_road_class_C,2nd_road_class_Motorway,2nd_road_class_Unclassified,urban_or_rural_area_Rural,urban_or_rural_area_Urban,junction_detail_-1,junction_detail_Crossroads,junction_detail_Mini-roundabout,junction_detail_More than 4 arms (not roundabout),junction_detail_Not at junction or within 20 metres,junction_detail_Other junction,junction_detail_Private drive or entrance,junction_detail_Roundabout,junction_detail_Slip road,junction_detail_T or staggered junction,junction_control_-1,junction_control_Authorised person,junction_control_Auto traffic signal,junction_control_Give way or uncontrolled,junction_control_Not at junction or within 20 metres,junction_control_Stop sign,pedestrian_crossing-human_control_-1,pedestrian_crossing-human_control_Control by other authorised person,pedestrian_crossing-human_control_Control by school crossing patrol,pedestrian_crossing-human_control_None within 50 metres,pedestrian_crossing-physical_facilities_-1,pedestrian_crossing-physical_facilities_Central refuge,pedestrian_crossing-physical_facilities_Footbridge or subway,pedestrian_crossing-physical_facilities_No physical crossing facilities within 50 metres,pedestrian_crossing-physical_facilities_Pedestrian phase at traffic signal junction,\"pedestrian_crossing-physical_facilities_Pelican, puffin, toucan or similar non-junction pedestrian light crossing\",pedestrian_crossing-physical_facilities_Zebra,light_conditions_-1,light_conditions_Darkness - lighting unknown,light_conditions_Darkness - lights lit,light_conditions_Darkness - lights unlit,light_conditions_Darkness - no lighting,light_conditions_Daylight,weather_conditions_-1,weather_conditions_1,weather_conditions_2,weather_conditions_3,weather_conditions_4,weather_conditions_5,weather_conditions_6,weather_conditions_7,weather_conditions_8,weather_conditions_9,road_surface_conditions_-1,road_surface_conditions_Dry,road_surface_conditions_Flood over 3cm. deep,road_surface_conditions_Frost or ice,road_surface_conditions_Snow,road_surface_conditions_Wet or damp,special_conditions_at_site_-1,special_conditions_at_site_Auto signal part defective,special_conditions_at_site_Auto traffic signal - out,special_conditions_at_site_Mud,special_conditions_at_site_None,special_conditions_at_site_Oil or diesel,special_conditions_at_site_Road sign or marking defective or obscured,special_conditions_at_site_Road surface defective,special_conditions_at_site_Roadworks,carriageway_hazards_-1,carriageway_hazards_Any animal in carriageway (except ridden horse),carriageway_hazards_None,carriageway_hazards_Other object on road,carriageway_hazards_Pedestrian in carriageway - not injured,carriageway_hazards_Previous accident,carriageway_hazards_Vehicle load on road,day_of_week_0,day_of_week_1,day_of_week_2,day_of_week_3,day_of_week_4,day_of_week_5,day_of_week_6,month_1,month_2,month_3,month_4,month_5,month_6,month_7,month_8,month_9,month_10,month_11,month_12,all_vehicles,target\r\n",
      "2,1,30.0,0,0,0,1,0,0,1,0,0,0,0,0,1,0,0,0,0,0,0,0,1,0,0,0,0,1,0,0,0,0,0,1,0,0,0,0,0,0,0,0,1,0,0,0,1,0,0,0,0,0,0,1,0,0,0,1,0,0,0,0,0,0,0,0,0,1,0,0,0,0,0,0,0,0,1,0,0,0,0,0,0,1,0,0,0,0,1,0,0,0,0,0,0,1,0,0,0,0,0,0,0,0,0,0,0,\" 1 Taxi/Private hire car No tow/articulation U-turn On main c'way - not in restricted lane Not at or within 20 metres of junction None None Did not leave carriageway None Offside No Journey as part of work Male 51.0 -1.0 -1 -1.0 3.0 1.0 3.0\r\n"
     ]
    }
   ],
   "source": [
    "!head -2 '../../data/features.csv'"
   ]
  }
 ],
 "metadata": {
  "kernelspec": {
   "display_name": "Python 3",
   "language": "python",
   "name": "python3"
  },
  "language_info": {
   "codemirror_mode": {
    "name": "ipython",
    "version": 3
   },
   "file_extension": ".py",
   "mimetype": "text/x-python",
   "name": "python",
   "nbconvert_exporter": "python",
   "pygments_lexer": "ipython3",
   "version": "3.5.2"
  }
 },
 "nbformat": 4,
 "nbformat_minor": 2
}
