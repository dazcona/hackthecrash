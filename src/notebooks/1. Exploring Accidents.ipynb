{
 "cells": [
  {
   "cell_type": "markdown",
   "metadata": {},
   "source": [
    "# Accidents"
   ]
  },
  {
   "cell_type": "code",
   "execution_count": 1,
   "metadata": {},
   "outputs": [],
   "source": [
    "import os\n",
    "import pandas as pd\n",
    "import numpy as np\n",
    "import matplotlib.pyplot as plt"
   ]
  },
  {
   "cell_type": "code",
   "execution_count": 2,
   "metadata": {},
   "outputs": [],
   "source": [
    "%matplotlib inline\n",
    "plt.style.use('ggplot')\n",
    "font = { 'family': 'DejaVu Sans', 'weight': 'bold', 'size': 22 }\n",
    "plt.rc('font', **font)"
   ]
  },
  {
   "cell_type": "code",
   "execution_count": 3,
   "metadata": {},
   "outputs": [],
   "source": [
    "from IPython.core.pylabtools import figsize\n",
    "figsize(14, 7)"
   ]
  },
  {
   "cell_type": "markdown",
   "metadata": {},
   "source": [
    "### Read data"
   ]
  },
  {
   "cell_type": "code",
   "execution_count": 4,
   "metadata": {},
   "outputs": [],
   "source": [
    "data_path = '../../data/'"
   ]
  },
  {
   "cell_type": "code",
   "execution_count": 5,
   "metadata": {},
   "outputs": [],
   "source": [
    "df = pd.read_csv(os.path.join(data_path, 'accidents.csv'))"
   ]
  },
  {
   "cell_type": "code",
   "execution_count": 6,
   "metadata": {},
   "outputs": [
    {
     "data": {
      "text/html": [
       "<div>\n",
       "<style scoped>\n",
       "    .dataframe tbody tr th:only-of-type {\n",
       "        vertical-align: middle;\n",
       "    }\n",
       "\n",
       "    .dataframe tbody tr th {\n",
       "        vertical-align: top;\n",
       "    }\n",
       "\n",
       "    .dataframe thead th {\n",
       "        text-align: right;\n",
       "    }\n",
       "</style>\n",
       "<table border=\"1\" class=\"dataframe\">\n",
       "  <thead>\n",
       "    <tr style=\"text-align: right;\">\n",
       "      <th></th>\n",
       "      <th>accident_id</th>\n",
       "      <th>location_easting_osgr</th>\n",
       "      <th>location_northing_osgr</th>\n",
       "      <th>longitude</th>\n",
       "      <th>latitude</th>\n",
       "      <th>number_of_vehicles</th>\n",
       "      <th>number_of_casualties</th>\n",
       "      <th>date</th>\n",
       "      <th>time</th>\n",
       "      <th>1st_road_class</th>\n",
       "      <th>...</th>\n",
       "      <th>weather_conditions</th>\n",
       "      <th>road_surface_conditions</th>\n",
       "      <th>special_conditions_at_site</th>\n",
       "      <th>carriageway_hazards</th>\n",
       "      <th>urban_or_rural_area</th>\n",
       "      <th>lsoa_of_accident_location</th>\n",
       "      <th>police_force</th>\n",
       "      <th>local_authority_district</th>\n",
       "      <th>local_authority_highway</th>\n",
       "      <th>target</th>\n",
       "    </tr>\n",
       "  </thead>\n",
       "  <tbody>\n",
       "    <tr>\n",
       "      <th>0</th>\n",
       "      <td>359433</td>\n",
       "      <td>519310.0</td>\n",
       "      <td>188730.0</td>\n",
       "      <td>-0.279323</td>\n",
       "      <td>51.584754</td>\n",
       "      <td>2</td>\n",
       "      <td>1</td>\n",
       "      <td>2016-01-11</td>\n",
       "      <td>02:30</td>\n",
       "      <td>A</td>\n",
       "      <td>...</td>\n",
       "      <td>1</td>\n",
       "      <td>Dry</td>\n",
       "      <td>None</td>\n",
       "      <td>None</td>\n",
       "      <td>Urban</td>\n",
       "      <td>E01000543</td>\n",
       "      <td>Metropolitan Police</td>\n",
       "      <td>Brent</td>\n",
       "      <td>Brent</td>\n",
       "      <td>0</td>\n",
       "    </tr>\n",
       "    <tr>\n",
       "      <th>1</th>\n",
       "      <td>446617</td>\n",
       "      <td>551920.0</td>\n",
       "      <td>174560.0</td>\n",
       "      <td>0.184928</td>\n",
       "      <td>51.449595</td>\n",
       "      <td>1</td>\n",
       "      <td>1</td>\n",
       "      <td>2016-01-11</td>\n",
       "      <td>00:37</td>\n",
       "      <td>A</td>\n",
       "      <td>...</td>\n",
       "      <td>1</td>\n",
       "      <td>Dry</td>\n",
       "      <td>None</td>\n",
       "      <td>None</td>\n",
       "      <td>Urban</td>\n",
       "      <td>E01000375</td>\n",
       "      <td>Metropolitan Police</td>\n",
       "      <td>Bexley</td>\n",
       "      <td>Bexley</td>\n",
       "      <td>0</td>\n",
       "    </tr>\n",
       "    <tr>\n",
       "      <th>2</th>\n",
       "      <td>342312</td>\n",
       "      <td>505930.0</td>\n",
       "      <td>183850.0</td>\n",
       "      <td>-0.473837</td>\n",
       "      <td>51.543563</td>\n",
       "      <td>1</td>\n",
       "      <td>1</td>\n",
       "      <td>2016-01-11</td>\n",
       "      <td>01:25</td>\n",
       "      <td>A</td>\n",
       "      <td>...</td>\n",
       "      <td>1</td>\n",
       "      <td>Dry</td>\n",
       "      <td>None</td>\n",
       "      <td>None</td>\n",
       "      <td>Urban</td>\n",
       "      <td>E01033725</td>\n",
       "      <td>Metropolitan Police</td>\n",
       "      <td>Hillingdon</td>\n",
       "      <td>Hillingdon</td>\n",
       "      <td>0</td>\n",
       "    </tr>\n",
       "    <tr>\n",
       "      <th>3</th>\n",
       "      <td>495118</td>\n",
       "      <td>527770.0</td>\n",
       "      <td>168930.0</td>\n",
       "      <td>-0.164442</td>\n",
       "      <td>51.404958</td>\n",
       "      <td>1</td>\n",
       "      <td>1</td>\n",
       "      <td>2016-01-11</td>\n",
       "      <td>09:15</td>\n",
       "      <td>A</td>\n",
       "      <td>...</td>\n",
       "      <td>1</td>\n",
       "      <td>Dry</td>\n",
       "      <td>None</td>\n",
       "      <td>None</td>\n",
       "      <td>Urban</td>\n",
       "      <td>E01003379</td>\n",
       "      <td>Metropolitan Police</td>\n",
       "      <td>Merton</td>\n",
       "      <td>Merton</td>\n",
       "      <td>0</td>\n",
       "    </tr>\n",
       "    <tr>\n",
       "      <th>4</th>\n",
       "      <td>595500</td>\n",
       "      <td>510740.0</td>\n",
       "      <td>177230.0</td>\n",
       "      <td>-0.406580</td>\n",
       "      <td>51.483139</td>\n",
       "      <td>2</td>\n",
       "      <td>1</td>\n",
       "      <td>2016-01-11</td>\n",
       "      <td>07:53</td>\n",
       "      <td>A</td>\n",
       "      <td>...</td>\n",
       "      <td>1</td>\n",
       "      <td>Dry</td>\n",
       "      <td>None</td>\n",
       "      <td>None</td>\n",
       "      <td>Urban</td>\n",
       "      <td>E01002583</td>\n",
       "      <td>Metropolitan Police</td>\n",
       "      <td>Hounslow</td>\n",
       "      <td>Hounslow</td>\n",
       "      <td>0</td>\n",
       "    </tr>\n",
       "  </tbody>\n",
       "</table>\n",
       "<p>5 rows × 30 columns</p>\n",
       "</div>"
      ],
      "text/plain": [
       "   accident_id  location_easting_osgr  location_northing_osgr  longitude  \\\n",
       "0       359433               519310.0                188730.0  -0.279323   \n",
       "1       446617               551920.0                174560.0   0.184928   \n",
       "2       342312               505930.0                183850.0  -0.473837   \n",
       "3       495118               527770.0                168930.0  -0.164442   \n",
       "4       595500               510740.0                177230.0  -0.406580   \n",
       "\n",
       "    latitude  number_of_vehicles  number_of_casualties        date   time  \\\n",
       "0  51.584754                   2                     1  2016-01-11  02:30   \n",
       "1  51.449595                   1                     1  2016-01-11  00:37   \n",
       "2  51.543563                   1                     1  2016-01-11  01:25   \n",
       "3  51.404958                   1                     1  2016-01-11  09:15   \n",
       "4  51.483139                   2                     1  2016-01-11  07:53   \n",
       "\n",
       "  1st_road_class  ...  weather_conditions  road_surface_conditions  \\\n",
       "0              A  ...                   1                      Dry   \n",
       "1              A  ...                   1                      Dry   \n",
       "2              A  ...                   1                      Dry   \n",
       "3              A  ...                   1                      Dry   \n",
       "4              A  ...                   1                      Dry   \n",
       "\n",
       "   special_conditions_at_site carriageway_hazards urban_or_rural_area  \\\n",
       "0                        None                None               Urban   \n",
       "1                        None                None               Urban   \n",
       "2                        None                None               Urban   \n",
       "3                        None                None               Urban   \n",
       "4                        None                None               Urban   \n",
       "\n",
       "  lsoa_of_accident_location         police_force local_authority_district  \\\n",
       "0                 E01000543  Metropolitan Police                    Brent   \n",
       "1                 E01000375  Metropolitan Police                   Bexley   \n",
       "2                 E01033725  Metropolitan Police               Hillingdon   \n",
       "3                 E01003379  Metropolitan Police                   Merton   \n",
       "4                 E01002583  Metropolitan Police                 Hounslow   \n",
       "\n",
       "  local_authority_highway target  \n",
       "0                   Brent      0  \n",
       "1                  Bexley      0  \n",
       "2              Hillingdon      0  \n",
       "3                  Merton      0  \n",
       "4                Hounslow      0  \n",
       "\n",
       "[5 rows x 30 columns]"
      ]
     },
     "execution_count": 6,
     "metadata": {},
     "output_type": "execute_result"
    }
   ],
   "source": [
    "df.head()"
   ]
  },
  {
   "cell_type": "code",
   "execution_count": 7,
   "metadata": {},
   "outputs": [
    {
     "data": {
      "text/plain": [
       "(137599, 30)"
      ]
     },
     "execution_count": 7,
     "metadata": {},
     "output_type": "execute_result"
    }
   ],
   "source": [
    "df.shape"
   ]
  },
  {
   "cell_type": "code",
   "execution_count": 8,
   "metadata": {},
   "outputs": [
    {
     "data": {
      "text/plain": [
       "'Number of accidents in the training set: 137,599'"
      ]
     },
     "execution_count": 8,
     "metadata": {},
     "output_type": "execute_result"
    }
   ],
   "source": [
    "'Number of accidents in the training set: {:,}'.format(df.shape[0])"
   ]
  },
  {
   "cell_type": "code",
   "execution_count": 9,
   "metadata": {
    "scrolled": true
   },
   "outputs": [
    {
     "data": {
      "text/plain": [
       "Index(['accident_id', 'location_easting_osgr', 'location_northing_osgr',\n",
       "       'longitude', 'latitude', 'number_of_vehicles', 'number_of_casualties',\n",
       "       'date', 'time', '1st_road_class', '1st_road_number', 'road_type',\n",
       "       'speed_limit', 'junction_detail', 'junction_control', '2nd_road_class',\n",
       "       '2nd_road_number', 'pedestrian_crossing-human_control',\n",
       "       'pedestrian_crossing-physical_facilities', 'light_conditions',\n",
       "       'weather_conditions', 'road_surface_conditions',\n",
       "       'special_conditions_at_site', 'carriageway_hazards',\n",
       "       'urban_or_rural_area', 'lsoa_of_accident_location', 'police_force',\n",
       "       'local_authority_district', 'local_authority_highway', 'target'],\n",
       "      dtype='object')"
      ]
     },
     "execution_count": 9,
     "metadata": {},
     "output_type": "execute_result"
    }
   ],
   "source": [
    "df.columns"
   ]
  },
  {
   "cell_type": "code",
   "execution_count": 10,
   "metadata": {},
   "outputs": [
    {
     "data": {
      "text/plain": [
       "accident_id                                  int64\n",
       "location_easting_osgr                      float64\n",
       "location_northing_osgr                     float64\n",
       "longitude                                  float64\n",
       "latitude                                   float64\n",
       "number_of_vehicles                           int64\n",
       "number_of_casualties                         int64\n",
       "date                                        object\n",
       "time                                        object\n",
       "1st_road_class                              object\n",
       "1st_road_number                              int64\n",
       "road_type                                    int64\n",
       "speed_limit                                float64\n",
       "junction_detail                             object\n",
       "junction_control                            object\n",
       "2nd_road_class                              object\n",
       "2nd_road_number                            float64\n",
       "pedestrian_crossing-human_control           object\n",
       "pedestrian_crossing-physical_facilities     object\n",
       "light_conditions                            object\n",
       "weather_conditions                           int64\n",
       "road_surface_conditions                     object\n",
       "special_conditions_at_site                  object\n",
       "carriageway_hazards                         object\n",
       "urban_or_rural_area                         object\n",
       "lsoa_of_accident_location                   object\n",
       "police_force                                object\n",
       "local_authority_district                    object\n",
       "local_authority_highway                     object\n",
       "target                                       int64\n",
       "dtype: object"
      ]
     },
     "execution_count": 10,
     "metadata": {},
     "output_type": "execute_result"
    }
   ],
   "source": [
    "df.dtypes"
   ]
  },
  {
   "cell_type": "markdown",
   "metadata": {},
   "source": [
    "Is there any null values?"
   ]
  },
  {
   "cell_type": "code",
   "execution_count": 11,
   "metadata": {},
   "outputs": [
    {
     "data": {
      "text/plain": [
       "accident_id                                0.0\n",
       "location_easting_osgr                      0.0\n",
       "location_northing_osgr                     0.0\n",
       "longitude                                  0.0\n",
       "latitude                                   0.0\n",
       "number_of_vehicles                         0.0\n",
       "number_of_casualties                       0.0\n",
       "date                                       0.0\n",
       "time                                       0.0\n",
       "1st_road_class                             0.0\n",
       "1st_road_number                            0.0\n",
       "road_type                                  0.0\n",
       "speed_limit                                0.0\n",
       "junction_detail                            0.0\n",
       "junction_control                           0.0\n",
       "2nd_road_class                             0.0\n",
       "2nd_road_number                            0.0\n",
       "pedestrian_crossing-human_control          0.0\n",
       "pedestrian_crossing-physical_facilities    0.0\n",
       "light_conditions                           0.0\n",
       "weather_conditions                         0.0\n",
       "road_surface_conditions                    0.0\n",
       "special_conditions_at_site                 0.0\n",
       "carriageway_hazards                        0.0\n",
       "urban_or_rural_area                        0.0\n",
       "lsoa_of_accident_location                  0.0\n",
       "police_force                               0.0\n",
       "local_authority_district                   0.0\n",
       "local_authority_highway                    0.0\n",
       "target                                     0.0\n",
       "dtype: float64"
      ]
     },
     "execution_count": 11,
     "metadata": {},
     "output_type": "execute_result"
    }
   ],
   "source": [
    "df.isnull().mean()"
   ]
  },
  {
   "cell_type": "markdown",
   "metadata": {},
   "source": [
    "### Target\n",
    "\n",
    "Severity of accident: \n",
    "* serious = 1\n",
    "* slight = 0"
   ]
  },
  {
   "cell_type": "code",
   "execution_count": 12,
   "metadata": {},
   "outputs": [
    {
     "data": {
      "text/plain": [
       "0    113999\n",
       "1     23600\n",
       "Name: target, dtype: int64"
      ]
     },
     "execution_count": 12,
     "metadata": {},
     "output_type": "execute_result"
    }
   ],
   "source": [
    "df.target.value_counts()"
   ]
  },
  {
   "cell_type": "markdown",
   "metadata": {},
   "source": [
    "**Only 17% of the accidents are classified as severe**"
   ]
  },
  {
   "cell_type": "code",
   "execution_count": 13,
   "metadata": {},
   "outputs": [
    {
     "data": {
      "image/png": "[encoded data removed]",
      "text/plain": [
       "<Figure size 1152x288 with 1 Axes>"
      ]
     },
     "metadata": {},
     "output_type": "display_data"
    }
   ],
   "source": [
    "fig = pd.value_counts(df['target'].values, sort=True).plot.barh(\n",
    "    figsize=(16, 4), \n",
    "    color='b')"
   ]
  },
  {
   "cell_type": "code",
   "execution_count": 14,
   "metadata": {},
   "outputs": [],
   "source": [
    "fig.get_figure().savefig('../../figures/EDA_target.png', bbox_inches=\"tight\")"
   ]
  },
  {
   "cell_type": "markdown",
   "metadata": {},
   "source": [
    "### Num vehicles"
   ]
  },
  {
   "cell_type": "code",
   "execution_count": 15,
   "metadata": {},
   "outputs": [
    {
     "data": {
      "text/plain": [
       "2     83435\n",
       "1     39841\n",
       "3     11052\n",
       "4      2457\n",
       "5       521\n",
       "6       170\n",
       "7        72\n",
       "8        26\n",
       "9        11\n",
       "10        6\n",
       "11        4\n",
       "16        2\n",
       "13        1\n",
       "12        1\n",
       "Name: number_of_vehicles, dtype: int64"
      ]
     },
     "execution_count": 15,
     "metadata": {},
     "output_type": "execute_result"
    }
   ],
   "source": [
    "df['number_of_vehicles'].value_counts()"
   ]
  },
  {
   "cell_type": "code",
   "execution_count": 16,
   "metadata": {},
   "outputs": [
    {
     "data": {
      "image/png": "[encoded data removed]",
      "text/plain": [
       "<Figure size 1152x432 with 1 Axes>"
      ]
     },
     "metadata": {},
     "output_type": "display_data"
    }
   ],
   "source": [
    "fig = pd.value_counts(df['number_of_vehicles'].values, sort=True).plot.barh(\n",
    "    figsize=(16, 6),\n",
    "    color='r')"
   ]
  },
  {
   "cell_type": "code",
   "execution_count": 17,
   "metadata": {},
   "outputs": [],
   "source": [
    "fig.get_figure().savefig('../../figures/EDA_num_vehicles.png', bbox_inches=\"tight\")"
   ]
  },
  {
   "cell_type": "markdown",
   "metadata": {},
   "source": [
    "### Number of casualties"
   ]
  },
  {
   "cell_type": "code",
   "execution_count": 18,
   "metadata": {},
   "outputs": [
    {
     "data": {
      "text/plain": [
       "1     107584\n",
       "2      20679\n",
       "3       5993\n",
       "4       2095\n",
       "5        775\n",
       "6        278\n",
       "7         85\n",
       "8         42\n",
       "9         20\n",
       "10        16\n",
       "12        10\n",
       "11         5\n",
       "14         3\n",
       "15         3\n",
       "27         2\n",
       "16         2\n",
       "19         2\n",
       "13         1\n",
       "18         1\n",
       "21         1\n",
       "23         1\n",
       "58         1\n",
       "Name: number_of_casualties, dtype: int64"
      ]
     },
     "execution_count": 18,
     "metadata": {},
     "output_type": "execute_result"
    }
   ],
   "source": [
    "df['number_of_casualties'].value_counts()"
   ]
  },
  {
   "cell_type": "markdown",
   "metadata": {},
   "source": [
    "### Date and time"
   ]
  },
  {
   "cell_type": "code",
   "execution_count": 19,
   "metadata": {},
   "outputs": [
    {
     "data": {
      "text/plain": [
       "min    2016-01-01\n",
       "max    2016-12-31\n",
       "Name: date, dtype: object"
      ]
     },
     "execution_count": 19,
     "metadata": {},
     "output_type": "execute_result"
    }
   ],
   "source": [
    "df['date'].agg([min, max])"
   ]
  },
  {
   "cell_type": "code",
   "execution_count": 20,
   "metadata": {},
   "outputs": [
    {
     "data": {
      "text/plain": [
       "min    00:01\n",
       "max    23:59\n",
       "Name: time, dtype: object"
      ]
     },
     "execution_count": 20,
     "metadata": {},
     "output_type": "execute_result"
    }
   ],
   "source": [
    "df['time'].agg([min, max])"
   ]
  },
  {
   "cell_type": "code",
   "execution_count": 21,
   "metadata": {},
   "outputs": [],
   "source": [
    "df['date'] = pd.to_datetime(df['date'])"
   ]
  },
  {
   "cell_type": "code",
   "execution_count": 22,
   "metadata": {},
   "outputs": [
    {
     "data": {
      "text/plain": [
       "dtype('<M8[ns]')"
      ]
     },
     "execution_count": 22,
     "metadata": {},
     "output_type": "execute_result"
    }
   ],
   "source": [
    "df['date'].dtype"
   ]
  },
  {
   "cell_type": "code",
   "execution_count": 23,
   "metadata": {},
   "outputs": [],
   "source": [
    "num_accidents_daily = df.set_index('date')['accident_id'].resample('d').count()"
   ]
  },
  {
   "cell_type": "code",
   "execution_count": 24,
   "metadata": {},
   "outputs": [
    {
     "data": {
      "text/plain": [
       "<matplotlib.axes._subplots.AxesSubplot at 0x7f9ef16490b8>"
      ]
     },
     "execution_count": 24,
     "metadata": {},
     "output_type": "execute_result"
    },
    {
     "data": {
      "image/png": "[encoded data removed]",
      "text/plain": [
       "<Figure size 1008x504 with 1 Axes>"
      ]
     },
     "metadata": {},
     "output_type": "display_data"
    }
   ],
   "source": [
    "fig = num_accidents_daily.plot()"
   ]
  },
  {
   "cell_type": "code",
   "execution_count": null,
   "metadata": {},
   "outputs": [],
   "source": [
    "fig.get_figure().savefig('../../figures/EDA_num_accidents_daily.png', bbox_inches=\"tight\")"
   ]
  },
  {
   "cell_type": "code",
   "execution_count": 25,
   "metadata": {},
   "outputs": [
    {
     "data": {
      "text/plain": [
       "<matplotlib.axes._subplots.AxesSubplot at 0x7f9ef17b2d30>"
      ]
     },
     "execution_count": 25,
     "metadata": {},
     "output_type": "execute_result"
    },
    {
     "data": {
      "image/png": "[encoded data removed]",
      "text/plain": [
       "<Figure size 1008x504 with 1 Axes>"
      ]
     },
     "metadata": {},
     "output_type": "display_data"
    }
   ],
   "source": [
    "fig = df.set_index('date')['accident_id'].resample('M').count().plot.bar(color='g')"
   ]
  },
  {
   "cell_type": "code",
   "execution_count": null,
   "metadata": {},
   "outputs": [],
   "source": [
    "fig.get_figure().savefig('../../figures/EDA_num_accidents_monthly.png', bbox_inches=\"tight\")"
   ]
  },
  {
   "cell_type": "code",
   "execution_count": 26,
   "metadata": {},
   "outputs": [],
   "source": [
    "num_casualties_daily = df.set_index('date')['number_of_casualties'].resample('d').sum()"
   ]
  },
  {
   "cell_type": "code",
   "execution_count": 27,
   "metadata": {},
   "outputs": [
    {
     "data": {
      "text/plain": [
       "<matplotlib.axes._subplots.AxesSubplot at 0x7f9ef1588c18>"
      ]
     },
     "execution_count": 27,
     "metadata": {},
     "output_type": "execute_result"
    },
    {
     "data": {
      "image/png": "[encoded data removed]",
      "text/plain": [
       "<Figure size 1008x504 with 1 Axes>"
      ]
     },
     "metadata": {},
     "output_type": "display_data"
    }
   ],
   "source": [
    "fig = num_casualties_daily.plot(color='b')"
   ]
  },
  {
   "cell_type": "code",
   "execution_count": null,
   "metadata": {},
   "outputs": [],
   "source": [
    "fig.get_figure().savefig('../../figures/EDA_num_casualties_daily.png', bbox_inches=\"tight\")"
   ]
  },
  {
   "cell_type": "markdown",
   "metadata": {},
   "source": [
    "Day of the week:"
   ]
  },
  {
   "cell_type": "code",
   "execution_count": 28,
   "metadata": {},
   "outputs": [
    {
     "data": {
      "text/plain": [
       "4    21645\n",
       "3    21091\n",
       "2    20320\n",
       "1    20088\n",
       "0    19624\n",
       "5    17961\n",
       "6    16870\n",
       "Name: date, dtype: int64"
      ]
     },
     "execution_count": 28,
     "metadata": {},
     "output_type": "execute_result"
    }
   ],
   "source": [
    "df['date'].dt.dayofweek.value_counts()"
   ]
  },
  {
   "cell_type": "code",
   "execution_count": 29,
   "metadata": {},
   "outputs": [
    {
     "data": {
      "image/png": "[encoded data removed]",
      "text/plain": [
       "<Figure size 1152x432 with 1 Axes>"
      ]
     },
     "metadata": {},
     "output_type": "display_data"
    }
   ],
   "source": [
    "fig = pd.value_counts(df['date'].dt.dayofweek.values, sort=True).plot.barh(\n",
    "    figsize=(16, 6),\n",
    "    color='r')"
   ]
  },
  {
   "cell_type": "code",
   "execution_count": null,
   "metadata": {},
   "outputs": [],
   "source": [
    "fig.get_figure().savefig('../../figures/EDA_day_of_the_week.png', bbox_inches=\"tight\")"
   ]
  },
  {
   "cell_type": "markdown",
   "metadata": {},
   "source": [
    "**Note:** Saturday and Friday are the days with the most accidents"
   ]
  },
  {
   "cell_type": "code",
   "execution_count": 30,
   "metadata": {},
   "outputs": [],
   "source": [
    "df['day_of_week'] = df['date'].dt.dayofweek"
   ]
  },
  {
   "cell_type": "code",
   "execution_count": 31,
   "metadata": {},
   "outputs": [
    {
     "data": {
      "image/png": "[encoded data removed]",
      "text/plain": [
       "<Figure size 1152x432 with 1 Axes>"
      ]
     },
     "metadata": {},
     "output_type": "display_data"
    }
   ],
   "source": [
    "fig = pd.value_counts(df['date'].dt.month.values, sort=True).plot.barh(\n",
    "    figsize=(16, 6),\n",
    "    color='g')"
   ]
  },
  {
   "cell_type": "code",
   "execution_count": null,
   "metadata": {},
   "outputs": [],
   "source": [
    "fig.get_figure().savefig('../../figures/EDA_month.png', bbox_inches=\"tight\")"
   ]
  },
  {
   "cell_type": "code",
   "execution_count": 32,
   "metadata": {},
   "outputs": [],
   "source": [
    "df['month'] = df['date'].dt.month"
   ]
  },
  {
   "cell_type": "code",
   "execution_count": 33,
   "metadata": {},
   "outputs": [
    {
     "data": {
      "text/plain": [
       "array([ 1,  2,  3,  4,  5,  6,  7,  8,  9, 10, 11, 12])"
      ]
     },
     "execution_count": 33,
     "metadata": {},
     "output_type": "execute_result"
    }
   ],
   "source": [
    "df['month'].unique()"
   ]
  },
  {
   "cell_type": "code",
   "execution_count": 34,
   "metadata": {},
   "outputs": [
    {
     "data": {
      "text/plain": [
       "<matplotlib.axes._subplots.AxesSubplot at 0x7f9eeecbb048>"
      ]
     },
     "execution_count": 34,
     "metadata": {},
     "output_type": "execute_result"
    },
    {
     "data": {
      "image/png": "[encoded data removed]",
      "text/plain": [
       "<Figure size 1008x504 with 1 Axes>"
      ]
     },
     "metadata": {},
     "output_type": "display_data"
    }
   ],
   "source": [
    "# January\n",
    "fig = df[df['month'] == 1].set_index('date')['accident_id'].resample('d').count().plot(color='b')"
   ]
  },
  {
   "cell_type": "code",
   "execution_count": null,
   "metadata": {},
   "outputs": [],
   "source": [
    "fig.get_figure().savefig('../../figures/EDA_January_daily.png', bbox_inches=\"tight\")"
   ]
  },
  {
   "cell_type": "code",
   "execution_count": 35,
   "metadata": {},
   "outputs": [
    {
     "data": {
      "text/plain": [
       "<matplotlib.axes._subplots.AxesSubplot at 0x7f9eeec88be0>"
      ]
     },
     "execution_count": 35,
     "metadata": {},
     "output_type": "execute_result"
    },
    {
     "data": {
      "image/png": "[encoded data removed]",
      "text/plain": [
       "<Figure size 1008x504 with 1 Axes>"
      ]
     },
     "metadata": {},
     "output_type": "display_data"
    }
   ],
   "source": [
    "# November\n",
    "fig = df[df['month'] == 11].set_index('date')['accident_id'].resample('d').count().plot(color='y')"
   ]
  },
  {
   "cell_type": "code",
   "execution_count": null,
   "metadata": {},
   "outputs": [],
   "source": [
    "fig.get_figure().savefig('../../figures/EDA_November_daily.png', bbox_inches=\"tight\")"
   ]
  },
  {
   "cell_type": "code",
   "execution_count": 36,
   "metadata": {},
   "outputs": [],
   "source": [
    "df['time'] = pd.to_datetime(df['time'], format='%H:%M')"
   ]
  },
  {
   "cell_type": "code",
   "execution_count": 37,
   "metadata": {},
   "outputs": [],
   "source": [
    "df['hour'] = df['time'].dt.hour"
   ]
  },
  {
   "cell_type": "markdown",
   "metadata": {},
   "source": [
    "### Road type"
   ]
  },
  {
   "cell_type": "code",
   "execution_count": 38,
   "metadata": {},
   "outputs": [
    {
     "data": {
      "text/plain": [
       "[1, 2, 3, 4, 5, 6]"
      ]
     },
     "execution_count": 38,
     "metadata": {},
     "output_type": "execute_result"
    }
   ],
   "source": [
    "sorted(df['road_type'].unique())"
   ]
  },
  {
   "cell_type": "code",
   "execution_count": 39,
   "metadata": {},
   "outputs": [
    {
     "data": {
      "text/plain": [
       "4    102427\n",
       "1     20265\n",
       "3      8926\n",
       "2      3140\n",
       "5      1445\n",
       "6      1396\n",
       "Name: road_type, dtype: int64"
      ]
     },
     "execution_count": 39,
     "metadata": {},
     "output_type": "execute_result"
    }
   ],
   "source": [
    "df['road_type'].value_counts()"
   ]
  },
  {
   "cell_type": "code",
   "execution_count": 40,
   "metadata": {},
   "outputs": [
    {
     "data": {
      "image/png": "[encoded data removed]",
      "text/plain": [
       "<Figure size 1152x288 with 1 Axes>"
      ]
     },
     "metadata": {},
     "output_type": "display_data"
    }
   ],
   "source": [
    "fig = pd.value_counts(df['road_type'].values, sort=True).plot.barh(\n",
    "    figsize=(16, 4),\n",
    "    color='g')"
   ]
  },
  {
   "cell_type": "code",
   "execution_count": 41,
   "metadata": {},
   "outputs": [],
   "source": [
    "fig.get_figure().savefig('../../figures/EDA_road_type.png', bbox_inches=\"tight\")"
   ]
  },
  {
   "cell_type": "markdown",
   "metadata": {},
   "source": [
    "### Road class"
   ]
  },
  {
   "cell_type": "code",
   "execution_count": 42,
   "metadata": {},
   "outputs": [
    {
     "data": {
      "text/plain": [
       "A               61899\n",
       "Unclassified    44092\n",
       "B               16737\n",
       "C                9436\n",
       "Motorway         5036\n",
       "A(M)              399\n",
       "Name: 1st_road_class, dtype: int64"
      ]
     },
     "execution_count": 42,
     "metadata": {},
     "output_type": "execute_result"
    }
   ],
   "source": [
    "df['1st_road_class'].value_counts()"
   ]
  },
  {
   "cell_type": "code",
   "execution_count": 43,
   "metadata": {},
   "outputs": [
    {
     "data": {
      "text/plain": [
       "0       44579\n",
       "1        1612\n",
       "6        1295\n",
       "4        1249\n",
       "5         927\n",
       "25        899\n",
       "3         843\n",
       "23        824\n",
       "40        799\n",
       "38        796\n",
       "2         659\n",
       "27        556\n",
       "10        548\n",
       "41        547\n",
       "11        537\n",
       "259       536\n",
       "13        528\n",
       "20        492\n",
       "34        491\n",
       "12        485\n",
       "30        462\n",
       "61        453\n",
       "406       428\n",
       "24        407\n",
       "62        395\n",
       "57        368\n",
       "47        359\n",
       "8         358\n",
       "21        340\n",
       "46        329\n",
       "        ...  \n",
       "3476        1\n",
       "1429        1\n",
       "7100        1\n",
       "5309        1\n",
       "1215        1\n",
       "8085        1\n",
       "8124        1\n",
       "7701        1\n",
       "5524        1\n",
       "4546        1\n",
       "4802        1\n",
       "9156        1\n",
       "1344        1\n",
       "1472        1\n",
       "3521        1\n",
       "918         1\n",
       "9106        1\n",
       "4419        1\n",
       "4547        1\n",
       "8722        1\n",
       "7106        1\n",
       "7234        1\n",
       "1345        1\n",
       "3904        1\n",
       "4476        1\n",
       "8390        1\n",
       "4800        1\n",
       "7958        1\n",
       "3604        1\n",
       "3531        1\n",
       "Name: 1st_road_number, Length: 4180, dtype: int64"
      ]
     },
     "execution_count": 43,
     "metadata": {},
     "output_type": "execute_result"
    }
   ],
   "source": [
    "df['1st_road_number'].value_counts()"
   ]
  },
  {
   "cell_type": "code",
   "execution_count": 44,
   "metadata": {
    "scrolled": true
   },
   "outputs": [
    {
     "data": {
      "text/plain": [
       "-1              57375\n",
       "Unclassified    55734\n",
       "A               13074\n",
       "C                5290\n",
       "B                5185\n",
       "Motorway          845\n",
       "A(M)               96\n",
       "Name: 2nd_road_class, dtype: int64"
      ]
     },
     "execution_count": 44,
     "metadata": {},
     "output_type": "execute_result"
    }
   ],
   "source": [
    "df['2nd_road_class'].value_counts()"
   ]
  },
  {
   "cell_type": "markdown",
   "metadata": {},
   "source": [
    "### Weather & other conditions"
   ]
  },
  {
   "cell_type": "code",
   "execution_count": 45,
   "metadata": {
    "scrolled": true
   },
   "outputs": [
    {
     "data": {
      "text/plain": [
       " 1    113072\n",
       " 2     14580\n",
       " 5      3830\n",
       " 4      2260\n",
       " 7      1394\n",
       " 6      1273\n",
       " 3       752\n",
       " 8       350\n",
       " 9        79\n",
       "-1         9\n",
       "Name: weather_conditions, dtype: int64"
      ]
     },
     "execution_count": 45,
     "metadata": {},
     "output_type": "execute_result"
    }
   ],
   "source": [
    "df['weather_conditions'].value_counts()"
   ]
  },
  {
   "cell_type": "code",
   "execution_count": null,
   "metadata": {},
   "outputs": [],
   "source": [
    "fig = pd.value_counts(df['weather_conditions'].values, sort=True).plot.barh(\n",
    "    figsize=(16, 6),\n",
    "    color='g')"
   ]
  },
  {
   "cell_type": "code",
   "execution_count": null,
   "metadata": {},
   "outputs": [],
   "source": [
    "fig.get_figure().savefig('../../figures/EDA_weather_conditions.png', bbox_inches=\"tight\")"
   ]
  },
  {
   "cell_type": "code",
   "execution_count": 46,
   "metadata": {},
   "outputs": [
    {
     "data": {
      "text/plain": [
       "Dry                     99951\n",
       "Wet or damp             34434\n",
       "Frost or ice             2025\n",
       "-1                        767\n",
       "Snow                      266\n",
       "Flood over 3cm. deep      156\n",
       "Name: road_surface_conditions, dtype: int64"
      ]
     },
     "execution_count": 46,
     "metadata": {},
     "output_type": "execute_result"
    }
   ],
   "source": [
    "df['road_surface_conditions'].value_counts()"
   ]
  },
  {
   "cell_type": "code",
   "execution_count": 47,
   "metadata": {},
   "outputs": [
    {
     "data": {
      "text/plain": [
       "None                                          134231\n",
       "Roadworks                                       1437\n",
       "-1                                               506\n",
       "Mud                                              324\n",
       "Oil or diesel                                    309\n",
       "Road surface defective                           303\n",
       "Auto traffic signal - out                        285\n",
       "Road sign or marking defective or obscured       156\n",
       "Auto signal part defective                        48\n",
       "Name: special_conditions_at_site, dtype: int64"
      ]
     },
     "execution_count": 47,
     "metadata": {},
     "output_type": "execute_result"
    }
   ],
   "source": [
    "df['special_conditions_at_site'].value_counts()"
   ]
  },
  {
   "cell_type": "code",
   "execution_count": 48,
   "metadata": {},
   "outputs": [
    {
     "data": {
      "text/plain": [
       "Daylight                       99672\n",
       "Darkness - lights lit          27770\n",
       "Darkness - no lighting          7066\n",
       "Darkness - lighting unknown     2220\n",
       "Darkness - lights unlit          862\n",
       "-1                                 9\n",
       "Name: light_conditions, dtype: int64"
      ]
     },
     "execution_count": 48,
     "metadata": {},
     "output_type": "execute_result"
    }
   ],
   "source": [
    "df['light_conditions'].value_counts()"
   ]
  },
  {
   "cell_type": "markdown",
   "metadata": {},
   "source": [
    "### Speed limit"
   ]
  },
  {
   "cell_type": "code",
   "execution_count": 49,
   "metadata": {},
   "outputs": [
    {
     "data": {
      "text/plain": [
       "30.0     85504\n",
       "60.0     18480\n",
       "40.0     11509\n",
       "70.0      9367\n",
       "20.0      6802\n",
       "50.0      5722\n",
       "300.0      215\n",
       "Name: speed_limit, dtype: int64"
      ]
     },
     "execution_count": 49,
     "metadata": {},
     "output_type": "execute_result"
    }
   ],
   "source": [
    "df['speed_limit'].value_counts()"
   ]
  },
  {
   "cell_type": "markdown",
   "metadata": {},
   "source": [
    "### Urban or rural"
   ]
  },
  {
   "cell_type": "code",
   "execution_count": 50,
   "metadata": {},
   "outputs": [
    {
     "data": {
      "text/plain": [
       "Urban    89127\n",
       "Rural    48472\n",
       "Name: urban_or_rural_area, dtype: int64"
      ]
     },
     "execution_count": 50,
     "metadata": {},
     "output_type": "execute_result"
    }
   ],
   "source": [
    "df['urban_or_rural_area'].value_counts()"
   ]
  },
  {
   "cell_type": "code",
   "execution_count": 51,
   "metadata": {},
   "outputs": [
    {
     "data": {
      "text/plain": [
       "array(['Brent', 'Bexley', 'Hillingdon', 'Merton', 'Hounslow', 'Croydon',\n",
       "       'Westminster', 'Barnet', 'Kensington and Chelsea', 'Greenwich',\n",
       "       'Haringey', 'Tower Hamlets', 'Barking and Dagenham',\n",
       "       'Richmond upon Thames', 'Enfield', 'Redbridge', 'Bromley',\n",
       "       'Havering', 'Wandsworth', 'Southwark', 'Sutton', 'Hackney',\n",
       "       'Ealing', 'Harrow', 'Lambeth', 'Newham', 'Kingston upon Thames',\n",
       "       'Camden', 'Hammersmith and Fulham', 'Lewisham', 'Islington',\n",
       "       'Waltham Forest', 'City of London', 'London Airport (Heathrow)',\n",
       "       'Carlisle', 'Allerdale', 'Eden', 'South Lakeland', 'Copeland',\n",
       "       'Barrow-in-Furness', 'Blackpool', 'Blackburn with Darwen',\n",
       "       'Hyndburn', 'Ribble Valley', 'Pendle', 'Rossendale', 'Burnley',\n",
       "       'Preston', 'South Ribble', 'Fylde', 'West Lancashire', 'Chorley',\n",
       "       'Lancaster', 'Wyre', 'Sefton', 'Liverpool', 'Wirral', 'Knowsley',\n",
       "       'St. Helens', 'Manchester', 'Salford', 'Tameside', 'Stockport',\n",
       "       'Bolton', 'Wigan', 'Trafford', 'Bury', 'Rochdale', 'Oldham',\n",
       "       'Cheshire East', 'Warrington', 'Cheshire West and Chester',\n",
       "       'Halton', 'Northumberland', 'Newcastle upon Tyne',\n",
       "       'North Tyneside', 'Sunderland', 'Gateshead', 'South Tyneside',\n",
       "       'County Durham', 'Darlington', 'Hambleton', 'Harrogate',\n",
       "       'Scarborough', 'Richmondshire', 'York', 'Craven', 'Selby',\n",
       "       'Ryedale', 'Leeds', 'Calderdale', 'Bradford', 'Kirklees',\n",
       "       'Wakefield', 'Barnsley', 'Sheffield', 'Doncaster', 'Rotherham',\n",
       "       'North East Lincolnshire', 'East Riding of Yorkshire',\n",
       "       'North Lincolnshire', 'Kingston upon Hull, City of', 'Hartlepool',\n",
       "       'Redcar and Cleveland', 'Middlesbrough', 'Stockton-on-Tees',\n",
       "       'Birmingham', 'Walsall', 'Dudley', 'Wolverhampton', 'Sandwell',\n",
       "       'Solihull', 'Coventry', 'Newcastle-under-Lyme', 'Stoke-on-Trent',\n",
       "       'Lichfield', 'East Staffordshire', 'Stafford',\n",
       "       'South Staffordshire', 'Staffordshire Moorlands', 'Tamworth',\n",
       "       'Cannock Chase', 'Wychavon', 'Wyre Forest', 'Malvern Hills',\n",
       "       'Herefordshire, County of ', 'Redditch', 'Shropshire', 'Worcester',\n",
       "       'Telford and Wrekin', 'Bromsgrove', 'Stratford-upon-Avon',\n",
       "       'Warwick', 'Rugby ', 'North Warwickshire', 'Nuneaton and Bedworth',\n",
       "       'High Peak', 'Chesterfield', 'North East Derbyshire', 'Bolsover',\n",
       "       'Amber Valley', 'Derbyshire Dales', 'Derby', 'Erewash',\n",
       "       'South Derbyshire', 'Mansfield', 'Ashfield', 'Newark and Sherwood',\n",
       "       'Bassetlaw', 'Nottingham', 'Rushcliffe', 'Gedling', 'Broxtowe',\n",
       "       'North Kesteven', 'East Lindsey', 'Lincoln', 'South Kesteven',\n",
       "       'South Holland', 'West Lindsey', 'Boston', 'Blaby', 'Leicester',\n",
       "       'Harborough', 'Melton', 'Hinckley and Bosworth',\n",
       "       'North West Leicestershire', 'Charnwood', 'Rutland',\n",
       "       'Oadby and Wigston', 'Wellingborough', 'Corby',\n",
       "       'East Northamptonshire', 'Kettering', 'Daventry',\n",
       "       'South Northamptonshire', 'Northampton', 'South Cambridgeshire',\n",
       "       'Peterborough', 'Fenland', 'Huntingdonshire', 'Cambridge',\n",
       "       'East Cambridgeshire', 'Breckland', 'South Norfolk',\n",
       "       \"King's Lynn and West Norfolk\", 'Norwich', 'Broadland',\n",
       "       'North Norfolk', 'Great Yarmouth', 'St. Edmundsbury',\n",
       "       'Suffolk Coastal', 'Waveney', 'Mid Suffolk', 'Ipswich', 'Babergh',\n",
       "       'Forest Heath', 'Central Bedfordshire', 'Luton', 'Bedford',\n",
       "       'North Hertfordshire', 'East Hertfordshire', 'Dacorum',\n",
       "       'Welwyn Hatfield', 'Broxbourne', 'St. Albans', 'Hertsmere',\n",
       "       'Watford', 'Three Rivers', 'Stevenage', 'Southend-on-Sea',\n",
       "       'Chelmsford', 'Tendring', 'Harlow', 'Castle Point', 'Colchester',\n",
       "       'Thurrock', 'Epping Forest', 'Brentwood', 'Braintree', 'Maldon',\n",
       "       'Basildon', 'Rochford', 'Uttlesford', 'Cherwell',\n",
       "       'Vale of White Horse', 'Milton Keynes', 'Wycombe', 'Oxford',\n",
       "       'Aylesbury Vale', 'Bracknell Forest', 'Reading',\n",
       "       'South Oxfordshire', 'West Berkshire', 'South Bucks', 'Chiltern',\n",
       "       'Wokingham', 'Slough', 'West Oxfordshire',\n",
       "       'Windsor and Maidenhead', 'Southampton ', 'Fareham', 'New Forest',\n",
       "       'Hart', 'Isle of Wight', 'Rushmoor', 'Portsmouth',\n",
       "       'Basingstoke and Deane', 'Test Valley', 'Winchester', 'Havant',\n",
       "       'Gosport', 'Eastleigh', 'East Hampshire', 'Tandridge',\n",
       "       'Mole Valley', 'Guildford', 'Reigate and Banstead',\n",
       "       'Epsom and Ewell', 'Runnymede', 'Woking', 'Elmbridge',\n",
       "       'Spelthorne', 'Waverley', 'Surrey Heath', 'Medway',\n",
       "       'Tonbridge and Malling', 'Maidstone', 'Canterbury', 'Sevenoaks',\n",
       "       'Shepway', 'Dartford', 'Ashford', 'Swale', 'Thanet', 'Gravesham',\n",
       "       'Dover', 'Tunbridge Wells', 'Worthing', 'Brighton and Hove',\n",
       "       'Eastbourne', 'Horsham', 'Lewes', 'Wealden', 'Hastings', 'Crawley',\n",
       "       'Chichester', 'Arun', 'Adur', 'Mid Sussex', 'Rother', 'Cornwall',\n",
       "       'Exeter', 'Plymouth', 'North Devon', 'Torridge', 'Torbay',\n",
       "       'Teignbridge', 'East Devon', 'Mid Devon', 'South Hams',\n",
       "       'West Devon', 'South Somerset', 'Sedgemoor', 'Taunton Deane',\n",
       "       'Mendip', 'West Somerset', 'South Gloucestershire',\n",
       "       'Bristol, City of', 'North Somerset',\n",
       "       'Bath and North East Somerset', 'Gloucester', 'Cotswold',\n",
       "       'Tewkesbury', 'Cheltenham', 'Forest of Dean', 'Stroud', 'Swindon',\n",
       "       'Wiltshire', 'Bournemouth', 'Weymouth and Portland', 'Purbeck',\n",
       "       'West Dorset', 'Poole', 'East Dorset', 'Christchurch',\n",
       "       'North Dorset', 'Flintshire', 'Gwynedd', 'Conwy', 'Wrexham',\n",
       "       'Denbighshire', 'Isle of Anglesey', 'Blaenau Gwent', 'Caerphilly',\n",
       "       'Newport', 'Monmouthshire', 'Torfaen', 'Cardiff', 'Swansea',\n",
       "       'The Vale of Glamorgan', 'Neath Port Talbot',\n",
       "       'Rhondda, Cynon, Taff', 'Bridgend', 'Merthyr Tydfil',\n",
       "       'Carmarthenshire', 'Ceredigion', 'Pembrokeshire', 'Powys',\n",
       "       'Highland', 'Western Isles', 'Orkney Islands', 'Shetland Islands',\n",
       "       'Aberdeen City', 'Moray', 'Aberdeenshire', 'Dundee City', 'Angus',\n",
       "       'Perth and Kinross', 'Fife', 'Edinburgh, City of', 'West Lothian',\n",
       "       'Scottish Borders', 'East Lothian', 'Midlothian', 'Falkirk',\n",
       "       'Stirling', 'Clackmannanshire', 'Glasgow City',\n",
       "       'East Dunbartonshire', 'North Lanarkshire', 'East Renfrewshire',\n",
       "       'Renfrewshire', 'Inverclyde', 'West Dunbartonshire',\n",
       "       'Argyll and Bute', 'South Lanarkshire', 'North Ayrshire',\n",
       "       'East Ayrshire', 'South Ayrshire', 'Dumfries and Galloway'],\n",
       "      dtype=object)"
      ]
     },
     "execution_count": 51,
     "metadata": {},
     "output_type": "execute_result"
    }
   ],
   "source": [
    "df['local_authority_district'].unique()"
   ]
  },
  {
   "cell_type": "markdown",
   "metadata": {},
   "source": [
    "Describe some parameters:"
   ]
  },
  {
   "cell_type": "code",
   "execution_count": 52,
   "metadata": {},
   "outputs": [
    {
     "data": {
      "text/html": [
       "<div>\n",
       "<style scoped>\n",
       "    .dataframe tbody tr th:only-of-type {\n",
       "        vertical-align: middle;\n",
       "    }\n",
       "\n",
       "    .dataframe tbody tr th {\n",
       "        vertical-align: top;\n",
       "    }\n",
       "\n",
       "    .dataframe thead th {\n",
       "        text-align: right;\n",
       "    }\n",
       "</style>\n",
       "<table border=\"1\" class=\"dataframe\">\n",
       "  <thead>\n",
       "    <tr style=\"text-align: right;\">\n",
       "      <th></th>\n",
       "      <th>number_of_vehicles</th>\n",
       "      <th>number_of_casualties</th>\n",
       "      <th>speed_limit</th>\n",
       "    </tr>\n",
       "  </thead>\n",
       "  <tbody>\n",
       "    <tr>\n",
       "      <th>count</th>\n",
       "      <td>137599.000000</td>\n",
       "      <td>137599.000000</td>\n",
       "      <td>137599.000000</td>\n",
       "    </tr>\n",
       "    <tr>\n",
       "      <th>mean</th>\n",
       "      <td>1.848066</td>\n",
       "      <td>1.327292</td>\n",
       "      <td>38.347735</td>\n",
       "    </tr>\n",
       "    <tr>\n",
       "      <th>std</th>\n",
       "      <td>0.710954</td>\n",
       "      <td>0.788879</td>\n",
       "      <td>17.434401</td>\n",
       "    </tr>\n",
       "    <tr>\n",
       "      <th>min</th>\n",
       "      <td>1.000000</td>\n",
       "      <td>1.000000</td>\n",
       "      <td>20.000000</td>\n",
       "    </tr>\n",
       "    <tr>\n",
       "      <th>25%</th>\n",
       "      <td>1.000000</td>\n",
       "      <td>1.000000</td>\n",
       "      <td>30.000000</td>\n",
       "    </tr>\n",
       "    <tr>\n",
       "      <th>50%</th>\n",
       "      <td>2.000000</td>\n",
       "      <td>1.000000</td>\n",
       "      <td>30.000000</td>\n",
       "    </tr>\n",
       "    <tr>\n",
       "      <th>75%</th>\n",
       "      <td>2.000000</td>\n",
       "      <td>1.000000</td>\n",
       "      <td>40.000000</td>\n",
       "    </tr>\n",
       "    <tr>\n",
       "      <th>max</th>\n",
       "      <td>16.000000</td>\n",
       "      <td>58.000000</td>\n",
       "      <td>300.000000</td>\n",
       "    </tr>\n",
       "  </tbody>\n",
       "</table>\n",
       "</div>"
      ],
      "text/plain": [
       "       number_of_vehicles  number_of_casualties    speed_limit\n",
       "count       137599.000000         137599.000000  137599.000000\n",
       "mean             1.848066              1.327292      38.347735\n",
       "std              0.710954              0.788879      17.434401\n",
       "min              1.000000              1.000000      20.000000\n",
       "25%              1.000000              1.000000      30.000000\n",
       "50%              2.000000              1.000000      30.000000\n",
       "75%              2.000000              1.000000      40.000000\n",
       "max             16.000000             58.000000     300.000000"
      ]
     },
     "execution_count": 52,
     "metadata": {},
     "output_type": "execute_result"
    }
   ],
   "source": [
    "df[['number_of_vehicles', 'number_of_casualties', 'speed_limit']].describe()"
   ]
  },
  {
   "cell_type": "code",
   "execution_count": 53,
   "metadata": {},
   "outputs": [
    {
     "data": {
      "text/html": [
       "<div>\n",
       "<style scoped>\n",
       "    .dataframe tbody tr th:only-of-type {\n",
       "        vertical-align: middle;\n",
       "    }\n",
       "\n",
       "    .dataframe tbody tr th {\n",
       "        vertical-align: top;\n",
       "    }\n",
       "\n",
       "    .dataframe thead tr th {\n",
       "        text-align: left;\n",
       "    }\n",
       "\n",
       "    .dataframe thead tr:last-of-type th {\n",
       "        text-align: right;\n",
       "    }\n",
       "</style>\n",
       "<table border=\"1\" class=\"dataframe\">\n",
       "  <thead>\n",
       "    <tr>\n",
       "      <th></th>\n",
       "      <th colspan=\"8\" halign=\"left\">number_of_vehicles</th>\n",
       "      <th colspan=\"5\" halign=\"left\">number_of_casualties</th>\n",
       "      <th colspan=\"8\" halign=\"left\">speed_limit</th>\n",
       "    </tr>\n",
       "    <tr>\n",
       "      <th></th>\n",
       "      <th>count</th>\n",
       "      <th>mean</th>\n",
       "      <th>std</th>\n",
       "      <th>min</th>\n",
       "      <th>25%</th>\n",
       "      <th>50%</th>\n",
       "      <th>75%</th>\n",
       "      <th>max</th>\n",
       "      <th>count</th>\n",
       "      <th>mean</th>\n",
       "      <th>...</th>\n",
       "      <th>75%</th>\n",
       "      <th>max</th>\n",
       "      <th>count</th>\n",
       "      <th>mean</th>\n",
       "      <th>std</th>\n",
       "      <th>min</th>\n",
       "      <th>25%</th>\n",
       "      <th>50%</th>\n",
       "      <th>75%</th>\n",
       "      <th>max</th>\n",
       "    </tr>\n",
       "    <tr>\n",
       "      <th>target</th>\n",
       "      <th></th>\n",
       "      <th></th>\n",
       "      <th></th>\n",
       "      <th></th>\n",
       "      <th></th>\n",
       "      <th></th>\n",
       "      <th></th>\n",
       "      <th></th>\n",
       "      <th></th>\n",
       "      <th></th>\n",
       "      <th></th>\n",
       "      <th></th>\n",
       "      <th></th>\n",
       "      <th></th>\n",
       "      <th></th>\n",
       "      <th></th>\n",
       "      <th></th>\n",
       "      <th></th>\n",
       "      <th></th>\n",
       "      <th></th>\n",
       "      <th></th>\n",
       "    </tr>\n",
       "  </thead>\n",
       "  <tbody>\n",
       "    <tr>\n",
       "      <th>0</th>\n",
       "      <td>113999.0</td>\n",
       "      <td>1.873648</td>\n",
       "      <td>0.699053</td>\n",
       "      <td>1.0</td>\n",
       "      <td>1.0</td>\n",
       "      <td>2.0</td>\n",
       "      <td>2.0</td>\n",
       "      <td>16.0</td>\n",
       "      <td>113999.0</td>\n",
       "      <td>1.306362</td>\n",
       "      <td>...</td>\n",
       "      <td>1.0</td>\n",
       "      <td>27.0</td>\n",
       "      <td>113999.0</td>\n",
       "      <td>37.938140</td>\n",
       "      <td>17.894109</td>\n",
       "      <td>20.0</td>\n",
       "      <td>30.0</td>\n",
       "      <td>30.0</td>\n",
       "      <td>40.0</td>\n",
       "      <td>300.0</td>\n",
       "    </tr>\n",
       "    <tr>\n",
       "      <th>1</th>\n",
       "      <td>23600.0</td>\n",
       "      <td>1.724492</td>\n",
       "      <td>0.753726</td>\n",
       "      <td>1.0</td>\n",
       "      <td>1.0</td>\n",
       "      <td>2.0</td>\n",
       "      <td>2.0</td>\n",
       "      <td>11.0</td>\n",
       "      <td>23600.0</td>\n",
       "      <td>1.428390</td>\n",
       "      <td>...</td>\n",
       "      <td>1.0</td>\n",
       "      <td>58.0</td>\n",
       "      <td>23600.0</td>\n",
       "      <td>40.326271</td>\n",
       "      <td>14.859096</td>\n",
       "      <td>20.0</td>\n",
       "      <td>30.0</td>\n",
       "      <td>30.0</td>\n",
       "      <td>60.0</td>\n",
       "      <td>70.0</td>\n",
       "    </tr>\n",
       "  </tbody>\n",
       "</table>\n",
       "<p>2 rows × 24 columns</p>\n",
       "</div>"
      ],
      "text/plain": [
       "       number_of_vehicles                                                \\\n",
       "                    count      mean       std  min  25%  50%  75%   max   \n",
       "target                                                                    \n",
       "0                113999.0  1.873648  0.699053  1.0  1.0  2.0  2.0  16.0   \n",
       "1                 23600.0  1.724492  0.753726  1.0  1.0  2.0  2.0  11.0   \n",
       "\n",
       "       number_of_casualties            ...            speed_limit             \\\n",
       "                      count      mean  ...  75%   max       count       mean   \n",
       "target                                 ...                                     \n",
       "0                  113999.0  1.306362  ...  1.0  27.0    113999.0  37.938140   \n",
       "1                   23600.0  1.428390  ...  1.0  58.0     23600.0  40.326271   \n",
       "\n",
       "                                                  \n",
       "              std   min   25%   50%   75%    max  \n",
       "target                                            \n",
       "0       17.894109  20.0  30.0  30.0  40.0  300.0  \n",
       "1       14.859096  20.0  30.0  30.0  60.0   70.0  \n",
       "\n",
       "[2 rows x 24 columns]"
      ]
     },
     "execution_count": 53,
     "metadata": {},
     "output_type": "execute_result"
    }
   ],
   "source": [
    "df.groupby('target')[['number_of_vehicles', 'number_of_casualties', 'speed_limit']].describe()"
   ]
  },
  {
   "cell_type": "code",
   "execution_count": 54,
   "metadata": {
    "scrolled": false
   },
   "outputs": [
    {
     "data": {
      "text/html": [
       "<div>\n",
       "<style scoped>\n",
       "    .dataframe tbody tr th:only-of-type {\n",
       "        vertical-align: middle;\n",
       "    }\n",
       "\n",
       "    .dataframe tbody tr th {\n",
       "        vertical-align: top;\n",
       "    }\n",
       "\n",
       "    .dataframe thead th {\n",
       "        text-align: right;\n",
       "    }\n",
       "</style>\n",
       "<table border=\"1\" class=\"dataframe\">\n",
       "  <thead>\n",
       "    <tr style=\"text-align: right;\">\n",
       "      <th></th>\n",
       "      <th>target</th>\n",
       "      <th>0</th>\n",
       "      <th>1</th>\n",
       "    </tr>\n",
       "  </thead>\n",
       "  <tbody>\n",
       "    <tr>\n",
       "      <th rowspan=\"8\" valign=\"top\">number_of_casualties</th>\n",
       "      <th>count</th>\n",
       "      <td>113999.000000</td>\n",
       "      <td>23600.000000</td>\n",
       "    </tr>\n",
       "    <tr>\n",
       "      <th>mean</th>\n",
       "      <td>1.306362</td>\n",
       "      <td>1.428390</td>\n",
       "    </tr>\n",
       "    <tr>\n",
       "      <th>std</th>\n",
       "      <td>0.722923</td>\n",
       "      <td>1.044843</td>\n",
       "    </tr>\n",
       "    <tr>\n",
       "      <th>min</th>\n",
       "      <td>1.000000</td>\n",
       "      <td>1.000000</td>\n",
       "    </tr>\n",
       "    <tr>\n",
       "      <th>25%</th>\n",
       "      <td>1.000000</td>\n",
       "      <td>1.000000</td>\n",
       "    </tr>\n",
       "    <tr>\n",
       "      <th>50%</th>\n",
       "      <td>1.000000</td>\n",
       "      <td>1.000000</td>\n",
       "    </tr>\n",
       "    <tr>\n",
       "      <th>75%</th>\n",
       "      <td>1.000000</td>\n",
       "      <td>1.000000</td>\n",
       "    </tr>\n",
       "    <tr>\n",
       "      <th>max</th>\n",
       "      <td>27.000000</td>\n",
       "      <td>58.000000</td>\n",
       "    </tr>\n",
       "    <tr>\n",
       "      <th rowspan=\"8\" valign=\"top\">number_of_vehicles</th>\n",
       "      <th>count</th>\n",
       "      <td>113999.000000</td>\n",
       "      <td>23600.000000</td>\n",
       "    </tr>\n",
       "    <tr>\n",
       "      <th>mean</th>\n",
       "      <td>1.873648</td>\n",
       "      <td>1.724492</td>\n",
       "    </tr>\n",
       "    <tr>\n",
       "      <th>std</th>\n",
       "      <td>0.699053</td>\n",
       "      <td>0.753726</td>\n",
       "    </tr>\n",
       "    <tr>\n",
       "      <th>min</th>\n",
       "      <td>1.000000</td>\n",
       "      <td>1.000000</td>\n",
       "    </tr>\n",
       "    <tr>\n",
       "      <th>25%</th>\n",
       "      <td>1.000000</td>\n",
       "      <td>1.000000</td>\n",
       "    </tr>\n",
       "    <tr>\n",
       "      <th>50%</th>\n",
       "      <td>2.000000</td>\n",
       "      <td>2.000000</td>\n",
       "    </tr>\n",
       "    <tr>\n",
       "      <th>75%</th>\n",
       "      <td>2.000000</td>\n",
       "      <td>2.000000</td>\n",
       "    </tr>\n",
       "    <tr>\n",
       "      <th>max</th>\n",
       "      <td>16.000000</td>\n",
       "      <td>11.000000</td>\n",
       "    </tr>\n",
       "    <tr>\n",
       "      <th rowspan=\"8\" valign=\"top\">speed_limit</th>\n",
       "      <th>count</th>\n",
       "      <td>113999.000000</td>\n",
       "      <td>23600.000000</td>\n",
       "    </tr>\n",
       "    <tr>\n",
       "      <th>mean</th>\n",
       "      <td>37.938140</td>\n",
       "      <td>40.326271</td>\n",
       "    </tr>\n",
       "    <tr>\n",
       "      <th>std</th>\n",
       "      <td>17.894109</td>\n",
       "      <td>14.859096</td>\n",
       "    </tr>\n",
       "    <tr>\n",
       "      <th>min</th>\n",
       "      <td>20.000000</td>\n",
       "      <td>20.000000</td>\n",
       "    </tr>\n",
       "    <tr>\n",
       "      <th>25%</th>\n",
       "      <td>30.000000</td>\n",
       "      <td>30.000000</td>\n",
       "    </tr>\n",
       "    <tr>\n",
       "      <th>50%</th>\n",
       "      <td>30.000000</td>\n",
       "      <td>30.000000</td>\n",
       "    </tr>\n",
       "    <tr>\n",
       "      <th>75%</th>\n",
       "      <td>40.000000</td>\n",
       "      <td>60.000000</td>\n",
       "    </tr>\n",
       "    <tr>\n",
       "      <th>max</th>\n",
       "      <td>300.000000</td>\n",
       "      <td>70.000000</td>\n",
       "    </tr>\n",
       "  </tbody>\n",
       "</table>\n",
       "</div>"
      ],
      "text/plain": [
       "target                                  0             1\n",
       "number_of_casualties count  113999.000000  23600.000000\n",
       "                     mean        1.306362      1.428390\n",
       "                     std         0.722923      1.044843\n",
       "                     min         1.000000      1.000000\n",
       "                     25%         1.000000      1.000000\n",
       "                     50%         1.000000      1.000000\n",
       "                     75%         1.000000      1.000000\n",
       "                     max        27.000000     58.000000\n",
       "number_of_vehicles   count  113999.000000  23600.000000\n",
       "                     mean        1.873648      1.724492\n",
       "                     std         0.699053      0.753726\n",
       "                     min         1.000000      1.000000\n",
       "                     25%         1.000000      1.000000\n",
       "                     50%         2.000000      2.000000\n",
       "                     75%         2.000000      2.000000\n",
       "                     max        16.000000     11.000000\n",
       "speed_limit          count  113999.000000  23600.000000\n",
       "                     mean       37.938140     40.326271\n",
       "                     std        17.894109     14.859096\n",
       "                     min        20.000000     20.000000\n",
       "                     25%        30.000000     30.000000\n",
       "                     50%        30.000000     30.000000\n",
       "                     75%        40.000000     60.000000\n",
       "                     max       300.000000     70.000000"
      ]
     },
     "execution_count": 54,
     "metadata": {},
     "output_type": "execute_result"
    }
   ],
   "source": [
    "df.groupby('target')[['number_of_casualties', 'number_of_vehicles', 'speed_limit']].describe().T"
   ]
  },
  {
   "cell_type": "markdown",
   "metadata": {},
   "source": [
    "### Pedestrian Crossing"
   ]
  },
  {
   "cell_type": "code",
   "execution_count": 55,
   "metadata": {},
   "outputs": [
    {
     "data": {
      "text/plain": [
       "None within 50 metres                 136383\n",
       "Control by other authorised person       703\n",
       "Control by school crossing patrol        331\n",
       "-1                                       182\n",
       "Name: pedestrian_crossing-human_control, dtype: int64"
      ]
     },
     "execution_count": 55,
     "metadata": {},
     "output_type": "execute_result"
    }
   ],
   "source": [
    "df['pedestrian_crossing-human_control'].value_counts()"
   ]
  },
  {
   "cell_type": "code",
   "execution_count": 56,
   "metadata": {},
   "outputs": [
    {
     "data": {
      "text/plain": [
       "No physical crossing facilities within 50 metres                             111218\n",
       "Pedestrian phase at traffic signal junction                                   10249\n",
       "Pelican, puffin, toucan or similar non-junction pedestrian light crossing      7696\n",
       "Zebra                                                                          4286\n",
       "Central refuge                                                                 3237\n",
       "-1                                                                              628\n",
       "Footbridge or subway                                                            285\n",
       "Name: pedestrian_crossing-physical_facilities, dtype: int64"
      ]
     },
     "execution_count": 56,
     "metadata": {},
     "output_type": "execute_result"
    }
   ],
   "source": [
    "df['pedestrian_crossing-physical_facilities'].value_counts()"
   ]
  },
  {
   "cell_type": "markdown",
   "metadata": {},
   "source": [
    "### Junction details"
   ]
  },
  {
   "cell_type": "code",
   "execution_count": 57,
   "metadata": {},
   "outputs": [
    {
     "data": {
      "text/plain": [
       "Not at junction or within 20 metres    56788\n",
       "T or staggered junction                43058\n",
       "Crossroads                             13311\n",
       "Roundabout                             11817\n",
       "Private drive or entrance               4302\n",
       "Other junction                          3601\n",
       "Slip road                               1969\n",
       "Mini-roundabout                         1715\n",
       "More than 4 arms (not roundabout)        932\n",
       "-1                                       106\n",
       "Name: junction_detail, dtype: int64"
      ]
     },
     "execution_count": 57,
     "metadata": {},
     "output_type": "execute_result"
    }
   ],
   "source": [
    "df['junction_detail'].value_counts()"
   ]
  },
  {
   "cell_type": "code",
   "execution_count": 58,
   "metadata": {},
   "outputs": [
    {
     "data": {
      "text/plain": [
       "Give way or uncontrolled               64851\n",
       "-1                                     57008\n",
       "Auto traffic signal                    14362\n",
       "Stop sign                                688\n",
       "Not at junction or within 20 metres      391\n",
       "Authorised person                        299\n",
       "Name: junction_control, dtype: int64"
      ]
     },
     "execution_count": 58,
     "metadata": {},
     "output_type": "execute_result"
    }
   ],
   "source": [
    "df['junction_control'].value_counts()"
   ]
  },
  {
   "cell_type": "markdown",
   "metadata": {},
   "source": [
    "### Hazards"
   ]
  },
  {
   "cell_type": "code",
   "execution_count": 59,
   "metadata": {},
   "outputs": [
    {
     "data": {
      "text/plain": [
       "None                                               134876\n",
       "Other object on road                                  970\n",
       "Any animal in carriageway (except ridden horse)       558\n",
       "-1                                                    545\n",
       "Pedestrian in carriageway - not injured               259\n",
       "Vehicle load on road                                  202\n",
       "Previous accident                                     189\n",
       "Name: carriageway_hazards, dtype: int64"
      ]
     },
     "execution_count": 59,
     "metadata": {},
     "output_type": "execute_result"
    }
   ],
   "source": [
    "df['carriageway_hazards'].value_counts()"
   ]
  },
  {
   "cell_type": "markdown",
   "metadata": {},
   "source": [
    "### Police"
   ]
  },
  {
   "cell_type": "code",
   "execution_count": 60,
   "metadata": {},
   "outputs": [
    {
     "data": {
      "text/plain": [
       "Metropolitan Police      24967\n",
       "West Midlands             5964\n",
       "Kent                      5085\n",
       "West Yorkshire            5015\n",
       "Thames Valley             4907\n",
       "Hampshire                 4418\n",
       "Sussex                    4179\n",
       "Surrey                    3772\n",
       "Essex                     3723\n",
       "Strathclyde               3714\n",
       "Lancashire                3705\n",
       "Devon and Cornwall        3608\n",
       "South Yorkshire           3068\n",
       "Avon and Somerset         3055\n",
       "Greater Manchester        2928\n",
       "Northumbria               2824\n",
       "Hertfordshire             2655\n",
       "Staffordshire             2594\n",
       "Nottinghamshire           2594\n",
       "Merseyside                2508\n",
       "Humberside                2406\n",
       "Cheshire                  2390\n",
       "West Mercia               2313\n",
       "Leicestershire            2189\n",
       "Cambridgeshire            2167\n",
       "South Wales               2087\n",
       "North Yorkshire           2062\n",
       "Lothian and Borders       2017\n",
       "Lincolnshire              2002\n",
       "Derbyshire                1923\n",
       "Norfolk                   1875\n",
       "Wiltshire                 1608\n",
       "Suffolk                   1605\n",
       "Dorset                    1585\n",
       "Bedfordshire              1541\n",
       "Warwickshire              1470\n",
       "Cumbria                   1287\n",
       "Dyfed-Powys               1247\n",
       "Northamptonshire          1213\n",
       "Durham                    1022\n",
       "North Wales               1009\n",
       "Gloucestershire            851\n",
       "Cleveland                  780\n",
       "Gwent                      623\n",
       "Grampian                   577\n",
       "Central                    483\n",
       "Northern                   462\n",
       "Fife                       455\n",
       "Tayside                    425\n",
       "City of London             369\n",
       "Dumfries and Galloway      273\n",
       "Name: police_force, dtype: int64"
      ]
     },
     "execution_count": 60,
     "metadata": {},
     "output_type": "execute_result"
    }
   ],
   "source": [
    "df['police_force'].value_counts()"
   ]
  },
  {
   "cell_type": "markdown",
   "metadata": {},
   "source": [
    "### Location"
   ]
  },
  {
   "cell_type": "code",
   "execution_count": 61,
   "metadata": {},
   "outputs": [
    {
     "data": {
      "text/plain": [
       "-1           8408\n",
       "E01032739     223\n",
       "E01004736     124\n",
       "E01033595      92\n",
       "E01032740      84\n",
       "E01004689      83\n",
       "E01030458      68\n",
       "E01023584      68\n",
       "E01024335      66\n",
       "E01023722      65\n",
       "E01033708      64\n",
       "E01016012      62\n",
       "E01004735      62\n",
       "E01018648      60\n",
       "E01002444      59\n",
       "E01003482      59\n",
       "E01033543      58\n",
       "E01004763      57\n",
       "E01004733      57\n",
       "E01033010      53\n",
       "E01011107      49\n",
       "E01033561      48\n",
       "E01024701      47\n",
       "E01028521      46\n",
       "E01017620      45\n",
       "E01001667      45\n",
       "E01002003      44\n",
       "E01032797      44\n",
       "E01032582      43\n",
       "E01004734      43\n",
       "             ... \n",
       "E01028774       1\n",
       "E01029524       1\n",
       "E01001019       1\n",
       "E01011963       1\n",
       "E01032079       1\n",
       "E01009880       1\n",
       "E01006131       1\n",
       "E01025530       1\n",
       "E01014016       1\n",
       "E01005237       1\n",
       "E01018955       1\n",
       "E01023824       1\n",
       "W01000713       1\n",
       "E01015808       1\n",
       "W01001786       1\n",
       "E01017761       1\n",
       "E01017862       1\n",
       "E01003022       1\n",
       "E01014925       1\n",
       "E01024276       1\n",
       "E01000361       1\n",
       "E01010098       1\n",
       "E01005490       1\n",
       "E01026974       1\n",
       "E01013686       1\n",
       "E01014842       1\n",
       "E01024071       1\n",
       "E01011874       1\n",
       "E01033715       1\n",
       "E01012003       1\n",
       "Name: lsoa_of_accident_location, Length: 28643, dtype: int64"
      ]
     },
     "execution_count": 61,
     "metadata": {},
     "output_type": "execute_result"
    }
   ],
   "source": [
    "df['lsoa_of_accident_location'].value_counts()"
   ]
  },
  {
   "cell_type": "code",
   "execution_count": 62,
   "metadata": {},
   "outputs": [
    {
     "data": {
      "text/plain": [
       "Birmingham                     2816\n",
       "Leeds                          1945\n",
       "Westminster                    1556\n",
       "Glasgow City                   1282\n",
       "Lambeth                        1281\n",
       "Cornwall                       1210\n",
       "Sheffield                      1163\n",
       "Bradford                       1162\n",
       "Edinburgh, City of             1153\n",
       "Wiltshire                      1109\n",
       "Tower Hamlets                  1097\n",
       "Liverpool                      1052\n",
       "Ealing                         1029\n",
       "Bristol, City of               1024\n",
       "Southwark                      1009\n",
       "Barnet                          966\n",
       "Wandsworth                      957\n",
       "Brent                           925\n",
       "Hackney                         908\n",
       "Croydon                         904\n",
       "Nottingham                      900\n",
       "Lewisham                        888\n",
       "Hounslow                        884\n",
       "Newham                          874\n",
       "Haringey                        858\n",
       "Cheshire East                   853\n",
       "Leicester                       849\n",
       "Camden                          821\n",
       "Kingston upon Hull, City of     813\n",
       "County Durham                   811\n",
       "                               ... \n",
       "Hartlepool                      120\n",
       "Maldon                          119\n",
       "Chiltern                        119\n",
       "Cheltenham                      118\n",
       "East Northamptonshire           115\n",
       "Stroud                          112\n",
       "Angus                           112\n",
       "Inverclyde                      112\n",
       "Redditch                        111\n",
       "North Dorset                    105\n",
       "Weymouth and Portland           104\n",
       "Torfaen                         104\n",
       "East Renfrewshire                97\n",
       "Monmouthshire                    95\n",
       "Corby                            94\n",
       "East Dunbartonshire              94\n",
       "Forest of Dean                   88\n",
       "Merthyr Tydfil                   86\n",
       "Christchurch                     85\n",
       "Rutland                          78\n",
       "Isle of Anglesey                 74\n",
       "Moray                            74\n",
       "Oadby and Wigston                71\n",
       "Blaenau Gwent                    70\n",
       "Clackmannanshire                 70\n",
       "West Somerset                    60\n",
       "London Airport (Heathrow)        31\n",
       "Shetland Islands                 26\n",
       "Orkney Islands                   25\n",
       "Western Isles                    24\n",
       "Name: local_authority_district, Length: 380, dtype: int64"
      ]
     },
     "execution_count": 62,
     "metadata": {},
     "output_type": "execute_result"
    }
   ],
   "source": [
    "df['local_authority_district'].value_counts()"
   ]
  },
  {
   "cell_type": "code",
   "execution_count": 63,
   "metadata": {},
   "outputs": [
    {
     "data": {
      "text/plain": [
       "Kent                                    4460\n",
       "Surrey                                  3772\n",
       "Essex                                   2990\n",
       "Hampshire                               2979\n",
       "Lancashire                              2867\n",
       "Birmingham                              2816\n",
       "Hertfordshire                           2655\n",
       "Lincolnshire                            2002\n",
       "West Sussex                             2002\n",
       "Leeds                                   1945\n",
       "Staffordshire                           1923\n",
       "Norfolk                                 1875\n",
       "Nottinghamshire                         1694\n",
       "Suffolk                                 1605\n",
       "Devon                                   1588\n",
       "North Yorkshire                         1576\n",
       "Cambridgeshire                          1562\n",
       "Westminster                             1556\n",
       "Oxfordshire                             1505\n",
       "Warwickshire                            1470\n",
       "East Sussex                             1393\n",
       "Derbyshire                              1385\n",
       "Cumbria                                 1287\n",
       "Glasgow City                            1282\n",
       "Lambeth                                 1281\n",
       "Leicestershire                          1262\n",
       "Northamptonshire                        1213\n",
       "Cornwall                                1209\n",
       "Sheffield                               1163\n",
       "Bradford                                1162\n",
       "                                        ... \n",
       "Conwy                                    180\n",
       "Argyll & Bute                            179\n",
       "The Vale of Glamorgan                    179\n",
       "Aberdeen City                            177\n",
       "Stirling                                 177\n",
       "Perth and Kinross                        176\n",
       "Midlothian                               167\n",
       "East Lothian                             158\n",
       "Redcar and Cleveland                     150\n",
       "Caerphilly                               147\n",
       "Dundee City                              137\n",
       "West Dunbartonshire                      128\n",
       "Hartlepool                               120\n",
       "Inverclyde                               112\n",
       "Angus                                    112\n",
       "Torfaen                                  104\n",
       "East Renfrewshire                         97\n",
       "Monmouthshire                             95\n",
       "East Dunbartonshire                       94\n",
       "Merthyr Tydfil                            86\n",
       "Rutland                                   78\n",
       "Moray                                     74\n",
       "Isle of Anglesey                          74\n",
       "Clackmannanshire                          70\n",
       "Blaenau Gwent                             70\n",
       "London Airport (Heathrow)                 31\n",
       "Shetland Islands                          26\n",
       "Orkney Islands                            25\n",
       "Na h-Eileanan an Iar (Western Isles)      24\n",
       "Isles of Scilly                            1\n",
       "Name: local_authority_highway, Length: 207, dtype: int64"
      ]
     },
     "execution_count": 63,
     "metadata": {},
     "output_type": "execute_result"
    }
   ],
   "source": [
    "df['local_authority_highway'].value_counts()"
   ]
  },
  {
   "cell_type": "code",
   "execution_count": 64,
   "metadata": {},
   "outputs": [
    {
     "data": {
      "text/plain": [
       "533650.0    62\n",
       "531640.0    42\n",
       "531170.0    38\n",
       "531650.0    36\n",
       "532320.0    34\n",
       "530130.0    32\n",
       "530760.0    31\n",
       "532550.0    29\n",
       "530870.0    28\n",
       "531570.0    28\n",
       "531180.0    28\n",
       "532540.0    27\n",
       "531900.0    27\n",
       "532640.0    26\n",
       "528930.0    26\n",
       "531460.0    26\n",
       "533540.0    25\n",
       "531200.0    25\n",
       "531100.0    25\n",
       "534950.0    25\n",
       "530100.0    25\n",
       "533670.0    24\n",
       "531230.0    24\n",
       "530980.0    24\n",
       "531220.0    24\n",
       "530500.0    24\n",
       "532420.0    24\n",
       "531150.0    23\n",
       "532050.0    23\n",
       "530070.0    23\n",
       "            ..\n",
       "338709.0     1\n",
       "338711.0     1\n",
       "469785.0     1\n",
       "338714.0     1\n",
       "389267.0     1\n",
       "338718.0     1\n",
       "338722.0     1\n",
       "338725.0     1\n",
       "469800.0     1\n",
       "469753.0     1\n",
       "469751.0     1\n",
       "338677.0     1\n",
       "338659.0     1\n",
       "469721.0     1\n",
       "338651.0     1\n",
       "469725.0     1\n",
       "338654.0     1\n",
       "338655.0     1\n",
       "469728.0     1\n",
       "585588.0     1\n",
       "469733.0     1\n",
       "484652.0     1\n",
       "338662.0     1\n",
       "338664.0     1\n",
       "555648.0     1\n",
       "469739.0     1\n",
       "469742.0     1\n",
       "338671.0     1\n",
       "338673.0     1\n",
       "393216.0     1\n",
       "Name: location_easting_osgr, Length: 94939, dtype: int64"
      ]
     },
     "execution_count": 64,
     "metadata": {},
     "output_type": "execute_result"
    }
   ],
   "source": [
    "df['location_easting_osgr'].value_counts()"
   ]
  },
  {
   "cell_type": "code",
   "execution_count": 65,
   "metadata": {},
   "outputs": [
    {
     "data": {
      "text/plain": [
       "181570.0    37\n",
       "181100.0    34\n",
       "179660.0    33\n",
       "181180.0    32\n",
       "181360.0    32\n",
       "181310.0    32\n",
       "181730.0    31\n",
       "181150.0    30\n",
       "176770.0    29\n",
       "180990.0    28\n",
       "181060.0    28\n",
       "180880.0    28\n",
       "182780.0    28\n",
       "181650.0    27\n",
       "181040.0    27\n",
       "182180.0    27\n",
       "180950.0    27\n",
       "181190.0    27\n",
       "183670.0    26\n",
       "178520.0    26\n",
       "180970.0    26\n",
       "180820.0    26\n",
       "181010.0    26\n",
       "181170.0    26\n",
       "175710.0    26\n",
       "182930.0    26\n",
       "178290.0    25\n",
       "181120.0    25\n",
       "181620.0    25\n",
       "180940.0    25\n",
       "            ..\n",
       "69514.0      1\n",
       "109836.0     1\n",
       "338743.0     1\n",
       "201845.0     1\n",
       "234908.0     1\n",
       "169373.0     1\n",
       "234911.0     1\n",
       "169376.0     1\n",
       "216527.0     1\n",
       "338715.0     1\n",
       "338688.0     1\n",
       "234893.0     1\n",
       "234882.0     1\n",
       "178534.0     1\n",
       "338695.0     1\n",
       "99998.0      1\n",
       "169348.0     1\n",
       "338699.0     1\n",
       "677401.0     1\n",
       "338702.0     1\n",
       "731448.0     1\n",
       "338705.0     1\n",
       "169353.0     1\n",
       "169354.0     1\n",
       "234891.0     1\n",
       "338711.0     1\n",
       "234892.0     1\n",
       "239728.0     1\n",
       "114587.0     1\n",
       "262144.0     1\n",
       "Name: location_northing_osgr, Length: 97484, dtype: int64"
      ]
     },
     "execution_count": 65,
     "metadata": {},
     "output_type": "execute_result"
    }
   ],
   "source": [
    "df['location_northing_osgr'].value_counts()"
   ]
  },
  {
   "cell_type": "code",
   "execution_count": 66,
   "metadata": {},
   "outputs": [
    {
     "data": {
      "text/plain": [
       "-9.920000     11\n",
       " 0.169946     11\n",
       "-2.104055     10\n",
       "-10.820000     9\n",
       "-10.320000     9\n",
       "-11.580000     9\n",
       "-11.520000     9\n",
       "-10.140000     9\n",
       "-9.900000      8\n",
       "-11.100000     8\n",
       "-11.470000     8\n",
       "-11.070000     8\n",
       "-10.960000     8\n",
       "-11.610000     8\n",
       "-11.140000     8\n",
       "-11.220000     8\n",
       "-10.250000     8\n",
       "-10.050000     8\n",
       "-0.041927      8\n",
       "-10.210000     7\n",
       "-11.340000     7\n",
       "-11.490000     7\n",
       "-10.120000     7\n",
       " 0.054915      7\n",
       "-10.500000     7\n",
       "-9.860000      7\n",
       "-11.380000     7\n",
       "-10.900000     7\n",
       "-10.100000     7\n",
       "-11.230000     7\n",
       "              ..\n",
       "-1.124729      1\n",
       "-2.868688      1\n",
       "-0.372086      1\n",
       "-0.348386      1\n",
       "-3.131688      1\n",
       "-1.235373      1\n",
       "-2.098382      1\n",
       "-3.502161      1\n",
       " 0.343428      1\n",
       "-2.099408      1\n",
       "-2.649787      1\n",
       "-0.161939      1\n",
       "-2.726343      1\n",
       "-2.780992      1\n",
       " 1.173111      1\n",
       "-1.946939      1\n",
       "-0.591785      1\n",
       "-2.692900      1\n",
       " 0.209012      1\n",
       "-2.603526      1\n",
       "-0.581079      1\n",
       "-1.087976      1\n",
       " 0.264733      1\n",
       "-0.949891      1\n",
       "-1.476293      1\n",
       "-2.129429      1\n",
       "-0.229437      1\n",
       "-1.720461      1\n",
       "-1.130671      1\n",
       " 0.571398      1\n",
       "Name: longitude, Length: 129945, dtype: int64"
      ]
     },
     "execution_count": 66,
     "metadata": {},
     "output_type": "execute_result"
    }
   ],
   "source": [
    "df['longitude'].value_counts()"
   ]
  },
  {
   "cell_type": "code",
   "execution_count": 67,
   "metadata": {},
   "outputs": [
    {
     "data": {
      "text/plain": [
       "51.525146    11\n",
       "33.820000    10\n",
       "52.977741    10\n",
       "51.512868     9\n",
       "33.620000     8\n",
       "53.008799     7\n",
       "53.049154     7\n",
       "51.570592     7\n",
       "33.480000     7\n",
       "51.471012     7\n",
       "31.590000     7\n",
       "33.720000     6\n",
       "51.472941     6\n",
       "53.014331     6\n",
       "53.038321     6\n",
       "52.528992     6\n",
       "32.590000     6\n",
       "51.560109     6\n",
       "51.517161     6\n",
       "51.378080     6\n",
       "32.830000     6\n",
       "31.640000     6\n",
       "32.750000     6\n",
       "51.500941     6\n",
       "34.260000     6\n",
       "52.504683     6\n",
       "51.516393     6\n",
       "53.058098     6\n",
       "53.049473     6\n",
       "51.489535     6\n",
       "             ..\n",
       "51.474946     1\n",
       "54.975634     1\n",
       "53.563292     1\n",
       "52.722264     1\n",
       "51.752597     1\n",
       "51.149861     1\n",
       "51.452843     1\n",
       "55.859872     1\n",
       "51.540127     1\n",
       "53.398636     1\n",
       "51.163219     1\n",
       "53.018189     1\n",
       "51.919520     1\n",
       "51.571978     1\n",
       "52.964252     1\n",
       "52.470992     1\n",
       "51.446403     1\n",
       "55.646440     1\n",
       "51.363068     1\n",
       "51.541275     1\n",
       "51.417221     1\n",
       "51.201425     1\n",
       "53.163886     1\n",
       "51.909374     1\n",
       "53.652053     1\n",
       "53.471036     1\n",
       "54.259477     1\n",
       "51.510918     1\n",
       "52.689053     1\n",
       "52.264935     1\n",
       "Name: latitude, Length: 128744, dtype: int64"
      ]
     },
     "execution_count": 67,
     "metadata": {},
     "output_type": "execute_result"
    }
   ],
   "source": [
    "df['latitude'].value_counts()"
   ]
  },
  {
   "cell_type": "code",
   "execution_count": null,
   "metadata": {},
   "outputs": [],
   "source": []
  }
 ],
 "metadata": {
  "kernelspec": {
   "display_name": "Python 3",
   "language": "python",
   "name": "python3"
  },
  "language_info": {
   "codemirror_mode": {
    "name": "ipython",
    "version": 3
   },
   "file_extension": ".py",
   "mimetype": "text/x-python",
   "name": "python",
   "nbconvert_exporter": "python",
   "pygments_lexer": "ipython3",
   "version": "3.5.2"
  }
 },
 "nbformat": 4,
 "nbformat_minor": 2
}
