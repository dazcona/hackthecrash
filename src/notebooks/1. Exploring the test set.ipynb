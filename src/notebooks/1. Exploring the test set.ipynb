{
 "cells": [
  {
   "cell_type": "markdown",
   "metadata": {},
   "source": [
    "# Test (accident data)"
   ]
  },
  {
   "cell_type": "code",
   "execution_count": 1,
   "metadata": {},
   "outputs": [],
   "source": [
    "import os\n",
    "import pandas as pd"
   ]
  },
  {
   "cell_type": "code",
   "execution_count": 2,
   "metadata": {},
   "outputs": [],
   "source": [
    "data_path = '../../data/'"
   ]
  },
  {
   "cell_type": "code",
   "execution_count": 3,
   "metadata": {},
   "outputs": [],
   "source": [
    "df = pd.read_csv(os.path.join(data_path, 'test.csv'))"
   ]
  },
  {
   "cell_type": "code",
   "execution_count": 4,
   "metadata": {},
   "outputs": [
    {
     "data": {
      "text/html": [
       "<div>\n",
       "<style scoped>\n",
       "    .dataframe tbody tr th:only-of-type {\n",
       "        vertical-align: middle;\n",
       "    }\n",
       "\n",
       "    .dataframe tbody tr th {\n",
       "        vertical-align: top;\n",
       "    }\n",
       "\n",
       "    .dataframe thead th {\n",
       "        text-align: right;\n",
       "    }\n",
       "</style>\n",
       "<table border=\"1\" class=\"dataframe\">\n",
       "  <thead>\n",
       "    <tr style=\"text-align: right;\">\n",
       "      <th></th>\n",
       "      <th>accident_id</th>\n",
       "      <th>location_easting_osgr</th>\n",
       "      <th>location_northing_osgr</th>\n",
       "      <th>longitude</th>\n",
       "      <th>latitude</th>\n",
       "      <th>number_of_vehicles</th>\n",
       "      <th>number_of_casualties</th>\n",
       "      <th>date</th>\n",
       "      <th>time</th>\n",
       "      <th>1st_road_class</th>\n",
       "      <th>...</th>\n",
       "      <th>light_conditions</th>\n",
       "      <th>weather_conditions</th>\n",
       "      <th>road_surface_conditions</th>\n",
       "      <th>special_conditions_at_site</th>\n",
       "      <th>carriageway_hazards</th>\n",
       "      <th>urban_or_rural_area</th>\n",
       "      <th>lsoa_of_accident_location</th>\n",
       "      <th>police_force</th>\n",
       "      <th>local_authority_district</th>\n",
       "      <th>local_authority_highway</th>\n",
       "    </tr>\n",
       "  </thead>\n",
       "  <tbody>\n",
       "    <tr>\n",
       "      <th>0</th>\n",
       "      <td>372234</td>\n",
       "      <td>532920.0</td>\n",
       "      <td>196330.0</td>\n",
       "      <td>-0.080107</td>\n",
       "      <td>51.650061</td>\n",
       "      <td>2</td>\n",
       "      <td>3</td>\n",
       "      <td>2017-05-08</td>\n",
       "      <td>03:12</td>\n",
       "      <td>A</td>\n",
       "      <td>...</td>\n",
       "      <td>Darkness - lights lit</td>\n",
       "      <td>1</td>\n",
       "      <td>Dry</td>\n",
       "      <td>None</td>\n",
       "      <td>None</td>\n",
       "      <td>Urban</td>\n",
       "      <td>E01001450</td>\n",
       "      <td>Metropolitan Police</td>\n",
       "      <td>Enfield</td>\n",
       "      <td>Enfield</td>\n",
       "    </tr>\n",
       "    <tr>\n",
       "      <th>1</th>\n",
       "      <td>332946</td>\n",
       "      <td>526790.0</td>\n",
       "      <td>181970.0</td>\n",
       "      <td>-0.173845</td>\n",
       "      <td>51.522425</td>\n",
       "      <td>2</td>\n",
       "      <td>1</td>\n",
       "      <td>2017-01-01</td>\n",
       "      <td>01:30</td>\n",
       "      <td>A</td>\n",
       "      <td>...</td>\n",
       "      <td>Darkness - lights lit</td>\n",
       "      <td>1</td>\n",
       "      <td>Wet or damp</td>\n",
       "      <td>None</td>\n",
       "      <td>None</td>\n",
       "      <td>Urban</td>\n",
       "      <td>E01004702</td>\n",
       "      <td>Metropolitan Police</td>\n",
       "      <td>Westminster</td>\n",
       "      <td>Westminster</td>\n",
       "    </tr>\n",
       "    <tr>\n",
       "      <th>2</th>\n",
       "      <td>596385</td>\n",
       "      <td>535200.0</td>\n",
       "      <td>181260.0</td>\n",
       "      <td>-0.052969</td>\n",
       "      <td>51.514096</td>\n",
       "      <td>3</td>\n",
       "      <td>1</td>\n",
       "      <td>2017-01-01</td>\n",
       "      <td>00:30</td>\n",
       "      <td>A</td>\n",
       "      <td>...</td>\n",
       "      <td>Darkness - lights lit</td>\n",
       "      <td>1</td>\n",
       "      <td>Dry</td>\n",
       "      <td>None</td>\n",
       "      <td>None</td>\n",
       "      <td>Urban</td>\n",
       "      <td>E01004298</td>\n",
       "      <td>Metropolitan Police</td>\n",
       "      <td>Tower Hamlets</td>\n",
       "      <td>Tower Hamlets</td>\n",
       "    </tr>\n",
       "    <tr>\n",
       "      <th>3</th>\n",
       "      <td>493689</td>\n",
       "      <td>534340.0</td>\n",
       "      <td>193560.0</td>\n",
       "      <td>-0.060658</td>\n",
       "      <td>51.624832</td>\n",
       "      <td>2</td>\n",
       "      <td>1</td>\n",
       "      <td>2017-01-01</td>\n",
       "      <td>01:11</td>\n",
       "      <td>A</td>\n",
       "      <td>...</td>\n",
       "      <td>Darkness - lights lit</td>\n",
       "      <td>2</td>\n",
       "      <td>Wet or damp</td>\n",
       "      <td>None</td>\n",
       "      <td>None</td>\n",
       "      <td>Urban</td>\n",
       "      <td>E01001429</td>\n",
       "      <td>Metropolitan Police</td>\n",
       "      <td>Enfield</td>\n",
       "      <td>Enfield</td>\n",
       "    </tr>\n",
       "    <tr>\n",
       "      <th>4</th>\n",
       "      <td>420550</td>\n",
       "      <td>533680.0</td>\n",
       "      <td>187820.0</td>\n",
       "      <td>-0.072372</td>\n",
       "      <td>51.573408</td>\n",
       "      <td>1</td>\n",
       "      <td>1</td>\n",
       "      <td>2017-01-01</td>\n",
       "      <td>01:42</td>\n",
       "      <td>A</td>\n",
       "      <td>...</td>\n",
       "      <td>Darkness - lights lit</td>\n",
       "      <td>1</td>\n",
       "      <td>Wet or damp</td>\n",
       "      <td>None</td>\n",
       "      <td>None</td>\n",
       "      <td>Urban</td>\n",
       "      <td>E01001808</td>\n",
       "      <td>Metropolitan Police</td>\n",
       "      <td>Hackney</td>\n",
       "      <td>Hackney</td>\n",
       "    </tr>\n",
       "  </tbody>\n",
       "</table>\n",
       "<p>5 rows × 29 columns</p>\n",
       "</div>"
      ],
      "text/plain": [
       "   accident_id  location_easting_osgr  location_northing_osgr  longitude  \\\n",
       "0       372234               532920.0                196330.0  -0.080107   \n",
       "1       332946               526790.0                181970.0  -0.173845   \n",
       "2       596385               535200.0                181260.0  -0.052969   \n",
       "3       493689               534340.0                193560.0  -0.060658   \n",
       "4       420550               533680.0                187820.0  -0.072372   \n",
       "\n",
       "    latitude  number_of_vehicles  number_of_casualties        date   time  \\\n",
       "0  51.650061                   2                     3  2017-05-08  03:12   \n",
       "1  51.522425                   2                     1  2017-01-01  01:30   \n",
       "2  51.514096                   3                     1  2017-01-01  00:30   \n",
       "3  51.624832                   2                     1  2017-01-01  01:11   \n",
       "4  51.573408                   1                     1  2017-01-01  01:42   \n",
       "\n",
       "  1st_road_class  ...       light_conditions  weather_conditions  \\\n",
       "0              A  ...  Darkness - lights lit                   1   \n",
       "1              A  ...  Darkness - lights lit                   1   \n",
       "2              A  ...  Darkness - lights lit                   1   \n",
       "3              A  ...  Darkness - lights lit                   2   \n",
       "4              A  ...  Darkness - lights lit                   1   \n",
       "\n",
       "   road_surface_conditions special_conditions_at_site carriageway_hazards  \\\n",
       "0                      Dry                       None                None   \n",
       "1              Wet or damp                       None                None   \n",
       "2                      Dry                       None                None   \n",
       "3              Wet or damp                       None                None   \n",
       "4              Wet or damp                       None                None   \n",
       "\n",
       "  urban_or_rural_area  lsoa_of_accident_location         police_force  \\\n",
       "0               Urban                  E01001450  Metropolitan Police   \n",
       "1               Urban                  E01004702  Metropolitan Police   \n",
       "2               Urban                  E01004298  Metropolitan Police   \n",
       "3               Urban                  E01001429  Metropolitan Police   \n",
       "4               Urban                  E01001808  Metropolitan Police   \n",
       "\n",
       "  local_authority_district local_authority_highway  \n",
       "0                  Enfield                 Enfield  \n",
       "1              Westminster             Westminster  \n",
       "2            Tower Hamlets           Tower Hamlets  \n",
       "3                  Enfield                 Enfield  \n",
       "4                  Hackney                 Hackney  \n",
       "\n",
       "[5 rows x 29 columns]"
      ]
     },
     "execution_count": 4,
     "metadata": {},
     "output_type": "execute_result"
    }
   ],
   "source": [
    "df.head()"
   ]
  },
  {
   "cell_type": "code",
   "execution_count": 5,
   "metadata": {},
   "outputs": [
    {
     "data": {
      "text/plain": [
       "(129950, 29)"
      ]
     },
     "execution_count": 5,
     "metadata": {},
     "output_type": "execute_result"
    }
   ],
   "source": [
    "df.shape"
   ]
  },
  {
   "cell_type": "code",
   "execution_count": 6,
   "metadata": {},
   "outputs": [
    {
     "data": {
      "text/plain": [
       "'Number of accidents in the test set: 129,950'"
      ]
     },
     "execution_count": 6,
     "metadata": {},
     "output_type": "execute_result"
    }
   ],
   "source": [
    "'Number of accidents in the test set: {:,}'.format(df.shape[0])"
   ]
  }
 ],
 "metadata": {
  "kernelspec": {
   "display_name": "Python 3",
   "language": "python",
   "name": "python3"
  },
  "language_info": {
   "codemirror_mode": {
    "name": "ipython",
    "version": 3
   },
   "file_extension": ".py",
   "mimetype": "text/x-python",
   "name": "python",
   "nbconvert_exporter": "python",
   "pygments_lexer": "ipython3",
   "version": "3.5.2"
  }
 },
 "nbformat": 4,
 "nbformat_minor": 2
}
