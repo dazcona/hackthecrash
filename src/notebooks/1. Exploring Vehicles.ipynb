{
 "cells": [
  {
   "cell_type": "markdown",
   "metadata": {},
   "source": [
    "# Vehicles"
   ]
  },
  {
   "cell_type": "code",
   "execution_count": 1,
   "metadata": {},
   "outputs": [],
   "source": [
    "import os\n",
    "import pandas as pd\n",
    "import numpy as np\n",
    "import matplotlib.pyplot as plt"
   ]
  },
  {
   "cell_type": "code",
   "execution_count": 2,
   "metadata": {},
   "outputs": [],
   "source": [
    "%matplotlib inline\n",
    "plt.style.use('ggplot')\n",
    "font = { 'family': 'DejaVu Sans', 'weight': 'bold', 'size': 22 }\n",
    "plt.rc('font', **font)"
   ]
  },
  {
   "cell_type": "code",
   "execution_count": 3,
   "metadata": {},
   "outputs": [],
   "source": [
    "from IPython.core.pylabtools import figsize\n",
    "figsize(14, 7)"
   ]
  },
  {
   "cell_type": "code",
   "execution_count": 4,
   "metadata": {},
   "outputs": [],
   "source": [
    "data_path = '../../data/'"
   ]
  },
  {
   "cell_type": "code",
   "execution_count": 5,
   "metadata": {},
   "outputs": [],
   "source": [
    "df = pd.read_csv(os.path.join(data_path, 'vehicles.csv'))"
   ]
  },
  {
   "cell_type": "code",
   "execution_count": 6,
   "metadata": {},
   "outputs": [
    {
     "data": {
      "text/html": [
       "<div>\n",
       "<style scoped>\n",
       "    .dataframe tbody tr th:only-of-type {\n",
       "        vertical-align: middle;\n",
       "    }\n",
       "\n",
       "    .dataframe tbody tr th {\n",
       "        vertical-align: top;\n",
       "    }\n",
       "\n",
       "    .dataframe thead th {\n",
       "        text-align: right;\n",
       "    }\n",
       "</style>\n",
       "<table border=\"1\" class=\"dataframe\">\n",
       "  <thead>\n",
       "    <tr style=\"text-align: right;\">\n",
       "      <th></th>\n",
       "      <th>accident_id</th>\n",
       "      <th>Vehicle_Reference</th>\n",
       "      <th>Vehicle_Type</th>\n",
       "      <th>Towing_and_Articulation</th>\n",
       "      <th>Vehicle_Manoeuvre</th>\n",
       "      <th>Vehicle_Location-Restricted_Lane</th>\n",
       "      <th>Junction_Location</th>\n",
       "      <th>Skidding_and_Overturning</th>\n",
       "      <th>Hit_Object_in_Carriageway</th>\n",
       "      <th>Vehicle_Leaving_Carriageway</th>\n",
       "      <th>...</th>\n",
       "      <th>Was_Vehicle_Left_Hand_Drive?</th>\n",
       "      <th>Journey_Purpose_of_Driver</th>\n",
       "      <th>Sex_of_Driver</th>\n",
       "      <th>Age_of_Driver</th>\n",
       "      <th>Engine_Capacity_(CC)</th>\n",
       "      <th>Propulsion_Code</th>\n",
       "      <th>Age_of_Vehicle</th>\n",
       "      <th>Driver_IMD_Decile</th>\n",
       "      <th>Driver_Home_Area_Type</th>\n",
       "      <th>Vehicle_IMD_Decile</th>\n",
       "    </tr>\n",
       "  </thead>\n",
       "  <tbody>\n",
       "    <tr>\n",
       "      <th>0</th>\n",
       "      <td>430245</td>\n",
       "      <td>1</td>\n",
       "      <td>Car</td>\n",
       "      <td>No tow/articulation</td>\n",
       "      <td>Going ahead other</td>\n",
       "      <td>On main c'way - not in restricted lane</td>\n",
       "      <td>Approaching junction or waiting/parked at junc...</td>\n",
       "      <td>None</td>\n",
       "      <td>None</td>\n",
       "      <td>Did not leave carriageway</td>\n",
       "      <td>...</td>\n",
       "      <td>No</td>\n",
       "      <td>Other</td>\n",
       "      <td>Male</td>\n",
       "      <td>18.0</td>\n",
       "      <td>1299.0</td>\n",
       "      <td>Petrol</td>\n",
       "      <td>16.0</td>\n",
       "      <td>4.0</td>\n",
       "      <td>3.0</td>\n",
       "      <td>4.0</td>\n",
       "    </tr>\n",
       "    <tr>\n",
       "      <th>1</th>\n",
       "      <td>430245</td>\n",
       "      <td>2</td>\n",
       "      <td>Car</td>\n",
       "      <td>No tow/articulation</td>\n",
       "      <td>Waiting to go - held up</td>\n",
       "      <td>On main c'way - not in restricted lane</td>\n",
       "      <td>Approaching junction or waiting/parked at junc...</td>\n",
       "      <td>None</td>\n",
       "      <td>None</td>\n",
       "      <td>Did not leave carriageway</td>\n",
       "      <td>...</td>\n",
       "      <td>No</td>\n",
       "      <td>Journey as part of work</td>\n",
       "      <td>Female</td>\n",
       "      <td>24.0</td>\n",
       "      <td>1598.0</td>\n",
       "      <td>Heavy oil</td>\n",
       "      <td>1.0</td>\n",
       "      <td>9.0</td>\n",
       "      <td>1.0</td>\n",
       "      <td>9.0</td>\n",
       "    </tr>\n",
       "    <tr>\n",
       "      <th>2</th>\n",
       "      <td>387170</td>\n",
       "      <td>1</td>\n",
       "      <td>Car</td>\n",
       "      <td>No tow/articulation</td>\n",
       "      <td>Going ahead other</td>\n",
       "      <td>On main c'way - not in restricted lane</td>\n",
       "      <td>Not at or within 20 metres of junction</td>\n",
       "      <td>None</td>\n",
       "      <td>None</td>\n",
       "      <td>Did not leave carriageway</td>\n",
       "      <td>...</td>\n",
       "      <td>No</td>\n",
       "      <td>Journey as part of work</td>\n",
       "      <td>Male</td>\n",
       "      <td>54.0</td>\n",
       "      <td>-1.0</td>\n",
       "      <td>-1</td>\n",
       "      <td>-1.0</td>\n",
       "      <td>8.0</td>\n",
       "      <td>3.0</td>\n",
       "      <td>8.0</td>\n",
       "    </tr>\n",
       "    <tr>\n",
       "      <th>3</th>\n",
       "      <td>326114</td>\n",
       "      <td>1</td>\n",
       "      <td>Car</td>\n",
       "      <td>No tow/articulation</td>\n",
       "      <td>Turning right</td>\n",
       "      <td>On main c'way - not in restricted lane</td>\n",
       "      <td>Leaving main road</td>\n",
       "      <td>None</td>\n",
       "      <td>None</td>\n",
       "      <td>Did not leave carriageway</td>\n",
       "      <td>...</td>\n",
       "      <td>No</td>\n",
       "      <td>Not known</td>\n",
       "      <td>Female</td>\n",
       "      <td>38.0</td>\n",
       "      <td>2935.0</td>\n",
       "      <td>Petrol</td>\n",
       "      <td>22.0</td>\n",
       "      <td>2.0</td>\n",
       "      <td>1.0</td>\n",
       "      <td>2.0</td>\n",
       "    </tr>\n",
       "    <tr>\n",
       "      <th>4</th>\n",
       "      <td>326114</td>\n",
       "      <td>2</td>\n",
       "      <td>Motorcycle over 125cc and up to 500cc</td>\n",
       "      <td>No tow/articulation</td>\n",
       "      <td>Going ahead other</td>\n",
       "      <td>On main c'way - not in restricted lane</td>\n",
       "      <td>Approaching junction or waiting/parked at junc...</td>\n",
       "      <td>Overturned</td>\n",
       "      <td>None</td>\n",
       "      <td>Did not leave carriageway</td>\n",
       "      <td>...</td>\n",
       "      <td>No</td>\n",
       "      <td>Other</td>\n",
       "      <td>Male</td>\n",
       "      <td>21.0</td>\n",
       "      <td>399.0</td>\n",
       "      <td>Petrol</td>\n",
       "      <td>25.0</td>\n",
       "      <td>5.0</td>\n",
       "      <td>1.0</td>\n",
       "      <td>5.0</td>\n",
       "    </tr>\n",
       "  </tbody>\n",
       "</table>\n",
       "<p>5 rows × 22 columns</p>\n",
       "</div>"
      ],
      "text/plain": [
       "   accident_id  Vehicle_Reference                           Vehicle_Type  \\\n",
       "0       430245                  1                                    Car   \n",
       "1       430245                  2                                    Car   \n",
       "2       387170                  1                                    Car   \n",
       "3       326114                  1                                    Car   \n",
       "4       326114                  2  Motorcycle over 125cc and up to 500cc   \n",
       "\n",
       "  Towing_and_Articulation        Vehicle_Manoeuvre  \\\n",
       "0     No tow/articulation        Going ahead other   \n",
       "1     No tow/articulation  Waiting to go - held up   \n",
       "2     No tow/articulation        Going ahead other   \n",
       "3     No tow/articulation            Turning right   \n",
       "4     No tow/articulation        Going ahead other   \n",
       "\n",
       "         Vehicle_Location-Restricted_Lane  \\\n",
       "0  On main c'way - not in restricted lane   \n",
       "1  On main c'way - not in restricted lane   \n",
       "2  On main c'way - not in restricted lane   \n",
       "3  On main c'way - not in restricted lane   \n",
       "4  On main c'way - not in restricted lane   \n",
       "\n",
       "                                   Junction_Location Skidding_and_Overturning  \\\n",
       "0  Approaching junction or waiting/parked at junc...                     None   \n",
       "1  Approaching junction or waiting/parked at junc...                     None   \n",
       "2             Not at or within 20 metres of junction                     None   \n",
       "3                                  Leaving main road                     None   \n",
       "4  Approaching junction or waiting/parked at junc...               Overturned   \n",
       "\n",
       "  Hit_Object_in_Carriageway Vehicle_Leaving_Carriageway  ...  \\\n",
       "0                      None   Did not leave carriageway  ...   \n",
       "1                      None   Did not leave carriageway  ...   \n",
       "2                      None   Did not leave carriageway  ...   \n",
       "3                      None   Did not leave carriageway  ...   \n",
       "4                      None   Did not leave carriageway  ...   \n",
       "\n",
       "  Was_Vehicle_Left_Hand_Drive? Journey_Purpose_of_Driver Sex_of_Driver  \\\n",
       "0                           No                     Other          Male   \n",
       "1                           No   Journey as part of work        Female   \n",
       "2                           No   Journey as part of work          Male   \n",
       "3                           No                 Not known        Female   \n",
       "4                           No                     Other          Male   \n",
       "\n",
       "  Age_of_Driver Engine_Capacity_(CC)  Propulsion_Code  Age_of_Vehicle  \\\n",
       "0          18.0               1299.0           Petrol            16.0   \n",
       "1          24.0               1598.0        Heavy oil             1.0   \n",
       "2          54.0                 -1.0               -1            -1.0   \n",
       "3          38.0               2935.0           Petrol            22.0   \n",
       "4          21.0                399.0           Petrol            25.0   \n",
       "\n",
       "  Driver_IMD_Decile  Driver_Home_Area_Type  Vehicle_IMD_Decile  \n",
       "0               4.0                    3.0                 4.0  \n",
       "1               9.0                    1.0                 9.0  \n",
       "2               8.0                    3.0                 8.0  \n",
       "3               2.0                    1.0                 2.0  \n",
       "4               5.0                    1.0                 5.0  \n",
       "\n",
       "[5 rows x 22 columns]"
      ]
     },
     "execution_count": 6,
     "metadata": {},
     "output_type": "execute_result"
    }
   ],
   "source": [
    "df.head()"
   ]
  },
  {
   "cell_type": "code",
   "execution_count": 7,
   "metadata": {},
   "outputs": [
    {
     "data": {
      "text/plain": [
       "accident_id                                                                    430245\n",
       "Vehicle_Reference                                                                   1\n",
       "Vehicle_Type                                                                      Car\n",
       "Towing_and_Articulation                                           No tow/articulation\n",
       "Vehicle_Manoeuvre                                                   Going ahead other\n",
       "Vehicle_Location-Restricted_Lane               On main c'way - not in restricted lane\n",
       "Junction_Location                   Approaching junction or waiting/parked at junc...\n",
       "Skidding_and_Overturning                                                         None\n",
       "Hit_Object_in_Carriageway                                                        None\n",
       "Vehicle_Leaving_Carriageway                                 Did not leave carriageway\n",
       "Hit_Object_off_Carriageway                                                       None\n",
       "1st_Point_of_Impact                                                             Front\n",
       "Was_Vehicle_Left_Hand_Drive?                                                       No\n",
       "Journey_Purpose_of_Driver                                                       Other\n",
       "Sex_of_Driver                                                                    Male\n",
       "Age_of_Driver                                                                      18\n",
       "Engine_Capacity_(CC)                                                             1299\n",
       "Propulsion_Code                                                                Petrol\n",
       "Age_of_Vehicle                                                                     16\n",
       "Driver_IMD_Decile                                                                   4\n",
       "Driver_Home_Area_Type                                                               3\n",
       "Vehicle_IMD_Decile                                                                  4\n",
       "Name: 0, dtype: object"
      ]
     },
     "execution_count": 7,
     "metadata": {},
     "output_type": "execute_result"
    }
   ],
   "source": [
    "df.iloc[0, :]"
   ]
  },
  {
   "cell_type": "code",
   "execution_count": 8,
   "metadata": {},
   "outputs": [
    {
     "data": {
      "text/plain": [
       "(455652, 22)"
      ]
     },
     "execution_count": 8,
     "metadata": {},
     "output_type": "execute_result"
    }
   ],
   "source": [
    "df.shape"
   ]
  },
  {
   "cell_type": "code",
   "execution_count": 9,
   "metadata": {},
   "outputs": [
    {
     "data": {
      "text/plain": [
       "'Number of vehicles: 455,652'"
      ]
     },
     "execution_count": 9,
     "metadata": {},
     "output_type": "execute_result"
    }
   ],
   "source": [
    "'Number of vehicles: {:,}'.format(df.shape[0])"
   ]
  },
  {
   "cell_type": "code",
   "execution_count": 10,
   "metadata": {},
   "outputs": [
    {
     "data": {
      "text/plain": [
       "['accident_id',\n",
       " 'Vehicle_Reference',\n",
       " 'Vehicle_Type',\n",
       " 'Towing_and_Articulation',\n",
       " 'Vehicle_Manoeuvre',\n",
       " 'Vehicle_Location-Restricted_Lane',\n",
       " 'Junction_Location',\n",
       " 'Skidding_and_Overturning',\n",
       " 'Hit_Object_in_Carriageway',\n",
       " 'Vehicle_Leaving_Carriageway',\n",
       " 'Hit_Object_off_Carriageway',\n",
       " '1st_Point_of_Impact',\n",
       " 'Was_Vehicle_Left_Hand_Drive?',\n",
       " 'Journey_Purpose_of_Driver',\n",
       " 'Sex_of_Driver',\n",
       " 'Age_of_Driver',\n",
       " 'Engine_Capacity_(CC)',\n",
       " 'Propulsion_Code',\n",
       " 'Age_of_Vehicle',\n",
       " 'Driver_IMD_Decile',\n",
       " 'Driver_Home_Area_Type',\n",
       " 'Vehicle_IMD_Decile']"
      ]
     },
     "execution_count": 10,
     "metadata": {},
     "output_type": "execute_result"
    }
   ],
   "source": [
    "list(df.columns)"
   ]
  },
  {
   "cell_type": "code",
   "execution_count": 11,
   "metadata": {},
   "outputs": [
    {
     "data": {
      "text/plain": [
       "accident_id                           int64\n",
       "Vehicle_Reference                     int64\n",
       "Vehicle_Type                         object\n",
       "Towing_and_Articulation              object\n",
       "Vehicle_Manoeuvre                    object\n",
       "Vehicle_Location-Restricted_Lane     object\n",
       "Junction_Location                    object\n",
       "Skidding_and_Overturning             object\n",
       "Hit_Object_in_Carriageway            object\n",
       "Vehicle_Leaving_Carriageway          object\n",
       "Hit_Object_off_Carriageway           object\n",
       "1st_Point_of_Impact                  object\n",
       "Was_Vehicle_Left_Hand_Drive?         object\n",
       "Journey_Purpose_of_Driver            object\n",
       "Sex_of_Driver                        object\n",
       "Age_of_Driver                       float64\n",
       "Engine_Capacity_(CC)                float64\n",
       "Propulsion_Code                      object\n",
       "Age_of_Vehicle                      float64\n",
       "Driver_IMD_Decile                   float64\n",
       "Driver_Home_Area_Type               float64\n",
       "Vehicle_IMD_Decile                  float64\n",
       "dtype: object"
      ]
     },
     "execution_count": 11,
     "metadata": {},
     "output_type": "execute_result"
    }
   ],
   "source": [
    "df.dtypes"
   ]
  },
  {
   "cell_type": "code",
   "execution_count": 12,
   "metadata": {},
   "outputs": [
    {
     "data": {
      "text/plain": [
       "accident_id                         0.0\n",
       "Vehicle_Reference                   0.0\n",
       "Vehicle_Type                        0.0\n",
       "Towing_and_Articulation             0.0\n",
       "Vehicle_Manoeuvre                   0.0\n",
       "Vehicle_Location-Restricted_Lane    0.0\n",
       "Junction_Location                   0.0\n",
       "Skidding_and_Overturning            0.0\n",
       "Hit_Object_in_Carriageway           0.0\n",
       "Vehicle_Leaving_Carriageway         0.0\n",
       "Hit_Object_off_Carriageway          0.0\n",
       "1st_Point_of_Impact                 0.0\n",
       "Was_Vehicle_Left_Hand_Drive?        0.0\n",
       "Journey_Purpose_of_Driver           0.0\n",
       "Sex_of_Driver                       0.0\n",
       "Age_of_Driver                       0.0\n",
       "Engine_Capacity_(CC)                0.0\n",
       "Propulsion_Code                     0.0\n",
       "Age_of_Vehicle                      0.0\n",
       "Driver_IMD_Decile                   0.0\n",
       "Driver_Home_Area_Type               0.0\n",
       "Vehicle_IMD_Decile                  0.0\n",
       "dtype: float64"
      ]
     },
     "execution_count": 12,
     "metadata": {},
     "output_type": "execute_result"
    }
   ],
   "source": [
    "df.isnull().mean()"
   ]
  },
  {
   "cell_type": "code",
   "execution_count": 13,
   "metadata": {},
   "outputs": [
    {
     "data": {
      "text/plain": [
       "'Number of accidents in the accidents related to the vehicles: 244,091'"
      ]
     },
     "execution_count": 13,
     "metadata": {},
     "output_type": "execute_result"
    }
   ],
   "source": [
    "'Number of accidents in the accidents related to the vehicles: {:,}'.format(len(df['accident_id'].unique()))"
   ]
  },
  {
   "cell_type": "code",
   "execution_count": 14,
   "metadata": {},
   "outputs": [
    {
     "data": {
      "text/plain": [
       "301654    16\n",
       "443919    15\n",
       "490559    15\n",
       "380485    14\n",
       "522113    13\n",
       "525478    13\n",
       "428202    12\n",
       "482694    12\n",
       "497365    11\n",
       "421211    11\n",
       "569304    11\n",
       "436390    11\n",
       "358428    11\n",
       "469205    11\n",
       "357194    11\n",
       "479509    11\n",
       "403266    10\n",
       "388578    10\n",
       "436301    10\n",
       "325799    10\n",
       "Name: accident_id, dtype: int64"
      ]
     },
     "execution_count": 14,
     "metadata": {},
     "output_type": "execute_result"
    }
   ],
   "source": [
    "df['accident_id'].value_counts()[:20]"
   ]
  },
  {
   "cell_type": "code",
   "execution_count": 15,
   "metadata": {},
   "outputs": [],
   "source": [
    "vehicles_per_accident = list(df['accident_id'].value_counts())"
   ]
  },
  {
   "cell_type": "code",
   "execution_count": 16,
   "metadata": {},
   "outputs": [
    {
     "data": {
      "text/plain": [
       "(1.866730031013024, 0.7366665733848325)"
      ]
     },
     "execution_count": 16,
     "metadata": {},
     "output_type": "execute_result"
    }
   ],
   "source": [
    "np.mean(vehicles_per_accident), np.std(vehicles_per_accident)"
   ]
  },
  {
   "cell_type": "code",
   "execution_count": null,
   "metadata": {},
   "outputs": [],
   "source": []
  },
  {
   "cell_type": "code",
   "execution_count": 17,
   "metadata": {},
   "outputs": [
    {
     "data": {
      "text/plain": [
       "1      246276\n",
       "2      174592\n",
       "3       26208\n",
       "4        6030\n",
       "5        1555\n",
       "6         544\n",
       "7         224\n",
       "8          98\n",
       "9          55\n",
       "10         30\n",
       "11         15\n",
       "12          9\n",
       "13          5\n",
       "14          4\n",
       "15          2\n",
       "23          1\n",
       "16          1\n",
       "21          1\n",
       "22          1\n",
       "101         1\n",
       "Name: Vehicle_Reference, dtype: int64"
      ]
     },
     "execution_count": 17,
     "metadata": {},
     "output_type": "execute_result"
    }
   ],
   "source": [
    "df['Vehicle_Reference'].value_counts()"
   ]
  },
  {
   "cell_type": "code",
   "execution_count": 18,
   "metadata": {},
   "outputs": [
    {
     "data": {
      "text/plain": [
       "Car                                      326407\n",
       "Pedal cycle                               34434\n",
       "Van / Goods 3.5 tonnes mgw or under       23480\n",
       "Motorcycle 125cc and under                15217\n",
       "Motorcycle over 500cc                     11719\n",
       "Taxi/Private hire car                      9175\n",
       "Bus or coach (17 or more pass seats)       8482\n",
       "Goods 7.5 tonnes mgw and over              7888\n",
       "Motorcycle over 125cc and up to 500cc      3893\n",
       "Motorcycle 50cc and under                  3327\n",
       "Other vehicle                              2687\n",
       "Goods over 3.5t. and under 7.5t            2600\n",
       "Goods vehicle - unknown weight             2339\n",
       "Agricultural vehicle                        997\n",
       "Minibus (8 - 16 passenger seats)            843\n",
       "Motorcycle - unknown cc                     692\n",
       "-1                                          624\n",
       "Mobility scooter                            491\n",
       "Ridden horse                                198\n",
       "Electric motorcycle                         115\n",
       "Tram                                         44\n",
       "Name: Vehicle_Type, dtype: int64"
      ]
     },
     "execution_count": 18,
     "metadata": {},
     "output_type": "execute_result"
    }
   ],
   "source": [
    "df['Vehicle_Type'].value_counts()"
   ]
  },
  {
   "cell_type": "code",
   "execution_count": 19,
   "metadata": {},
   "outputs": [
    {
     "data": {
      "text/plain": [
       "No tow/articulation           445714\n",
       "Articulated vehicle             4734\n",
       "-1                              2709\n",
       "Single trailer                  1503\n",
       "Other tow                        616\n",
       "Caravan                          275\n",
       "Double or multiple trailer       101\n",
       "Name: Towing_and_Articulation, dtype: int64"
      ]
     },
     "execution_count": 19,
     "metadata": {},
     "output_type": "execute_result"
    }
   ],
   "source": [
    "df['Towing_and_Articulation'].value_counts()"
   ]
  },
  {
   "cell_type": "code",
   "execution_count": 20,
   "metadata": {},
   "outputs": [
    {
     "data": {
      "text/plain": [
       "Going ahead other                      220175\n",
       "Turning right                           43510\n",
       "Slowing or stopping                     33890\n",
       "Waiting to go - held up                 27397\n",
       "Moving off                              20902\n",
       "Parked                                  18684\n",
       "Going ahead right-hand bend             15963\n",
       "Turning left                            15102\n",
       "Going ahead left-hand bend              13782\n",
       "Overtaking moving vehicle - offside      8748\n",
       "Waiting to turn right                    6759\n",
       "Reversing                                6414\n",
       "Overtaking static vehicle - offside      5071\n",
       "Changing lane to right                   4259\n",
       "Changing lane to left                    3882\n",
       "U-turn                                   3450\n",
       "Overtaking - nearside                    2779\n",
       "-1                                       2714\n",
       "Waiting to turn left                     2171\n",
       "Name: Vehicle_Manoeuvre, dtype: int64"
      ]
     },
     "execution_count": 20,
     "metadata": {},
     "output_type": "execute_result"
    }
   ],
   "source": [
    "df['Vehicle_Manoeuvre'].value_counts()"
   ]
  },
  {
   "cell_type": "code",
   "execution_count": 21,
   "metadata": {},
   "outputs": [
    {
     "data": {
      "text/plain": [
       "On main c'way - not in restricted lane                            441911\n",
       "Footway (pavement)                                                  4706\n",
       "-1                                                                  2739\n",
       "Bus lane                                                            1786\n",
       "Cycle lane (on main carriageway)                                    1541\n",
       "On lay-by or hard shoulder                                          1258\n",
       "Cycleway or shared use footway (not part of  main carriageway)       621\n",
       "Leaving lay-by or hard shoulder                                      496\n",
       "Entering lay-by or hard shoulder                                     242\n",
       "Tram/Light rail track                                                206\n",
       "Busway (including guided busway)                                     146\n",
       "Name: Vehicle_Location-Restricted_Lane, dtype: int64"
      ]
     },
     "execution_count": 21,
     "metadata": {},
     "output_type": "execute_result"
    }
   ],
   "source": [
    "df['Vehicle_Location-Restricted_Lane'].value_counts()"
   ]
  },
  {
   "cell_type": "code",
   "execution_count": 22,
   "metadata": {},
   "outputs": [
    {
     "data": {
      "text/plain": [
       "Not at or within 20 metres of junction                         189281\n",
       "Approaching junction or waiting/parked at junction approach     99969\n",
       "Mid Junction - on roundabout or on main road                    89210\n",
       "Cleared junction or waiting/parked at junction exit             23611\n",
       "Entering main road                                              19472\n",
       "Entering roundabout                                             12638\n",
       "Leaving main road                                               11197\n",
       "Leaving roundabout                                               6769\n",
       "-1                                                               2007\n",
       "Entering from slip road                                          1498\n",
       "Name: Junction_Location, dtype: int64"
      ]
     },
     "execution_count": 22,
     "metadata": {},
     "output_type": "execute_result"
    }
   ],
   "source": [
    "df['Junction_Location'].value_counts()"
   ]
  },
  {
   "cell_type": "code",
   "execution_count": 23,
   "metadata": {},
   "outputs": [
    {
     "data": {
      "text/plain": [
       "None                         404696\n",
       "Skidded                       30783\n",
       "Overturned                     9078\n",
       "Skidded and overturned         7976\n",
       "-1                             2903\n",
       "Jackknifed                      126\n",
       "Jackknifed and overturned        90\n",
       "Name: Skidding_and_Overturning, dtype: int64"
      ]
     },
     "execution_count": 23,
     "metadata": {},
     "output_type": "execute_result"
    }
   ],
   "source": [
    "df['Skidding_and_Overturning'].value_counts()"
   ]
  },
  {
   "cell_type": "code",
   "execution_count": 24,
   "metadata": {},
   "outputs": [
    {
     "data": {
      "text/plain": [
       "None                                432957\n",
       "Parked vehicle                        7073\n",
       "Kerb                                  6679\n",
       "-1                                    3110\n",
       "Bollard or refuge                     2066\n",
       "Other object                          1304\n",
       "Open door of vehicle                   733\n",
       "Any animal (except ridden horse)       560\n",
       "Central island of roundabout           447\n",
       "Bridge (side)                          256\n",
       "Previous accident                      209\n",
       "Road works                             208\n",
       "Bridge (roof)                           50\n",
       "Name: Hit_Object_in_Carriageway, dtype: int64"
      ]
     },
     "execution_count": 24,
     "metadata": {},
     "output_type": "execute_result"
    }
   ],
   "source": [
    "df['Hit_Object_in_Carriageway'].value_counts()"
   ]
  },
  {
   "cell_type": "code",
   "execution_count": 25,
   "metadata": {},
   "outputs": [
    {
     "data": {
      "text/plain": [
       "Did not leave carriageway                404893\n",
       "Nearside                                  25298\n",
       "Offside                                   12679\n",
       "Nearside and rebounded                     3133\n",
       "-1                                         2933\n",
       "Offside on to central reservation          1885\n",
       "Straight ahead at junction                 1668\n",
       "Offside and rebounded                      1561\n",
       "Offside on to centrl res + rebounded       1201\n",
       "Offside - crossed central reservation       401\n",
       "Name: Vehicle_Leaving_Carriageway, dtype: int64"
      ]
     },
     "execution_count": 25,
     "metadata": {},
     "output_type": "execute_result"
    }
   ],
   "source": [
    "df['Vehicle_Leaving_Carriageway'].value_counts()"
   ]
  },
  {
   "cell_type": "code",
   "execution_count": 26,
   "metadata": {},
   "outputs": [
    {
     "data": {
      "text/plain": [
       "None                             423575\n",
       "Wall or fence                      5703\n",
       "Other permanent object             5699\n",
       "Tree                               4920\n",
       "Road sign or traffic signal        2997\n",
       "Entered ditch                      2869\n",
       "Lamp post                          2353\n",
       "Central crash barrier              2234\n",
       "Near/Offside crash barrier         2224\n",
       "-1                                 1846\n",
       "Telegraph or electricity pole       990\n",
       "Bus stop or bus shelter             212\n",
       "Submerged in water                   30\n",
       "Name: Hit_Object_off_Carriageway, dtype: int64"
      ]
     },
     "execution_count": 26,
     "metadata": {},
     "output_type": "execute_result"
    }
   ],
   "source": [
    "df['Hit_Object_off_Carriageway'].value_counts()"
   ]
  },
  {
   "cell_type": "code",
   "execution_count": 27,
   "metadata": {},
   "outputs": [
    {
     "data": {
      "text/plain": [
       "Front             224273\n",
       "Back               79154\n",
       "Offside            64621\n",
       "Nearside           58149\n",
       "Did not impact     26621\n",
       "-1                  2834\n",
       "Name: 1st_Point_of_Impact, dtype: int64"
      ]
     },
     "execution_count": 27,
     "metadata": {},
     "output_type": "execute_result"
    }
   ],
   "source": [
    "df['1st_Point_of_Impact'].value_counts()"
   ]
  },
  {
   "cell_type": "code",
   "execution_count": 28,
   "metadata": {},
   "outputs": [
    {
     "data": {
      "text/plain": [
       "No     449455\n",
       "-1       3762\n",
       "Yes      2435\n",
       "Name: Was_Vehicle_Left_Hand_Drive?, dtype: int64"
      ]
     },
     "execution_count": 28,
     "metadata": {},
     "output_type": "execute_result"
    }
   ],
   "source": [
    "df['Was_Vehicle_Left_Hand_Drive?'].value_counts()"
   ]
  },
  {
   "cell_type": "code",
   "execution_count": 29,
   "metadata": {},
   "outputs": [
    {
     "data": {
      "text/plain": [
       "Male         293729\n",
       "Female       127399\n",
       "Not known     34478\n",
       "-1               46\n",
       "Name: Sex_of_Driver, dtype: int64"
      ]
     },
     "execution_count": 29,
     "metadata": {},
     "output_type": "execute_result"
    }
   ],
   "source": [
    "df['Sex_of_Driver'].value_counts()"
   ]
  },
  {
   "cell_type": "code",
   "execution_count": 30,
   "metadata": {},
   "outputs": [
    {
     "data": {
      "text/plain": [
       "-1.0      51412\n",
       " 30.0     12940\n",
       " 25.0     10975\n",
       " 26.0     10268\n",
       " 24.0      9855\n",
       " 28.0      9745\n",
       " 27.0      9737\n",
       " 23.0      9709\n",
       " 29.0      9512\n",
       " 22.0      9361\n",
       " 21.0      9289\n",
       " 35.0      9100\n",
       " 20.0      8910\n",
       " 31.0      8824\n",
       " 32.0      8673\n",
       " 34.0      8603\n",
       " 33.0      8443\n",
       " 37.0      8400\n",
       " 36.0      8394\n",
       " 40.0      8336\n",
       " 45.0      8334\n",
       " 19.0      8276\n",
       " 50.0      8157\n",
       " 18.0      8087\n",
       " 46.0      7714\n",
       " 47.0      7532\n",
       " 48.0      7430\n",
       " 38.0      7415\n",
       " 44.0      7313\n",
       " 49.0      7313\n",
       "          ...  \n",
       " 85.0       695\n",
       " 13.0       694\n",
       " 12.0       606\n",
       " 86.0       577\n",
       " 87.0       487\n",
       " 11.0       448\n",
       " 88.0       405\n",
       " 10.0       299\n",
       " 89.0       285\n",
       " 90.0       246\n",
       " 9.0        200\n",
       " 91.0       155\n",
       " 8.0        133\n",
       " 92.0       112\n",
       " 7.0        104\n",
       " 93.0        87\n",
       " 6.0         71\n",
       " 94.0        60\n",
       " 5.0         53\n",
       " 4.0         28\n",
       " 95.0        27\n",
       " 96.0        19\n",
       " 3.0         12\n",
       " 97.0         9\n",
       " 98.0         5\n",
       " 1.0          4\n",
       " 99.0         2\n",
       " 2.0          2\n",
       " 100.0        1\n",
       " 101.0        1\n",
       "Name: Age_of_Driver, Length: 102, dtype: int64"
      ]
     },
     "execution_count": 30,
     "metadata": {},
     "output_type": "execute_result"
    }
   ],
   "source": [
    "df['Age_of_Driver'].value_counts()"
   ]
  },
  {
   "cell_type": "code",
   "execution_count": 31,
   "metadata": {},
   "outputs": [
    {
     "data": {
      "text/plain": [
       "-1.0        104497\n",
       " 1598.0      27107\n",
       " 1968.0      12893\n",
       " 998.0       12228\n",
       " 1560.0      11955\n",
       " 1242.0      11883\n",
       " 1995.0      11774\n",
       " 1997.0       9216\n",
       " 1596.0       7729\n",
       " 1896.0       7213\n",
       " 125.0        6930\n",
       " 1461.0       6442\n",
       " 124.0        6401\n",
       " 1796.0       6245\n",
       " 1390.0       5844\n",
       " 1998.0       5771\n",
       " 2143.0       5695\n",
       " 1229.0       5098\n",
       " 1198.0       5030\n",
       " 1248.0       5023\n",
       " 2198.0       4729\n",
       " 1398.0       4612\n",
       " 1149.0       4269\n",
       " 1360.0       3908\n",
       " 1364.0       3890\n",
       " 2993.0       3872\n",
       " 999.0        3779\n",
       " 1388.0       3470\n",
       " 1686.0       3301\n",
       " 1299.0       3207\n",
       "             ...  \n",
       " 1505.0          1\n",
       " 5500.0          1\n",
       " 3780.0          1\n",
       " 751.0           1\n",
       " 5999.0          1\n",
       " 5993.0          1\n",
       " 11950.0         1\n",
       " 6162.0          1\n",
       " 2330.0          1\n",
       " 6400.0          1\n",
       " 2361.0          1\n",
       " 3217.0          1\n",
       " 1608.0          1\n",
       " 3202.0          1\n",
       " 7000.0          1\n",
       " 294.0           1\n",
       " 3940.0          1\n",
       " 936.0           1\n",
       " 1179.0          1\n",
       " 1583.0          1\n",
       " 7200.0          1\n",
       " 3153.0          1\n",
       " 139.0           1\n",
       " 6276.0          1\n",
       " 7800.0          1\n",
       " 1566.0          1\n",
       " 5200.0          1\n",
       " 1550.0          1\n",
       " 6199.0          1\n",
       " 384.0           1\n",
       "Name: Engine_Capacity_(CC), Length: 1304, dtype: int64"
      ]
     },
     "execution_count": 31,
     "metadata": {},
     "output_type": "execute_result"
    }
   ],
   "source": [
    "df['Engine_Capacity_(CC)'].value_counts()"
   ]
  },
  {
   "cell_type": "code",
   "execution_count": 32,
   "metadata": {},
   "outputs": [
    {
     "data": {
      "text/plain": [
       "Petrol                 196018\n",
       "Heavy oil              150777\n",
       "-1                     103610\n",
       "Hybrid electric          4414\n",
       "Electric                  318\n",
       "Gas/Bi-fuel               283\n",
       "Electric diesel           115\n",
       "Petrol/Gas (LPG)           60\n",
       "Gas                        55\n",
       "New fuel technology         2\n",
       "Name: Propulsion_Code, dtype: int64"
      ]
     },
     "execution_count": 32,
     "metadata": {},
     "output_type": "execute_result"
    }
   ],
   "source": [
    "df['Propulsion_Code'].value_counts()"
   ]
  },
  {
   "cell_type": "code",
   "execution_count": 33,
   "metadata": {},
   "outputs": [
    {
     "data": {
      "text/plain": [
       "-1.0     120587\n",
       " 1.0      30004\n",
       " 2.0      26199\n",
       " 3.0      23719\n",
       " 10.0     22004\n",
       " 9.0      21783\n",
       " 4.0      21482\n",
       " 11.0     21256\n",
       " 12.0     20507\n",
       " 5.0      20038\n",
       " 8.0      19639\n",
       " 6.0      18926\n",
       " 13.0     18591\n",
       " 7.0      18559\n",
       " 14.0     16246\n",
       " 15.0     12375\n",
       " 16.0      8267\n",
       " 17.0      5201\n",
       " 18.0      3242\n",
       " 19.0      2028\n",
       " 20.0      1245\n",
       " 21.0       834\n",
       " 22.0       573\n",
       " 23.0       448\n",
       " 24.0       310\n",
       " 26.0       250\n",
       " 25.0       241\n",
       " 27.0       193\n",
       " 28.0       122\n",
       " 29.0       122\n",
       "          ...  \n",
       " 54.0        12\n",
       " 57.0        11\n",
       " 48.0        11\n",
       " 52.0        10\n",
       " 56.0         9\n",
       " 45.0         8\n",
       " 44.0         8\n",
       " 55.0         7\n",
       " 51.0         7\n",
       " 50.0         7\n",
       " 43.0         7\n",
       " 61.0         6\n",
       " 46.0         6\n",
       " 58.0         5\n",
       " 60.0         5\n",
       " 59.0         5\n",
       " 53.0         5\n",
       " 47.0         4\n",
       " 70.0         3\n",
       " 65.0         3\n",
       " 74.0         2\n",
       " 67.0         2\n",
       " 64.0         2\n",
       " 69.0         2\n",
       " 75.0         2\n",
       " 68.0         2\n",
       " 62.0         1\n",
       " 78.0         1\n",
       " 85.0         1\n",
       " 63.0         1\n",
       "Name: Age_of_Vehicle, Length: 74, dtype: int64"
      ]
     },
     "execution_count": 33,
     "metadata": {},
     "output_type": "execute_result"
    }
   ],
   "source": [
    "df['Age_of_Vehicle'].value_counts()"
   ]
  },
  {
   "cell_type": "code",
   "execution_count": 34,
   "metadata": {},
   "outputs": [
    {
     "data": {
      "text/plain": [
       "-1.0     142964\n",
       " 2.0      34879\n",
       " 1.0      34109\n",
       " 3.0      33772\n",
       " 4.0      33567\n",
       " 5.0      32504\n",
       " 6.0      31750\n",
       " 7.0      30262\n",
       " 8.0      29022\n",
       " 9.0      27939\n",
       " 10.0     24884\n",
       "Name: Driver_IMD_Decile, dtype: int64"
      ]
     },
     "execution_count": 34,
     "metadata": {},
     "output_type": "execute_result"
    }
   ],
   "source": [
    "df['Driver_IMD_Decile'].value_counts()"
   ]
  },
  {
   "cell_type": "code",
   "execution_count": 35,
   "metadata": {},
   "outputs": [
    {
     "data": {
      "text/plain": [
       " 1.0    276409\n",
       "-1.0    105644\n",
       " 3.0     41860\n",
       " 2.0     31739\n",
       "Name: Driver_Home_Area_Type, dtype: int64"
      ]
     },
     "execution_count": 35,
     "metadata": {},
     "output_type": "execute_result"
    }
   ],
   "source": [
    "df['Driver_Home_Area_Type'].value_counts()"
   ]
  },
  {
   "cell_type": "code",
   "execution_count": 36,
   "metadata": {},
   "outputs": [
    {
     "data": {
      "text/plain": [
       "-1.0     142964\n",
       " 2.0      34879\n",
       " 1.0      34109\n",
       " 3.0      33772\n",
       " 4.0      33567\n",
       " 5.0      32504\n",
       " 6.0      31750\n",
       " 7.0      30262\n",
       " 8.0      29022\n",
       " 9.0      27939\n",
       " 10.0     24884\n",
       "Name: Vehicle_IMD_Decile, dtype: int64"
      ]
     },
     "execution_count": 36,
     "metadata": {},
     "output_type": "execute_result"
    }
   ],
   "source": [
    "df['Vehicle_IMD_Decile'].value_counts()"
   ]
  },
  {
   "cell_type": "code",
   "execution_count": null,
   "metadata": {},
   "outputs": [],
   "source": []
  }
 ],
 "metadata": {
  "kernelspec": {
   "display_name": "Python 3",
   "language": "python",
   "name": "python3"
  },
  "language_info": {
   "codemirror_mode": {
    "name": "ipython",
    "version": 3
   },
   "file_extension": ".py",
   "mimetype": "text/x-python",
   "name": "python",
   "nbconvert_exporter": "python",
   "pygments_lexer": "ipython3",
   "version": "3.5.2"
  }
 },
 "nbformat": 4,
 "nbformat_minor": 2
}
